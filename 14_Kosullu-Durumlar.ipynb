{
 "cells": [
  {
   "cell_type": "markdown",
   "id": "75baf68c-cf69-429b-9e39-b1717d646b30",
   "metadata": {},
   "source": [
    "# If"
   ]
  },
  {
   "cell_type": "code",
   "execution_count": null,
   "id": "165379cd-d14e-4e17-b48d-005d00efbff2",
   "metadata": {},
   "outputs": [],
   "source": [
    "# if koşulu sağlanıyorsa yazılan işlem gerçekleştirilir\n",
    "# Girintiler önemlidir!\n",
    "if 1>0:\n",
    "    print(\"Hello World\")"
   ]
  },
  {
   "cell_type": "code",
   "execution_count": null,
   "id": "8c88b7a8-99bc-496d-ad33-288e8bb1dce1",
   "metadata": {},
   "outputs": [],
   "source": [
    "sayi = int(input(\"Bir sayı giriniz: \"))\n",
    "if sayi > 0:\n",
    "    print(\"{} pozitif bir sayıdır.\".format(sayi))"
   ]
  },
  {
   "cell_type": "markdown",
   "id": "05d2b130-9a5f-4f21-b770-13e8720d4b23",
   "metadata": {},
   "source": [
    "# else"
   ]
  },
  {
   "cell_type": "code",
   "execution_count": null,
   "id": "e357c6b0-e31e-4f3a-940e-0f85182f72d5",
   "metadata": {},
   "outputs": [],
   "source": [
    "# Hiçbir koşul sağlanmıyorsa else çalışır, tek başına kullanılamaz\n",
    "sayi = int(input(\"Bir sayı giriniz: \"))\n",
    "if sayi > 0:\n",
    "    print(f\"{sayi} pozitif bir sayıdır.\")\n",
    "else:\n",
    "    print(f\"{sayi} negatif bir sayıdır.\")"
   ]
  },
  {
   "cell_type": "markdown",
   "id": "d458e4d1-03ba-497a-8ed3-d82e96dd0f82",
   "metadata": {},
   "source": [
    "# elif"
   ]
  },
  {
   "cell_type": "code",
   "execution_count": null,
   "id": "ceb9017d-ebaf-4003-ad4a-d8d7f9ba6f49",
   "metadata": {},
   "outputs": [],
   "source": [
    "#if koşulu sağlanmıyorsa ve kendisinden önce yazılmış olan elif koşulları sağlanmıyorsa çalışır\n",
    "sayi = int(input(\"Bir sayı giriniz: \"))\n",
    "if sayi > 0:\n",
    "    print(f\"{sayi} pozitif bir sayıdır.\")\n",
    "elif sayi == 0:\n",
    "    print(f\"{sayi} nötr bir sayıdır.\")\n",
    "else:\n",
    "    print(f\"{sayi} negatif bir sayıdır.\")"
   ]
  },
  {
   "cell_type": "code",
   "execution_count": null,
   "id": "5465f95c-f7f2-4858-b852-4058ce261228",
   "metadata": {},
   "outputs": [],
   "source": [
    "vize = int(input(\"Vize notunuzu giriniz: \"))\n",
    "final = int(input(\"Final notunuzu giriniz: \"))\n",
    "toplam = (vize*0.4) + (final*0.6)\n",
    "\n",
    "if toplam >= 90:\n",
    "    print(f\"\"\"\n",
    "Ortalamanız {toplam}, \n",
    "Harf notunuz: AA\n",
    "    \"\"\")\n",
    "elif toplam >= 80:\n",
    "    print(f\"\"\"\n",
    "Ortalamanız {toplam}, \n",
    "Harf notunuz: BA\n",
    "    \"\"\")\n",
    "elif toplam >= 70:\n",
    "    print(f\"\"\"\n",
    "Ortalamanız {toplam}, \n",
    "Harf notunuz: BB\n",
    "    \"\"\")\n",
    "elif toplam >= 65:\n",
    "    print(f\"\"\"\n",
    "Ortalamanız {toplam}, \n",
    "Harf notunuz: CB\n",
    "    \"\"\")\n",
    "elif toplam >= 60:\n",
    "    print(f\"\"\"\n",
    "Ortalamanız {toplam}, \n",
    "Harf notunuz: CC\n",
    "    \"\"\")\n",
    "else:\n",
    "    print(f\"\"\"\n",
    "Ortalamanız {toplam}, dersten kaldınız.\n",
    "    \"\"\")\n"
   ]
  }
 ],
 "metadata": {
  "kernelspec": {
   "display_name": "Python 3 (ipykernel)",
   "language": "python",
   "name": "python3"
  },
  "language_info": {
   "codemirror_mode": {
    "name": "ipython",
    "version": 3
   },
   "file_extension": ".py",
   "mimetype": "text/x-python",
   "name": "python",
   "nbconvert_exporter": "python",
   "pygments_lexer": "ipython3",
   "version": "3.9.7"
  }
 },
 "nbformat": 4,
 "nbformat_minor": 5
}
