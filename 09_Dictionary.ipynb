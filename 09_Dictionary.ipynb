{
 "cells": [
  {
   "cell_type": "markdown",
   "id": "28122113-4ad7-4011-8f32-f52dd3dc0d74",
   "metadata": {},
   "source": [
    "# Dictionary (Sözlük)"
   ]
  },
  {
   "cell_type": "code",
   "execution_count": null,
   "id": "e24f14ac-160a-479d-b311-106ac5b84140",
   "metadata": {},
   "outputs": [],
   "source": [
    "#Sözlüklerde key:value ilişkisi söz konusudur\n",
    "my_dict={\"key\":\"value\"}"
   ]
  },
  {
   "cell_type": "code",
   "execution_count": null,
   "id": "5f1af994-dbf2-4416-90f0-030fcad4b490",
   "metadata": {},
   "outputs": [],
   "source": [
    "my_dict"
   ]
  },
  {
   "cell_type": "code",
   "execution_count": null,
   "id": "493933d1-cd7d-47b1-a0a8-d5dd4912d1f4",
   "metadata": {},
   "outputs": [],
   "source": [
    "#Sözlüğümüzdeki key'i çağırmak için dict[key] ifadesini kullanırız\n",
    "my_dict[\"key\"]"
   ]
  },
  {
   "cell_type": "code",
   "execution_count": null,
   "id": "8a386a57-171e-4764-92ec-1401db91f1a3",
   "metadata": {},
   "outputs": [],
   "source": [
    "lang={1:\"Python\",2:\"C\",3:\"JS\"}"
   ]
  },
  {
   "cell_type": "code",
   "execution_count": null,
   "id": "e1024066-81be-4e55-aa00-d26bf204e56c",
   "metadata": {},
   "outputs": [],
   "source": [
    "lang[1]"
   ]
  },
  {
   "cell_type": "code",
   "execution_count": null,
   "id": "d268000a-281f-4423-aa64-f5dc617e9fec",
   "metadata": {},
   "outputs": [],
   "source": [
    "#Sözlük yapısında index çağıramayız\n",
    "lang[0]"
   ]
  },
  {
   "cell_type": "code",
   "execution_count": null,
   "id": "857c0f6d-092e-4585-af71-5a95f1809012",
   "metadata": {},
   "outputs": [],
   "source": [
    "#Alternatif yazım biçimi\n",
    "lang2={\n",
    "    1:\"R\",\n",
    "    2:\"Go\",\n",
    "    3:\"Swift\"\n",
    "}"
   ]
  },
  {
   "cell_type": "code",
   "execution_count": null,
   "id": "1bad86db-1e04-45df-8c90-dd37c5a23139",
   "metadata": {},
   "outputs": [],
   "source": [
    "lang2[1]"
   ]
  },
  {
   "cell_type": "code",
   "execution_count": null,
   "id": "ca8f4d55-fdba-4380-be47-d9a0bca4e4b5",
   "metadata": {},
   "outputs": [],
   "source": [
    "len(lang)"
   ]
  },
  {
   "cell_type": "code",
   "execution_count": null,
   "id": "2cd0c137-161d-419c-8053-1b485877b3ef",
   "metadata": {},
   "outputs": [],
   "source": [
    "lang2={\n",
    "    1:\"R\",\n",
    "    2:\"Go\",\n",
    "    3:\"Swift\"\n",
    "}"
   ]
  },
  {
   "cell_type": "code",
   "execution_count": null,
   "id": "dfb38e72-b015-4b5a-9ace-b28c5dc9ec62",
   "metadata": {},
   "outputs": [],
   "source": [
    "#dict.items() bize hem key hem value döndürür\n",
    "lang.items()"
   ]
  },
  {
   "cell_type": "code",
   "execution_count": null,
   "id": "64957dd0-4fae-447a-aebb-bf8443ee0769",
   "metadata": {},
   "outputs": [],
   "source": [
    "#dict.keys() bize keyleri döndürür\n",
    "lang.keys()"
   ]
  },
  {
   "cell_type": "code",
   "execution_count": null,
   "id": "faa9c67b-1409-464b-8f38-5bdb97a9b090",
   "metadata": {},
   "outputs": [],
   "source": [
    "#dict.values() bize valueları döndürür\n",
    "lang.values()"
   ]
  },
  {
   "cell_type": "code",
   "execution_count": null,
   "id": "b71ebcc9-b43e-4d1d-a62f-a43c07013cb7",
   "metadata": {},
   "outputs": [],
   "source": [
    "print(lang)"
   ]
  },
  {
   "cell_type": "code",
   "execution_count": null,
   "id": "ba68d6de-e475-4498-93ea-018a1549a57c",
   "metadata": {},
   "outputs": [],
   "source": [
    "#Sözlük içinde sözlük veya sözlük içinde liste yapısı kullanmak mümkündür\n",
    "lang3 = {\n",
    "    \"ios\":[\"Swift\",\"Flutter\",\"Objective-C\"],\n",
    "    \"Andorid\":[\"Kotlin\",\"Java\",\"Flutter\"],\n",
    "}"
   ]
  },
  {
   "cell_type": "code",
   "execution_count": null,
   "id": "148122f9-758b-44bd-9b90-e55631ec7642",
   "metadata": {},
   "outputs": [],
   "source": [
    "lang3[\"ios\"][0]"
   ]
  },
  {
   "cell_type": "code",
   "execution_count": null,
   "id": "e8103521-8dc9-40fb-9429-ae4b81423b1d",
   "metadata": {},
   "outputs": [],
   "source": [
    "lang4 = {\n",
    "    \"ios\":[{\"Swift\":\"Native\"},{\"Flutter\":\"Cross\"}],\n",
    "    \"Andorid\":[\"Kotlin\",\"Java\",\"Flutter\"],\n",
    "}"
   ]
  },
  {
   "cell_type": "code",
   "execution_count": null,
   "id": "3267c5c8-0c8a-4a91-80af-6f485ef2c6a1",
   "metadata": {},
   "outputs": [],
   "source": [
    "lang4"
   ]
  },
  {
   "cell_type": "code",
   "execution_count": null,
   "id": "1bd8406d-3548-4f88-9cd9-24e05c2d2e8c",
   "metadata": {},
   "outputs": [],
   "source": [
    "lang4[\"ios\"]"
   ]
  },
  {
   "cell_type": "code",
   "execution_count": null,
   "id": "819dbce7-b3ef-4920-8e2d-d86b1c251da9",
   "metadata": {},
   "outputs": [],
   "source": [
    "lang4[\"ios\"][0]"
   ]
  },
  {
   "cell_type": "code",
   "execution_count": null,
   "id": "0f7548e5-806b-4963-9e30-3fbade0d5006",
   "metadata": {},
   "outputs": [],
   "source": [
    "lang4[\"ios\"][0][\"Swift\"]"
   ]
  },
  {
   "cell_type": "code",
   "execution_count": null,
   "id": "9c7d2579-4c91-4c6c-9757-e04eb3700c4c",
   "metadata": {},
   "outputs": [],
   "source": [
    "lang4.keys()"
   ]
  },
  {
   "cell_type": "code",
   "execution_count": null,
   "id": "015e6e95-e516-4477-9f93-bb71e962a9de",
   "metadata": {},
   "outputs": [],
   "source": [
    "lang4[\"ios\"][0].keys()"
   ]
  },
  {
   "cell_type": "code",
   "execution_count": null,
   "id": "8807ea50-b526-438e-bf75-f91df1ce9d36",
   "metadata": {},
   "outputs": [],
   "source": [
    "lang={1:\"Python\",2:\"C\",3:\"JS\"}"
   ]
  },
  {
   "cell_type": "code",
   "execution_count": null,
   "id": "fc103125-5910-4f60-8831-a78cbef295b6",
   "metadata": {},
   "outputs": [],
   "source": [
    "x = lang[1]"
   ]
  },
  {
   "cell_type": "code",
   "execution_count": null,
   "id": "919b04f0-860c-4f34-8db8-7e72fab324bd",
   "metadata": {},
   "outputs": [],
   "source": [
    "x"
   ]
  },
  {
   "cell_type": "code",
   "execution_count": null,
   "id": "8d23870f-b760-43fc-85be-2372bcbbd304",
   "metadata": {},
   "outputs": [],
   "source": [
    "y = lang.get(1)"
   ]
  },
  {
   "cell_type": "code",
   "execution_count": null,
   "id": "1c19b933-3bd0-41fe-a757-9ff2f7267caa",
   "metadata": {},
   "outputs": [],
   "source": [
    "y"
   ]
  },
  {
   "cell_type": "code",
   "execution_count": null,
   "id": "581244bb-a592-47ab-9d06-d36feacb859a",
   "metadata": {},
   "outputs": [],
   "source": [
    "#1 anahtar kelimesini bulur ve değeri ile birlikte sözlükten çıkartır\n",
    "lang.pop(1)"
   ]
  },
  {
   "cell_type": "code",
   "execution_count": null,
   "id": "8406522e-026d-4aae-b594-a28c6463d6b8",
   "metadata": {},
   "outputs": [],
   "source": [
    "lang"
   ]
  },
  {
   "cell_type": "code",
   "execution_count": null,
   "id": "ff38010c-b274-4e8b-8aeb-5b5529608ad4",
   "metadata": {},
   "outputs": [],
   "source": [
    "#.uptade() key=1 value=Python olan değerimizi sözlüğümüze ekler\n",
    "lang.update({1:\"Python\"})"
   ]
  },
  {
   "cell_type": "code",
   "execution_count": null,
   "id": "993ce287-ad15-42e0-9217-f91ee989a19f",
   "metadata": {},
   "outputs": [],
   "source": [
    "lang"
   ]
  },
  {
   "cell_type": "code",
   "execution_count": null,
   "id": "53b29be5-b62f-4433-ab75-6d72a383afd0",
   "metadata": {},
   "outputs": [],
   "source": [
    "#sözlüğün son itemını sözlükten çıkartır\n",
    "lang.popitem()"
   ]
  },
  {
   "cell_type": "code",
   "execution_count": null,
   "id": "d95b1020-8dc2-4113-8115-570cf9ee61da",
   "metadata": {},
   "outputs": [],
   "source": [
    "lang"
   ]
  },
  {
   "cell_type": "code",
   "execution_count": null,
   "id": "db860cfd-6cdc-439b-bb5a-9ba1ca0f444f",
   "metadata": {},
   "outputs": [],
   "source": [
    "#dict[1]=\"Python\" key=1 value=Python olan değerimizi sözlüğümüze ekler\n",
    "lang[1] = \"Python\""
   ]
  },
  {
   "cell_type": "code",
   "execution_count": null,
   "id": "7eb5f346-ab9f-4f6d-b632-9ba642bc7a40",
   "metadata": {},
   "outputs": [],
   "source": [
    "lang"
   ]
  },
  {
   "cell_type": "code",
   "execution_count": null,
   "id": "80d6df79-d1a2-4b84-bbb1-6277019d93ff",
   "metadata": {},
   "outputs": [],
   "source": [
    "lang[1] = \"Java\""
   ]
  },
  {
   "cell_type": "code",
   "execution_count": null,
   "id": "31eea585-862d-4b13-bdf0-4e9699e730c6",
   "metadata": {},
   "outputs": [],
   "source": [
    "lang"
   ]
  },
  {
   "cell_type": "code",
   "execution_count": null,
   "id": "1431c893-1c45-4d2e-8f1f-0838322a69ee",
   "metadata": {},
   "outputs": [],
   "source": [
    "#del dict[1] key=1 value=Python olan değerimizi sözlüğümüzden siler\n",
    "del lang[1]"
   ]
  },
  {
   "cell_type": "code",
   "execution_count": null,
   "id": "75f45fd2-e68d-4319-af3b-d4ba576e6790",
   "metadata": {},
   "outputs": [],
   "source": [
    "lang"
   ]
  },
  {
   "cell_type": "code",
   "execution_count": null,
   "id": "e9afcc96-5710-489a-b7b0-eca091837275",
   "metadata": {},
   "outputs": [],
   "source": [
    "#sözlüğün içerisindeki tüm itemlerı siler\n",
    "lang.clear()"
   ]
  },
  {
   "cell_type": "code",
   "execution_count": null,
   "id": "550e12b0-4795-4efb-902a-a8071b2c3db2",
   "metadata": {},
   "outputs": [],
   "source": [
    "lang"
   ]
  },
  {
   "cell_type": "code",
   "execution_count": null,
   "id": "8e7ec2cb-6413-4375-94ae-6374d43eaf3a",
   "metadata": {},
   "outputs": [],
   "source": [
    "lang2"
   ]
  },
  {
   "cell_type": "code",
   "execution_count": null,
   "id": "73a8ad78-e0bf-4ebc-b5ef-abcde13955ad",
   "metadata": {},
   "outputs": [],
   "source": [
    "# lang2 elemanlarını lang sözlüğüne atamak istediğimizde .copy metodunu kullanmazsak lang içerisinde yapılan işlemler lang2'yi etkiler\n",
    "lang = lang2.copy()"
   ]
  },
  {
   "cell_type": "code",
   "execution_count": null,
   "id": "73ca569e-17f4-4121-9497-0365f6f87c00",
   "metadata": {},
   "outputs": [],
   "source": [
    "lang"
   ]
  },
  {
   "cell_type": "code",
   "execution_count": null,
   "id": "4810019b-123c-4c12-b9a8-8d9645a60604",
   "metadata": {},
   "outputs": [],
   "source": [
    "lang.clear()"
   ]
  },
  {
   "cell_type": "code",
   "execution_count": null,
   "id": "a8bb5461-8e04-45b8-ac37-17c0db9d53ff",
   "metadata": {},
   "outputs": [],
   "source": [
    "lang"
   ]
  },
  {
   "cell_type": "code",
   "execution_count": null,
   "id": "0016ea2b-a1c1-41f6-a921-84ba03779320",
   "metadata": {},
   "outputs": [],
   "source": [
    "lang = lang2"
   ]
  },
  {
   "cell_type": "code",
   "execution_count": null,
   "id": "4b12fbc9-2a67-489c-aa84-753024ea2487",
   "metadata": {},
   "outputs": [],
   "source": [
    "print(lang)\n",
    "print(lang2)"
   ]
  },
  {
   "cell_type": "code",
   "execution_count": null,
   "id": "db2a4d24-38a4-44a8-b124-a3e9ecf1ff9a",
   "metadata": {},
   "outputs": [],
   "source": [
    "lang.clear()"
   ]
  },
  {
   "cell_type": "code",
   "execution_count": null,
   "id": "b3e74a01-2a26-402a-8cfd-7bf5d248edc1",
   "metadata": {},
   "outputs": [],
   "source": [
    "lang"
   ]
  },
  {
   "cell_type": "code",
   "execution_count": null,
   "id": "1f3b5b54-9ced-434c-b3cf-d1313ea42a30",
   "metadata": {},
   "outputs": [],
   "source": [
    "lang2"
   ]
  },
  {
   "cell_type": "code",
   "execution_count": null,
   "id": "09456e77-2df0-47a4-baab-9337f899c98d",
   "metadata": {},
   "outputs": [],
   "source": [
    "lang={1:\"Python\",2:\"C\",3:\"JS\"}\n",
    "lang2={\n",
    "    1:\"R\",\n",
    "    2:\"Go\",\n",
    "    3:\"Swift\"\n",
    "}"
   ]
  },
  {
   "cell_type": "code",
   "execution_count": null,
   "id": "62f3296b-189b-4bff-9bb1-4e470d4d66ef",
   "metadata": {},
   "outputs": [],
   "source": [
    "print(lang)\n",
    "print(lang2)"
   ]
  },
  {
   "cell_type": "code",
   "execution_count": null,
   "id": "8a261a3d-719d-4e37-925d-3fd2cc8eae5c",
   "metadata": {},
   "outputs": [],
   "source": [
    "lang = lang2"
   ]
  },
  {
   "cell_type": "code",
   "execution_count": null,
   "id": "0c90c29c-1fb4-41db-8f8c-4d5f661498c5",
   "metadata": {},
   "outputs": [],
   "source": [
    "print(lang)\n",
    "print(lang2)"
   ]
  },
  {
   "cell_type": "code",
   "execution_count": null,
   "id": "1faff352-4d0d-48bf-a69e-59d84013de3c",
   "metadata": {},
   "outputs": [],
   "source": [
    "lang.clear()"
   ]
  },
  {
   "cell_type": "code",
   "execution_count": null,
   "id": "e5d4538a-5381-44ba-8c29-fe2721651f7f",
   "metadata": {},
   "outputs": [],
   "source": [
    "print(lang)\n",
    "print(lang2)"
   ]
  }
 ],
 "metadata": {
  "kernelspec": {
   "display_name": "Python 3 (ipykernel)",
   "language": "python",
   "name": "python3"
  },
  "language_info": {
   "codemirror_mode": {
    "name": "ipython",
    "version": 3
   },
   "file_extension": ".py",
   "mimetype": "text/x-python",
   "name": "python",
   "nbconvert_exporter": "python",
   "pygments_lexer": "ipython3",
   "version": "3.9.7"
  }
 },
 "nbformat": 4,
 "nbformat_minor": 5
}
