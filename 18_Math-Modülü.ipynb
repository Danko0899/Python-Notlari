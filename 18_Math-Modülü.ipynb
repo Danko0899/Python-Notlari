{
 "cells": [
  {
   "cell_type": "markdown",
   "id": "3f8d87d7-ab43-4c03-802d-887f2fdc60bf",
   "metadata": {},
   "source": [
    "# Math"
   ]
  },
  {
   "cell_type": "code",
   "execution_count": null,
   "id": "6887fc0c-103c-47ad-8c9a-85626ba5f715",
   "metadata": {},
   "outputs": [],
   "source": [
    "#min() en küçük değeri döndürür.\n",
    "#max() en büyük değeri döndürür.\n",
    "x = min(5, 10, 25)\n",
    "y = max(5, 10, 25)\n",
    "\n",
    "print(x)\n",
    "print(y)"
   ]
  },
  {
   "cell_type": "code",
   "execution_count": null,
   "id": "544738c2-a100-45b3-9156-d2fbf488e506",
   "metadata": {},
   "outputs": [],
   "source": [
    "#abs() mutlak değeri döndürür\n",
    "x = abs(-7.25)\n",
    "\n",
    "print(x)"
   ]
  },
  {
   "cell_type": "code",
   "execution_count": null,
   "id": "a8530690-3b76-44fc-8933-3552ec8c7b42",
   "metadata": {},
   "outputs": [],
   "source": [
    "4**3"
   ]
  },
  {
   "cell_type": "code",
   "execution_count": null,
   "id": "841b8497-3bb8-4eea-8707-964dcfae93e3",
   "metadata": {},
   "outputs": [],
   "source": [
    "#pow() x üzeri y işlemini gerçekleştirir. x**y ile aynı sonucu döndürür.\n",
    "x = pow(4, 3)\n",
    "\n",
    "print(x)"
   ]
  },
  {
   "cell_type": "code",
   "execution_count": null,
   "id": "5c69c012-c13f-4b8a-8dc7-e153d0812a7f",
   "metadata": {},
   "outputs": [],
   "source": [
    "import math"
   ]
  },
  {
   "cell_type": "code",
   "execution_count": null,
   "id": "d61b29b6-a674-4e51-b814-7d4a59ef8ce3",
   "metadata": {},
   "outputs": [],
   "source": [
    "x = m.pow(4, 3)\n",
    "\n",
    "print(x)"
   ]
  },
  {
   "cell_type": "code",
   "execution_count": null,
   "id": "8678a962-e0ce-4b3b-b894-4acf16cceebf",
   "metadata": {},
   "outputs": [],
   "source": [
    "#Math kütüphanesinde sqrt() karekök bulmamıza yardımcı olur\n",
    "x = math.sqrt(64)\n",
    "print(x)"
   ]
  },
  {
   "cell_type": "code",
   "execution_count": null,
   "id": "3deead3d-d7c7-48f9-8de6-36263144ecf5",
   "metadata": {},
   "outputs": [],
   "source": [
    "#ceil() yukarı yuvarlama işlemi gerçekleştirir\n",
    "#floor()\n",
    "x = math.ceil(1.4)\n",
    "y = math.floor(1.4)\n",
    "\n",
    "print(x) # returns 2\n",
    "print(y) # returns 1"
   ]
  },
  {
   "cell_type": "code",
   "execution_count": null,
   "id": "84d732fb-f110-4c29-b3e9-d1e321f5b3f5",
   "metadata": {},
   "outputs": [],
   "source": [
    "#pi() ppi sayısını döndürür\n",
    "x = math.pi\n",
    "\n",
    "print(x)"
   ]
  },
  {
   "cell_type": "code",
   "execution_count": null,
   "id": "c9d42112-bb2b-4fb3-b5cb-7751299d0f24",
   "metadata": {},
   "outputs": [],
   "source": [
    "#cos() yazmış olduğumuz sayının\n",
    "x = math.cos(45)\n",
    "\n",
    "print(x)"
   ]
  }
 ],
 "metadata": {
  "kernelspec": {
   "display_name": "Python 3 (ipykernel)",
   "language": "python",
   "name": "python3"
  },
  "language_info": {
   "codemirror_mode": {
    "name": "ipython",
    "version": 3
   },
   "file_extension": ".py",
   "mimetype": "text/x-python",
   "name": "python",
   "nbconvert_exporter": "python",
   "pygments_lexer": "ipython3",
   "version": "3.9.7"
  }
 },
 "nbformat": 4,
 "nbformat_minor": 5
}
