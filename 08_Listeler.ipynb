{
 "cells": [
  {
   "cell_type": "markdown",
   "id": "5fc4ae94-7213-409c-9a17-a64d378155b3",
   "metadata": {},
   "source": [
    "# Listeler"
   ]
  },
  {
   "cell_type": "code",
   "execution_count": null,
   "id": "3ac39522-b51d-48bb-8a7e-c16365ddba79",
   "metadata": {},
   "outputs": [],
   "source": [
    "#Listelerimizi köşeli parantezle [] oluştururuz\n",
    "liste = [1,2,3,4,5]\n",
    "type(liste)"
   ]
  },
  {
   "cell_type": "code",
   "execution_count": null,
   "id": "e4fa31d0-75c0-4b85-9a02-c2e2b28674e0",
   "metadata": {},
   "outputs": [],
   "source": [
    "#Farklı veri tiplerini listeler içinde saklayabiliriz\n",
    "liste2 = [1,2,3,4,5, \"Antalya\", \"Bursa\", \"İstanbul\"]\n",
    "liste2"
   ]
  },
  {
   "cell_type": "code",
   "execution_count": null,
   "id": "536d6659-442b-4b9f-b809-1214d085ee19",
   "metadata": {},
   "outputs": [],
   "source": [
    "liste2[1]"
   ]
  },
  {
   "cell_type": "code",
   "execution_count": null,
   "id": "804c276c-dbc2-4fc5-beb6-559a9020536c",
   "metadata": {},
   "outputs": [],
   "source": [
    "#Boş liste tanımlıyoruz\n",
    "bos_liste = []"
   ]
  },
  {
   "cell_type": "code",
   "execution_count": null,
   "id": "3881c9f7-f57a-4ce3-bed2-4472125205a4",
   "metadata": {},
   "outputs": [],
   "source": [
    "bos_liste"
   ]
  },
  {
   "cell_type": "code",
   "execution_count": null,
   "id": "65f0ee8e-1132-45d9-952b-79cebb2f737f",
   "metadata": {},
   "outputs": [],
   "source": [
    "bos_liste2 = list()"
   ]
  },
  {
   "cell_type": "code",
   "execution_count": null,
   "id": "a697a5dc-bcc4-4a61-bb93-c4fbe8b381b2",
   "metadata": {},
   "outputs": [],
   "source": [
    "bos_liste2"
   ]
  },
  {
   "cell_type": "code",
   "execution_count": null,
   "id": "1e2f0ce4-2715-40e4-8cb6-20de7970a1b9",
   "metadata": {},
   "outputs": [],
   "source": [
    "a = list(\"Emirhan\")"
   ]
  },
  {
   "cell_type": "code",
   "execution_count": null,
   "id": "7a370ba3-55cb-4c9f-8d6a-8ff870ffcb6b",
   "metadata": {},
   "outputs": [],
   "source": [
    "a"
   ]
  },
  {
   "cell_type": "code",
   "execution_count": null,
   "id": "51f03fb8-5272-4b44-af15-ea06fbed3a9a",
   "metadata": {},
   "outputs": [],
   "source": [
    "#int veya float değerleri listeye çeviremeyiz, hata alırız\n",
    "a = list(22)"
   ]
  },
  {
   "cell_type": "code",
   "execution_count": null,
   "id": "730af842-f6a1-4ff6-bdee-694f778be6aa",
   "metadata": {},
   "outputs": [],
   "source": [
    "a = list(\"Emirhan\")"
   ]
  },
  {
   "cell_type": "code",
   "execution_count": null,
   "id": "12c07c4c-76cd-4c3f-86a3-141d5af23808",
   "metadata": {},
   "outputs": [],
   "source": [
    "b = list(a)"
   ]
  },
  {
   "cell_type": "code",
   "execution_count": null,
   "id": "bfeafedf-992b-4040-ba54-175e596860e1",
   "metadata": {},
   "outputs": [],
   "source": [
    "b"
   ]
  },
  {
   "cell_type": "code",
   "execution_count": null,
   "id": "94b62c42-adda-4b1c-ae7c-ca984094156d",
   "metadata": {},
   "outputs": [],
   "source": [
    "c = a+b"
   ]
  },
  {
   "cell_type": "code",
   "execution_count": null,
   "id": "265508f8-49c2-4132-a89b-7a2a923aa9ce",
   "metadata": {},
   "outputs": [],
   "source": [
    "c"
   ]
  },
  {
   "cell_type": "code",
   "execution_count": null,
   "id": "e131d9ab-f648-4b75-99fb-c9b5286df2aa",
   "metadata": {},
   "outputs": [],
   "source": [
    "len(c)"
   ]
  },
  {
   "cell_type": "code",
   "execution_count": null,
   "id": "05bd118e-608c-4bef-a788-9f39c80bd296",
   "metadata": {},
   "outputs": [],
   "source": [
    "c[0:7]"
   ]
  },
  {
   "cell_type": "code",
   "execution_count": null,
   "id": "e1ce7c7c-5ca6-4440-9776-d7b9bfc77276",
   "metadata": {},
   "outputs": [],
   "source": [
    "c[7:]"
   ]
  },
  {
   "cell_type": "code",
   "execution_count": null,
   "id": "ba7ed2ca-8eda-495b-9625-08f61b54182b",
   "metadata": {},
   "outputs": [],
   "source": [
    "c[::-1]"
   ]
  },
  {
   "cell_type": "code",
   "execution_count": null,
   "id": "32e2eedb-30e6-4e39-9d9f-07b48d160ac0",
   "metadata": {},
   "outputs": [],
   "source": [
    "print(c * 2)"
   ]
  },
  {
   "cell_type": "code",
   "execution_count": null,
   "id": "4e25dd88-b37e-4cfb-99a8-a44f1f71adb7",
   "metadata": {},
   "outputs": [],
   "source": [
    "c"
   ]
  },
  {
   "cell_type": "code",
   "execution_count": null,
   "id": "11042cff-7edd-4a14-aef7-572368a5a55d",
   "metadata": {},
   "outputs": [],
   "source": [
    "#Stringin harflerini eleman olarak ekler\n",
    "c += \"Ali\""
   ]
  },
  {
   "cell_type": "code",
   "execution_count": null,
   "id": "fcefdd81-bb74-471b-b724-894ec16af72a",
   "metadata": {},
   "outputs": [],
   "source": [
    "c"
   ]
  },
  {
   "cell_type": "code",
   "execution_count": null,
   "id": "f5505283-437b-4165-aeb4-c4f092d78a4a",
   "metadata": {},
   "outputs": [],
   "source": [
    "#Stringin tamamını tek bir eleman olarak ekler\n",
    "c += [\"Mehmet\"]"
   ]
  },
  {
   "cell_type": "code",
   "execution_count": null,
   "id": "5fe4fa06-ed55-4e52-ac09-0c452711a15a",
   "metadata": {},
   "outputs": [],
   "source": [
    "c"
   ]
  },
  {
   "cell_type": "code",
   "execution_count": null,
   "id": "0e782e9c-a441-4a7f-bb0a-7e28542e89b1",
   "metadata": {},
   "outputs": [],
   "source": [
    "#listemize .append metodu ile eleman ekleyebiliriz\n",
    "c.append(\"Ayşe\")"
   ]
  },
  {
   "cell_type": "code",
   "execution_count": null,
   "id": "f8221c6b-aa13-4f7d-aad9-6f39ccba975e",
   "metadata": {},
   "outputs": [],
   "source": [
    "c"
   ]
  },
  {
   "cell_type": "code",
   "execution_count": null,
   "id": "37e2b2f2-e443-4531-a8b2-b77dd3cf0a22",
   "metadata": {},
   "outputs": [],
   "source": [
    "#Stringlerden eleman çıkartmak için -= metodunu kullanamayız\n",
    "c -= \"Ayşe\""
   ]
  },
  {
   "cell_type": "code",
   "execution_count": null,
   "id": "4f7e517e-6b9f-4238-ab2d-0eef839653d4",
   "metadata": {},
   "outputs": [],
   "source": [
    "#listenin son elamanını listeden çıkartır\n",
    "c.pop()"
   ]
  },
  {
   "cell_type": "code",
   "execution_count": null,
   "id": "c671d263-406f-49cd-9535-a9fd079c6012",
   "metadata": {},
   "outputs": [],
   "source": [
    "c"
   ]
  },
  {
   "cell_type": "code",
   "execution_count": null,
   "id": "4017d072-d21c-42a2-87cf-cc4a9462f569",
   "metadata": {},
   "outputs": [],
   "source": [
    "#len metodunu index sayısını öğrenmek için kullanabiliriz.\n",
    "len(c)"
   ]
  },
  {
   "cell_type": "code",
   "execution_count": null,
   "id": "b0156c71-3eb1-4e5b-aad0-f5016bc1c597",
   "metadata": {},
   "outputs": [],
   "source": [
    "#pop metodunu indexlerle kullanabiliriz, çıkartmak istediğimiz elemanı yazarsak hata alırız\n",
    "# c.pop(\"Mehmet\") -> Hatalı yazım\n",
    "c.pop(17)"
   ]
  },
  {
   "cell_type": "code",
   "execution_count": null,
   "id": "f33b543b-be51-4a2f-a4e6-313568a5b3a3",
   "metadata": {},
   "outputs": [],
   "source": [
    "#listenin 0.indexini listeden çıkartır\n",
    "c.pop(0)"
   ]
  },
  {
   "cell_type": "code",
   "execution_count": null,
   "id": "f39dfce5-1182-49bb-91b8-4ad2b1643618",
   "metadata": {},
   "outputs": [],
   "source": [
    "c"
   ]
  },
  {
   "cell_type": "code",
   "execution_count": null,
   "id": "fb2d2aeb-65c8-4574-a8c9-cb1011945c14",
   "metadata": {},
   "outputs": [],
   "source": [
    "# \"E\" stringini bulup listeden çıkartır\n",
    "c.remove(\"E\")"
   ]
  },
  {
   "cell_type": "code",
   "execution_count": null,
   "id": "1e29cc71-1c02-4239-8ba3-991e6459989f",
   "metadata": {},
   "outputs": [],
   "source": [
    "c"
   ]
  },
  {
   "cell_type": "code",
   "execution_count": null,
   "id": "7de6eba3-256c-401d-a2b1-0de0d1f72d94",
   "metadata": {},
   "outputs": [],
   "source": [
    "#Çıkartmak istediğimiz eleman liste içerisinde birden fazla var ise ilk indexi çıkartır\n",
    "c.remove(\"m\")"
   ]
  },
  {
   "cell_type": "code",
   "execution_count": null,
   "id": "84f0f707-f7c2-433d-8678-2e996fc10c81",
   "metadata": {},
   "outputs": [],
   "source": [
    "c"
   ]
  },
  {
   "cell_type": "code",
   "execution_count": null,
   "id": "cb9925bb-1a4b-483a-ab50-a28c27ce8e5e",
   "metadata": {},
   "outputs": [],
   "source": [
    "#Küçükten büyüğe doğru sıralar\n",
    "c.sort()"
   ]
  },
  {
   "cell_type": "code",
   "execution_count": null,
   "id": "22afa64a-dd49-4e4f-99d1-1885f42c1ae2",
   "metadata": {},
   "outputs": [],
   "source": [
    "c"
   ]
  },
  {
   "cell_type": "code",
   "execution_count": null,
   "id": "3c30d491-e1b1-42c6-8eef-23f6cc2bc29c",
   "metadata": {},
   "outputs": [],
   "source": [
    "d = [1,2,3,4,5,6]"
   ]
  },
  {
   "cell_type": "code",
   "execution_count": null,
   "id": "e62ecfb3-2f0b-4295-be90-f8364f680c8e",
   "metadata": {},
   "outputs": [],
   "source": [
    "#Büyükten küçüğe doğru sıralar\n",
    "d.sort(reverse=True)"
   ]
  },
  {
   "cell_type": "code",
   "execution_count": null,
   "id": "b6e01880-3c38-4d3a-91cd-0c9f3b6de436",
   "metadata": {},
   "outputs": [],
   "source": [
    "d"
   ]
  },
  {
   "cell_type": "code",
   "execution_count": null,
   "id": "799bb643-0ee3-494a-a3d9-cfe11c4960e2",
   "metadata": {},
   "outputs": [],
   "source": [
    "c.sort(reverse = True)"
   ]
  },
  {
   "cell_type": "code",
   "execution_count": null,
   "id": "9a44284e-df10-49d3-806b-8af5b4070f8d",
   "metadata": {},
   "outputs": [],
   "source": [
    "c"
   ]
  },
  {
   "cell_type": "code",
   "execution_count": null,
   "id": "6b55e822-19f1-4a16-adb1-e04811884843",
   "metadata": {},
   "outputs": [],
   "source": [
    "#count yazmış olduğumuz değerin liste içerisinde kaç defa tekrarladığını görmemizi sağlar\n",
    "c.count(\"i\")"
   ]
  },
  {
   "cell_type": "code",
   "execution_count": null,
   "id": "959ccc97-a96b-4a2e-8d3d-7cd3a2bddd78",
   "metadata": {},
   "outputs": [],
   "source": [
    "c[0]"
   ]
  },
  {
   "cell_type": "code",
   "execution_count": null,
   "id": "3691e0ac-cd4a-4e1b-bd00-8ee2973074b1",
   "metadata": {},
   "outputs": [],
   "source": [
    "c[0] = \"Emir\""
   ]
  },
  {
   "cell_type": "code",
   "execution_count": null,
   "id": "f16ebb65-1504-430d-93f0-f4a440a041f6",
   "metadata": {},
   "outputs": [],
   "source": [
    "c"
   ]
  },
  {
   "cell_type": "code",
   "execution_count": null,
   "id": "59e96929-f227-4b60-a66f-b567860869cd",
   "metadata": {},
   "outputs": [],
   "source": [
    "x = [0,1,2,3]\n",
    "y = [4,5,6,7]\n",
    "z = [8,9,10,11]"
   ]
  },
  {
   "cell_type": "code",
   "execution_count": null,
   "id": "8b089e36-8771-4028-89d5-fc521003f968",
   "metadata": {},
   "outputs": [],
   "source": [
    "x,y,z "
   ]
  },
  {
   "cell_type": "code",
   "execution_count": null,
   "id": "a0966d56-9f35-4c69-b097-24638951a4bd",
   "metadata": {},
   "outputs": [],
   "source": [
    "#3 listeyi bir tuple oluşturup liste variable'ına atadık\n",
    "liste = x,y,z"
   ]
  },
  {
   "cell_type": "code",
   "execution_count": null,
   "id": "5c279682-e6a5-4917-a1cb-57f5e6eab72e",
   "metadata": {},
   "outputs": [],
   "source": [
    "liste"
   ]
  },
  {
   "cell_type": "code",
   "execution_count": null,
   "id": "b0cad408-d8c7-4a1f-ba7d-9e2161bcdbac",
   "metadata": {},
   "outputs": [],
   "source": [
    "len(liste)"
   ]
  },
  {
   "cell_type": "code",
   "execution_count": null,
   "id": "fb96637f-9ca7-4dc0-b550-c4ac722847b8",
   "metadata": {},
   "outputs": [],
   "source": [
    "liste2 = []"
   ]
  },
  {
   "cell_type": "code",
   "execution_count": null,
   "id": "50c8c91e-02b5-4bcb-8b13-3f83b423e21b",
   "metadata": {},
   "outputs": [],
   "source": [
    "liste2"
   ]
  },
  {
   "cell_type": "code",
   "execution_count": null,
   "id": "aa4afa98-d389-4fcf-86a9-f39672458379",
   "metadata": {},
   "outputs": [],
   "source": [
    "liste2.append(x)"
   ]
  },
  {
   "cell_type": "code",
   "execution_count": null,
   "id": "4f55afda-322a-4919-a1da-9348fd3cbeba",
   "metadata": {},
   "outputs": [],
   "source": [
    "liste2"
   ]
  },
  {
   "cell_type": "code",
   "execution_count": null,
   "id": "badf05b8-7db1-4334-ab19-b475ded156b3",
   "metadata": {},
   "outputs": [],
   "source": [
    "len"
   ]
  },
  {
   "cell_type": "code",
   "execution_count": null,
   "id": "b9490510-2d48-4341-ac64-d010a551d6f5",
   "metadata": {},
   "outputs": [],
   "source": [
    "liste2.append(y)\n",
    "liste2.append(z)"
   ]
  },
  {
   "cell_type": "code",
   "execution_count": null,
   "id": "3b12bbc5-47ea-4faa-899e-eb3e2ce76f4f",
   "metadata": {},
   "outputs": [],
   "source": [
    "liste2"
   ]
  },
  {
   "cell_type": "code",
   "execution_count": null,
   "id": "e52858b7-6861-4bf3-89be-9292d7de4b8e",
   "metadata": {},
   "outputs": [],
   "source": [
    "liste2[2][2]"
   ]
  }
 ],
 "metadata": {
  "kernelspec": {
   "display_name": "Python 3 (ipykernel)",
   "language": "python",
   "name": "python3"
  },
  "language_info": {
   "codemirror_mode": {
    "name": "ipython",
    "version": 3
   },
   "file_extension": ".py",
   "mimetype": "text/x-python",
   "name": "python",
   "nbconvert_exporter": "python",
   "pygments_lexer": "ipython3",
   "version": "3.9.7"
  }
 },
 "nbformat": 4,
 "nbformat_minor": 5
}
