{
 "cells": [
  {
   "cell_type": "code",
   "execution_count": 6,
   "id": "3eb5778a-cd5c-47e0-83dd-b981ff8a7986",
   "metadata": {},
   "outputs": [
    {
     "name": "stdout",
     "output_type": "stream",
     "text": [
      "[0, 1, 2, 3, 4, 5, 6, 7, 8, 9, 10, 11, 12, 13, 14, 15, 16, 17, 18, 19]\n"
     ]
    },
    {
     "name": "stdin",
     "output_type": "stream",
     "text": [
      "Tahmininizi giriniz 6\n"
     ]
    },
    {
     "name": "stdout",
     "output_type": "stream",
     "text": [
      "Tebrikler doğru cevap.\n",
      "[0, 1, 2, 3, 4, 5, 6, 7, 8, 9, 10, 11, 12, 13, 14, 15, 16, 17, 18, 19]\n"
     ]
    },
    {
     "name": "stdin",
     "output_type": "stream",
     "text": [
      "Tahmininizi giriniz 6\n"
     ]
    },
    {
     "name": "stdout",
     "output_type": "stream",
     "text": [
      "Tebrikler doğru cevap.\n",
      "[0, 1, 2, 3, 4, 5, 6, 7, 8, 9, 10, 11, 12, 13, 14, 15, 16, 17, 18, 19]\n"
     ]
    },
    {
     "name": "stdin",
     "output_type": "stream",
     "text": [
      "Tahmininizi giriniz 6\n"
     ]
    },
    {
     "name": "stdout",
     "output_type": "stream",
     "text": [
      "Tebrikler doğru cevap.\n"
     ]
    }
   ],
   "source": [
    "\n",
    "x = list(range(20))\n",
    "\n",
    "counter = 3\n",
    "\n",
    "while True:\n",
    "    counter -=1\n",
    "    print(x)\n",
    "    tahmin = int(input(\"Tahmininizi giriniz\"))\n",
    "    dogru_sayi = random.choice(x)\n",
    "    \n",
    "    if dogru_sayi == tahmin:\n",
    "        print(\"Tebrikler doğru cevap.\")\n",
    "        \n",
    "    elif dogru_sayi != tahmin:\n",
    "        print(f\"Cevap Hatalı!, doğru cevap{dogru_sayi}\")\n",
    "        \n",
    "    if counter == 0:\n",
    "        break   "
   ]
  },
  {
   "cell_type": "code",
   "execution_count": 7,
   "id": "d96ffa35-2795-4dab-bd91-769372bd40af",
   "metadata": {},
   "outputs": [],
   "source": [
    "dogru_sayi = random.choice(x)"
   ]
  },
  {
   "cell_type": "code",
   "execution_count": 23,
   "id": "5c67c2c9-7a92-4278-92ba-e28e9d96eb70",
   "metadata": {},
   "outputs": [
    {
     "name": "stdout",
     "output_type": "stream",
     "text": [
      "[0, 1, 2, 3, 4, 5, 6, 7, 8, 9]\n"
     ]
    },
    {
     "name": "stdin",
     "output_type": "stream",
     "text": [
      "Tahmininizi giriniz:  3\n"
     ]
    },
    {
     "name": "stdout",
     "output_type": "stream",
     "text": [
      "3\n",
      "Hatalı cevap\n",
      "[0, 1, 2, 3, 4, 5, 6, 7, 8, 9]\n"
     ]
    },
    {
     "name": "stdin",
     "output_type": "stream",
     "text": [
      "Tahmininizi giriniz:  5\n"
     ]
    },
    {
     "name": "stdout",
     "output_type": "stream",
     "text": [
      "5\n",
      "Doğru\n",
      "[0, 1, 2, 3, 4, 5, 6, 7, 8, 9]\n"
     ]
    },
    {
     "name": "stdin",
     "output_type": "stream",
     "text": [
      "Tahmininizi giriniz:  9\n"
     ]
    },
    {
     "name": "stdout",
     "output_type": "stream",
     "text": [
      "9\n",
      "Hatalı cevap\n"
     ]
    }
   ],
   "source": [
    "liste = list(range(10))\n",
    "\n",
    "can = 3\n",
    "\n",
    "while True:\n",
    "    print(liste)\n",
    "    can -=1\n",
    "    dogru = random.choice(liste)\n",
    "    tahmin = int(input(\"Tahmininizi giriniz: \"))\n",
    "    print(tahmin)\n",
    "    \n",
    "    if tahmin == dogru:\n",
    "        print(\"Doğru\")\n",
    "        \n",
    "    elif tahmin != dogru:\n",
    "        print(\"Hatalı cevap\")\n",
    "        \n",
    "    if can == 0:\n",
    "        break"
   ]
  },
  {
   "cell_type": "code",
   "execution_count": 7,
   "id": "a87ce6c3-e4c4-42c5-8e92-5db2d63a0c9b",
   "metadata": {},
   "outputs": [
    {
     "name": "stdin",
     "output_type": "stream",
     "text": [
      "Kullanıcı Adınızı Giriniz: Emirhan\n",
      "Şifrenizi Giriniz 123\n"
     ]
    },
    {
     "name": "stdout",
     "output_type": "stream",
     "text": [
      "Şifre Yanlış\n"
     ]
    },
    {
     "name": "stdin",
     "output_type": "stream",
     "text": [
      "Kullanıcı Adınızı Giriniz: Emirhan\n",
      "Şifrenizi Giriniz 1234\n"
     ]
    },
    {
     "name": "stdout",
     "output_type": "stream",
     "text": [
      "Giriş Yaptınız\n"
     ]
    },
    {
     "ename": "KeyboardInterrupt",
     "evalue": "Interrupted by user",
     "output_type": "error",
     "traceback": [
      "\u001b[0;31m---------------------------------------------------------------------------\u001b[0m",
      "\u001b[0;31mKeyboardInterrupt\u001b[0m                         Traceback (most recent call last)",
      "\u001b[0;32m/var/folders/9z/tjzz8zxs1pb6xhf18tm4kbtm0000gn/T/ipykernel_1784/513565336.py\u001b[0m in \u001b[0;36m<module>\u001b[0;34m\u001b[0m\n\u001b[1;32m      2\u001b[0m \u001b[0msys_sifre\u001b[0m \u001b[0;34m=\u001b[0m \u001b[0;34m\"1234\"\u001b[0m\u001b[0;34m\u001b[0m\u001b[0;34m\u001b[0m\u001b[0m\n\u001b[1;32m      3\u001b[0m \u001b[0;32mwhile\u001b[0m \u001b[0;32mTrue\u001b[0m\u001b[0;34m:\u001b[0m\u001b[0;34m\u001b[0m\u001b[0;34m\u001b[0m\u001b[0m\n\u001b[0;32m----> 4\u001b[0;31m     \u001b[0mkullanici\u001b[0m \u001b[0;34m=\u001b[0m \u001b[0minput\u001b[0m\u001b[0;34m(\u001b[0m\u001b[0;34m\"Kullanıcı Adınızı Giriniz:\"\u001b[0m\u001b[0;34m)\u001b[0m\u001b[0;34m\u001b[0m\u001b[0;34m\u001b[0m\u001b[0m\n\u001b[0m\u001b[1;32m      5\u001b[0m     \u001b[0msifre\u001b[0m \u001b[0;34m=\u001b[0m \u001b[0minput\u001b[0m\u001b[0;34m(\u001b[0m\u001b[0;34m\"Şifrenizi Giriniz\"\u001b[0m\u001b[0;34m)\u001b[0m\u001b[0;34m\u001b[0m\u001b[0;34m\u001b[0m\u001b[0m\n\u001b[1;32m      6\u001b[0m \u001b[0;34m\u001b[0m\u001b[0m\n",
      "\u001b[0;32m~/opt/anaconda3/lib/python3.9/site-packages/ipykernel/kernelbase.py\u001b[0m in \u001b[0;36mraw_input\u001b[0;34m(self, prompt)\u001b[0m\n\u001b[1;32m   1004\u001b[0m                 \u001b[0;34m\"raw_input was called, but this frontend does not support input requests.\"\u001b[0m\u001b[0;34m\u001b[0m\u001b[0;34m\u001b[0m\u001b[0m\n\u001b[1;32m   1005\u001b[0m             )\n\u001b[0;32m-> 1006\u001b[0;31m         return self._input_request(\n\u001b[0m\u001b[1;32m   1007\u001b[0m             \u001b[0mstr\u001b[0m\u001b[0;34m(\u001b[0m\u001b[0mprompt\u001b[0m\u001b[0;34m)\u001b[0m\u001b[0;34m,\u001b[0m\u001b[0;34m\u001b[0m\u001b[0;34m\u001b[0m\u001b[0m\n\u001b[1;32m   1008\u001b[0m             \u001b[0mself\u001b[0m\u001b[0;34m.\u001b[0m\u001b[0m_parent_ident\u001b[0m\u001b[0;34m[\u001b[0m\u001b[0;34m\"shell\"\u001b[0m\u001b[0;34m]\u001b[0m\u001b[0;34m,\u001b[0m\u001b[0;34m\u001b[0m\u001b[0;34m\u001b[0m\u001b[0m\n",
      "\u001b[0;32m~/opt/anaconda3/lib/python3.9/site-packages/ipykernel/kernelbase.py\u001b[0m in \u001b[0;36m_input_request\u001b[0;34m(self, prompt, ident, parent, password)\u001b[0m\n\u001b[1;32m   1049\u001b[0m             \u001b[0;32mexcept\u001b[0m \u001b[0mKeyboardInterrupt\u001b[0m\u001b[0;34m:\u001b[0m\u001b[0;34m\u001b[0m\u001b[0;34m\u001b[0m\u001b[0m\n\u001b[1;32m   1050\u001b[0m                 \u001b[0;31m# re-raise KeyboardInterrupt, to truncate traceback\u001b[0m\u001b[0;34m\u001b[0m\u001b[0;34m\u001b[0m\u001b[0m\n\u001b[0;32m-> 1051\u001b[0;31m                 \u001b[0;32mraise\u001b[0m \u001b[0mKeyboardInterrupt\u001b[0m\u001b[0;34m(\u001b[0m\u001b[0;34m\"Interrupted by user\"\u001b[0m\u001b[0;34m)\u001b[0m \u001b[0;32mfrom\u001b[0m \u001b[0;32mNone\u001b[0m\u001b[0;34m\u001b[0m\u001b[0;34m\u001b[0m\u001b[0m\n\u001b[0m\u001b[1;32m   1052\u001b[0m             \u001b[0;32mexcept\u001b[0m \u001b[0mException\u001b[0m\u001b[0;34m:\u001b[0m\u001b[0;34m\u001b[0m\u001b[0;34m\u001b[0m\u001b[0m\n\u001b[1;32m   1053\u001b[0m                 \u001b[0mself\u001b[0m\u001b[0;34m.\u001b[0m\u001b[0mlog\u001b[0m\u001b[0;34m.\u001b[0m\u001b[0mwarning\u001b[0m\u001b[0;34m(\u001b[0m\u001b[0;34m\"Invalid Message:\"\u001b[0m\u001b[0;34m,\u001b[0m \u001b[0mexc_info\u001b[0m\u001b[0;34m=\u001b[0m\u001b[0;32mTrue\u001b[0m\u001b[0;34m)\u001b[0m\u001b[0;34m\u001b[0m\u001b[0;34m\u001b[0m\u001b[0m\n",
      "\u001b[0;31mKeyboardInterrupt\u001b[0m: Interrupted by user"
     ]
    }
   ],
   "source": [
    "sys_kullanici = \"Emirhan\"\n",
    "sys_sifre = \"1234\"\n",
    "while True:\n",
    "    kullanici = input(\"Kullanıcı Adınızı Giriniz:\")\n",
    "    sifre = input(\"Şifrenizi Giriniz\")\n",
    "    \n",
    "    if sys_kullanici == kullanici and sys_sifre == sifre:\n",
    "        print(\"Giriş Yaptınız\")\n",
    "    elif sys_kullanici == kullanici and sys_sifre != sifre:\n",
    "        print(\"Şifre Yanlış\")\n",
    "    elif sys_kullanici != kullanici and sys_sifre == sifre:\n",
    "        print(\"Kullanıcı adı yanlış\")\n",
    "    else:\n",
    "        print(\"Böyle bir kullanıcı bulunmamaktadır\")"
   ]
  },
  {
   "cell_type": "code",
   "execution_count": 17,
   "id": "8a597eee-d844-41c7-9aee-f4fd98ebdd65",
   "metadata": {},
   "outputs": [
    {
     "name": "stdout",
     "output_type": "stream",
     "text": [
      "Farklı\n",
      "Go\n",
      "Farklı\n"
     ]
    }
   ],
   "source": [
    "liste = {1: \"Python\", 2:\"Go\", 3:\"Swift\"}\n",
    "\n",
    "for i in liste.keys():\n",
    "    if i !=2:\n",
    "        print(\"Farklı\")\n",
    "    elif i == 2:\n",
    "        print(\"Go\")"
   ]
  },
  {
   "cell_type": "code",
   "execution_count": null,
   "id": "e0ac349c-6720-47a0-8bb3-e82834413bae",
   "metadata": {},
   "outputs": [],
   "source": []
  }
 ],
 "metadata": {
  "kernelspec": {
   "display_name": "Python 3 (ipykernel)",
   "language": "python",
   "name": "python3"
  },
  "language_info": {
   "codemirror_mode": {
    "name": "ipython",
    "version": 3
   },
   "file_extension": ".py",
   "mimetype": "text/x-python",
   "name": "python",
   "nbconvert_exporter": "python",
   "pygments_lexer": "ipython3",
   "version": "3.9.7"
  }
 },
 "nbformat": 4,
 "nbformat_minor": 5
}
