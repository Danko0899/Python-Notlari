{
 "cells": [
  {
   "cell_type": "markdown",
   "id": "f6978c53-28d2-4541-a30f-927466ac8fe3",
   "metadata": {},
   "source": [
    "# Break"
   ]
  },
  {
   "cell_type": "code",
   "execution_count": null,
   "id": "ae207d91-e967-479a-aac2-8bc7b9219b03",
   "metadata": {},
   "outputs": [],
   "source": [
    "#işlemimizi durdurmak için kullanırız\n",
    "i = 1\n",
    "while i < 6:\n",
    "    print(i)\n",
    "    if i == 3:\n",
    "        break\n",
    "    i += 1"
   ]
  },
  {
   "cell_type": "code",
   "execution_count": null,
   "id": "e5620714-821d-4413-857e-96857220d49f",
   "metadata": {},
   "outputs": [],
   "source": [
    "liste = [1,2,3,4,5,6,7,8,9,10]\n",
    "for i in liste:\n",
    "    print(i)\n",
    "    if i-7==0:\n",
    "        break"
   ]
  },
  {
   "cell_type": "markdown",
   "id": "9f86f789-a289-40dd-9fa2-58a832f36544",
   "metadata": {},
   "source": [
    "# Continue"
   ]
  },
  {
   "cell_type": "code",
   "execution_count": null,
   "id": "165de847-0e10-40de-b6b8-501bdadadac6",
   "metadata": {},
   "outputs": [],
   "source": [
    "# sadece mevcut durumu pas geçmek için kullanırız\n",
    "liste = [1,2,3,4,5,6,7,8,9,10]\n",
    "for i in liste:\n",
    "    if i%2==0:\n",
    "        continue\n",
    "    print(i)"
   ]
  },
  {
   "cell_type": "markdown",
   "id": "25e3f498-c71c-4e8b-970c-d536579e544e",
   "metadata": {},
   "source": [
    "# Pass"
   ]
  },
  {
   "cell_type": "code",
   "execution_count": null,
   "id": "d9b0f90b-dd76-4a43-b522-917db9d7bff9",
   "metadata": {},
   "outputs": [],
   "source": [
    "x=10\n",
    "y=7"
   ]
  },
  {
   "cell_type": "code",
   "execution_count": null,
   "id": "715288c4-3b4a-458a-a591-d1a7dfe98ee5",
   "metadata": {},
   "outputs": [],
   "source": [
    "if x > y:\n",
    "    print(\"x büyüktür y\")\n",
    "elif y < x:"
   ]
  },
  {
   "cell_type": "code",
   "execution_count": null,
   "id": "6efa647c-7c32-4a04-b394-b7b3dd5ce3b9",
   "metadata": {},
   "outputs": [],
   "source": [
    "# pass henüz işlemi yazmadıysak görmezden gelmek için kullanabiliriz\n",
    "if x > y:\n",
    "    print(\"x büyüktür y\")\n",
    "elif y < x:\n",
    "    pass"
   ]
  },
  {
   "cell_type": "code",
   "execution_count": null,
   "id": "1c1b9950-0224-408d-b043-d0a0c1c0b874",
   "metadata": {},
   "outputs": [],
   "source": []
  }
 ],
 "metadata": {
  "kernelspec": {
   "display_name": "Python 3 (ipykernel)",
   "language": "python",
   "name": "python3"
  },
  "language_info": {
   "codemirror_mode": {
    "name": "ipython",
    "version": 3
   },
   "file_extension": ".py",
   "mimetype": "text/x-python",
   "name": "python",
   "nbconvert_exporter": "python",
   "pygments_lexer": "ipython3",
   "version": "3.9.7"
  }
 },
 "nbformat": 4,
 "nbformat_minor": 5
}
