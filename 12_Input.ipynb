{
 "cells": [
  {
   "cell_type": "markdown",
   "id": "78c8b0d1-1a02-4dc2-9405-f376c8e4af32",
   "metadata": {},
   "source": [
    "# Input"
   ]
  },
  {
   "cell_type": "code",
   "execution_count": null,
   "id": "632f6fb0-620b-450a-bccb-1981a7d39c4a",
   "metadata": {},
   "outputs": [],
   "source": [
    "#Kullanıcıdan bir girdi almak istediğimizde input() kullanırız\n",
    "#inputlar string olarak gelir\n",
    "input(\"Bir değer giriniz: \")"
   ]
  },
  {
   "cell_type": "code",
   "execution_count": null,
   "id": "d784b4cf-9e18-4724-a124-2b364b32afaf",
   "metadata": {},
   "outputs": [],
   "source": [
    "#Kullanıcıdan girdi almak için input() fonksiyonunu kullanıyoruz ve bunu tutmak için bir değişkene atıyoruz.\n",
    "isim = input(\"İsminizi Giriniz: \")"
   ]
  },
  {
   "cell_type": "code",
   "execution_count": null,
   "id": "2862b1a3-187e-4436-b878-4817bb20d43c",
   "metadata": {},
   "outputs": [],
   "source": [
    "isim"
   ]
  },
  {
   "cell_type": "code",
   "execution_count": null,
   "id": "75464c82-5184-400b-a4ef-f234453ba434",
   "metadata": {},
   "outputs": [],
   "source": [
    "#Alınan girdinin değişken türünü integer olarak değiştiriyoruz\n",
    "yıl = int(input(\"Doğum Yılınızı Giriniz: \"))"
   ]
  },
  {
   "cell_type": "code",
   "execution_count": null,
   "id": "c1445b87-b11a-44d0-938c-3449baf4df6f",
   "metadata": {},
   "outputs": [],
   "source": [
    "yıl"
   ]
  },
  {
   "cell_type": "code",
   "execution_count": null,
   "id": "1e8f465e-75ca-4da1-b38f-231b35784e32",
   "metadata": {},
   "outputs": [],
   "source": [
    "#Alınan girdinin değişken türünü float olarak değiştiriyoruz\n",
    "floatDeger = float(input(\"Float bir değer giriniz: \"))"
   ]
  },
  {
   "cell_type": "code",
   "execution_count": null,
   "id": "881adc91-4642-457d-9b7f-dfcb5c58f140",
   "metadata": {},
   "outputs": [],
   "source": [
    "floatDeger"
   ]
  },
  {
   "cell_type": "code",
   "execution_count": null,
   "id": "6f6da2cf-86cf-4dec-ab49-a7880598d529",
   "metadata": {},
   "outputs": [],
   "source": [
    "x = float(input(\"Float bir değer giriniz: \"))\n",
    "y = float(input(\"ikinci değer: \"))\n",
    "\n",
    "x+y"
   ]
  }
 ],
 "metadata": {
  "kernelspec": {
   "display_name": "Python 3 (ipykernel)",
   "language": "python",
   "name": "python3"
  },
  "language_info": {
   "codemirror_mode": {
    "name": "ipython",
    "version": 3
   },
   "file_extension": ".py",
   "mimetype": "text/x-python",
   "name": "python",
   "nbconvert_exporter": "python",
   "pygments_lexer": "ipython3",
   "version": "3.9.7"
  }
 },
 "nbformat": 4,
 "nbformat_minor": 5
}
