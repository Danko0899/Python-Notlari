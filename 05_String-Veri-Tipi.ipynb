{
 "cells": [
  {
   "cell_type": "markdown",
   "id": "e3646ec8-aa45-478c-970f-a404b992e206",
   "metadata": {},
   "source": [
    "# String\n",
    "Karakterlerden oluşan veri tipidir"
   ]
  },
  {
   "cell_type": "code",
   "execution_count": null,
   "id": "64b004ff-f903-4a0a-80bd-ea9afeacdc0e",
   "metadata": {},
   "outputs": [],
   "source": [
    "'Hello World!'"
   ]
  },
  {
   "cell_type": "code",
   "execution_count": null,
   "id": "1c465b02-d94f-47f6-9333-c26952b9d767",
   "metadata": {},
   "outputs": [],
   "source": [
    "\"Hello World!\""
   ]
  },
  {
   "cell_type": "code",
   "execution_count": null,
   "id": "f6f6a137-1175-4dc6-bd34-5ceaee988e62",
   "metadata": {},
   "outputs": [],
   "source": [
    "'''Hello World!'''"
   ]
  },
  {
   "cell_type": "code",
   "execution_count": null,
   "id": "eaba1c94-dacb-4440-ad92-bcddaa7c752a",
   "metadata": {},
   "outputs": [],
   "source": [
    "\"\"\"Hello World!\"\"\""
   ]
  },
  {
   "cell_type": "code",
   "execution_count": null,
   "id": "f655de1f-7c6e-47bb-acf8-406429951767",
   "metadata": {},
   "outputs": [],
   "source": [
    "#Tırnak işaretimiz nasıl başladıysa o şekilde bitirmemiz gerekir\n",
    "\"Hello World!'"
   ]
  },
  {
   "cell_type": "code",
   "execution_count": null,
   "id": "7b741639-9909-447a-94f2-34915f3fc113",
   "metadata": {},
   "outputs": [],
   "source": [
    "\"\"Hello World!\""
   ]
  },
  {
   "cell_type": "code",
   "execution_count": null,
   "id": "73e87bcb-360f-4bae-bf9f-91633c0a9843",
   "metadata": {},
   "outputs": [],
   "source": [
    "#Üç tırnak kullanılan ifadelerde alt satırlara geçiş yapabiliriz.\n",
    "print('''Hello\n",
    "World!''')"
   ]
  },
  {
   "cell_type": "code",
   "execution_count": null,
   "id": "2ac4c4fa-b74d-45fa-be39-af61142c51c6",
   "metadata": {},
   "outputs": [],
   "source": [
    "print(\"\"\"Hello\n",
    "        World!\"\"\")"
   ]
  },
  {
   "cell_type": "code",
   "execution_count": null,
   "id": "ecf6660f-0f38-423f-9208-62843ccf5ef7",
   "metadata": {},
   "outputs": [],
   "source": [
    "#string ile noktalama işaretini ayırt edemiyor ve hata alıyoruz\n",
    "'Bugün Antalya'ya geldim'"
   ]
  },
  {
   "cell_type": "code",
   "execution_count": null,
   "id": "01984687-6957-45cf-9f5d-5997b97b1806",
   "metadata": {},
   "outputs": [],
   "source": [
    "#stringimizi belirtmek için noktalama işaretinden farklı olan \"...\" syntaxımızı çözüm olarak kullanabiliriz\n",
    "\"Bugün Antalya'ya geldim\""
   ]
  },
  {
   "cell_type": "code",
   "execution_count": null,
   "id": "0bcfda10-bf16-48ed-9b74-b8020776bf39",
   "metadata": {},
   "outputs": [],
   "source": [
    "# \\ ifadesiyle bir sonraki karakteri görmezden gelebiliriz\n",
    "'Bugün Antalya\\'ya geldim'"
   ]
  },
  {
   "cell_type": "code",
   "execution_count": null,
   "id": "f2b5507f-478e-4165-84e3-8b961f8880cc",
   "metadata": {},
   "outputs": [],
   "source": [
    "# \\n ifadesi bir alt satıra geçmemizi sağlar\n",
    "print('Hello\\nWorld!')"
   ]
  },
  {
   "cell_type": "code",
   "execution_count": null,
   "id": "b8d67614-8a74-4f1d-8ce2-f80cd520b370",
   "metadata": {},
   "outputs": [],
   "source": [
    "# \\t ifadesi bir tab kadar boşluk bırakmamızı sağlar\n",
    "print('Hello\\tWorld!')"
   ]
  }
 ],
 "metadata": {
  "kernelspec": {
   "display_name": "Python 3 (ipykernel)",
   "language": "python",
   "name": "python3"
  },
  "language_info": {
   "codemirror_mode": {
    "name": "ipython",
    "version": 3
   },
   "file_extension": ".py",
   "mimetype": "text/x-python",
   "name": "python",
   "nbconvert_exporter": "python",
   "pygments_lexer": "ipython3",
   "version": "3.9.7"
  }
 },
 "nbformat": 4,
 "nbformat_minor": 5
}
