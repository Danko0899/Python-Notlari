{
 "cells": [
  {
   "cell_type": "markdown",
   "id": "57dd4cb1-2eb9-46cf-b618-4436b45a2535",
   "metadata": {},
   "source": [
    "# Try & Except & Finally"
   ]
  },
  {
   "cell_type": "code",
   "execution_count": 1,
   "id": "090edf9f-3805-49cc-a3b2-fa5305a7313f",
   "metadata": {},
   "outputs": [
    {
     "name": "stdin",
     "output_type": "stream",
     "text": [
      "Birinci sayıyı giriniz:  2\n",
      "İkinci sayıyı giriniz:  6\n"
     ]
    },
    {
     "ename": "TypeError",
     "evalue": "can't multiply sequence by non-int of type 'str'",
     "output_type": "error",
     "traceback": [
      "\u001b[0;31m---------------------------------------------------------------------------\u001b[0m",
      "\u001b[0;31mTypeError\u001b[0m                                 Traceback (most recent call last)",
      "\u001b[0;32m/var/folders/9z/tjzz8zxs1pb6xhf18tm4kbtm0000gn/T/ipykernel_919/2561703572.py\u001b[0m in \u001b[0;36m<module>\u001b[0;34m\u001b[0m\n\u001b[1;32m      2\u001b[0m \u001b[0mb\u001b[0m \u001b[0;34m=\u001b[0m \u001b[0minput\u001b[0m\u001b[0;34m(\u001b[0m\u001b[0;34m\"İkinci sayıyı giriniz: \"\u001b[0m\u001b[0;34m)\u001b[0m\u001b[0;34m\u001b[0m\u001b[0;34m\u001b[0m\u001b[0m\n\u001b[1;32m      3\u001b[0m \u001b[0;34m\u001b[0m\u001b[0m\n\u001b[0;32m----> 4\u001b[0;31m \u001b[0mprint\u001b[0m \u001b[0;34m(\u001b[0m\u001b[0ma\u001b[0m\u001b[0;34m*\u001b[0m\u001b[0mb\u001b[0m\u001b[0;34m)\u001b[0m\u001b[0;34m\u001b[0m\u001b[0;34m\u001b[0m\u001b[0m\n\u001b[0m",
      "\u001b[0;31mTypeError\u001b[0m: can't multiply sequence by non-int of type 'str'"
     ]
    }
   ],
   "source": [
    "a = input(\"Birinci sayıyı giriniz: \")\n",
    "b = input(\"İkinci sayıyı giriniz: \")\n",
    "\n",
    "print (a*b)"
   ]
  },
  {
   "cell_type": "code",
   "execution_count": 2,
   "id": "0fd520ef-2cf9-4224-92d6-59e65d9a1ad1",
   "metadata": {},
   "outputs": [
    {
     "name": "stdin",
     "output_type": "stream",
     "text": [
      "Birinci sayıyı giriniz:  4\n",
      "İkinci sayıyı giriniz:  8\n"
     ]
    },
    {
     "name": "stdout",
     "output_type": "stream",
     "text": [
      "Hata!!\n"
     ]
    }
   ],
   "source": [
    "a = input(\"Birinci sayıyı giriniz: \")\n",
    "b = input(\"İkinci sayıyı giriniz: \")\n",
    "\n",
    "try:\n",
    "    print(a*b)\n",
    "\n",
    "except TypeError:\n",
    "    print(\"Hata!!\")"
   ]
  },
  {
   "cell_type": "code",
   "execution_count": 4,
   "id": "337ee754-ff1c-4da1-85f1-ffc0c1c7863b",
   "metadata": {},
   "outputs": [
    {
     "name": "stdin",
     "output_type": "stream",
     "text": [
      "Birinci sayıyı giriniz:  emir\n"
     ]
    },
    {
     "ename": "ValueError",
     "evalue": "invalid literal for int() with base 10: 'emir'",
     "output_type": "error",
     "traceback": [
      "\u001b[0;31m---------------------------------------------------------------------------\u001b[0m",
      "\u001b[0;31mValueError\u001b[0m                                Traceback (most recent call last)",
      "\u001b[0;32m/var/folders/9z/tjzz8zxs1pb6xhf18tm4kbtm0000gn/T/ipykernel_919/3007644596.py\u001b[0m in \u001b[0;36m<module>\u001b[0;34m\u001b[0m\n\u001b[0;32m----> 1\u001b[0;31m \u001b[0ma\u001b[0m \u001b[0;34m=\u001b[0m \u001b[0mint\u001b[0m\u001b[0;34m(\u001b[0m\u001b[0minput\u001b[0m\u001b[0;34m(\u001b[0m\u001b[0;34m\"Birinci sayıyı giriniz: \"\u001b[0m\u001b[0;34m)\u001b[0m\u001b[0;34m)\u001b[0m\u001b[0;34m\u001b[0m\u001b[0;34m\u001b[0m\u001b[0m\n\u001b[0m\u001b[1;32m      2\u001b[0m \u001b[0mb\u001b[0m \u001b[0;34m=\u001b[0m \u001b[0mint\u001b[0m\u001b[0;34m(\u001b[0m\u001b[0minput\u001b[0m\u001b[0;34m(\u001b[0m\u001b[0;34m\"İkinci sayıyı giriniz: \"\u001b[0m\u001b[0;34m)\u001b[0m\u001b[0;34m)\u001b[0m\u001b[0;34m\u001b[0m\u001b[0;34m\u001b[0m\u001b[0m\n\u001b[1;32m      3\u001b[0m \u001b[0;34m\u001b[0m\u001b[0m\n\u001b[1;32m      4\u001b[0m \u001b[0;32mtry\u001b[0m\u001b[0;34m:\u001b[0m\u001b[0;34m\u001b[0m\u001b[0;34m\u001b[0m\u001b[0m\n\u001b[1;32m      5\u001b[0m     \u001b[0mprint\u001b[0m\u001b[0;34m(\u001b[0m\u001b[0ma\u001b[0m\u001b[0;34m*\u001b[0m\u001b[0mb\u001b[0m\u001b[0;34m)\u001b[0m\u001b[0;34m\u001b[0m\u001b[0;34m\u001b[0m\u001b[0m\n",
      "\u001b[0;31mValueError\u001b[0m: invalid literal for int() with base 10: 'emir'"
     ]
    }
   ],
   "source": [
    "a = int(input(\"Birinci sayıyı giriniz: \"))\n",
    "b = int(input(\"İkinci sayıyı giriniz: \"))\n",
    "\n",
    "try:\n",
    "    print(a*b)\n",
    "\n",
    "except TypeError:\n",
    "    print(\"Hata!!\")"
   ]
  },
  {
   "cell_type": "code",
   "execution_count": 5,
   "id": "7e0e6f07-1236-49f7-af87-7f2afeea5347",
   "metadata": {},
   "outputs": [
    {
     "name": "stdin",
     "output_type": "stream",
     "text": [
      "Birinci sayıyı giriniz:  emir\n"
     ]
    },
    {
     "ename": "ValueError",
     "evalue": "invalid literal for int() with base 10: 'emir'",
     "output_type": "error",
     "traceback": [
      "\u001b[0;31m---------------------------------------------------------------------------\u001b[0m",
      "\u001b[0;31mValueError\u001b[0m                                Traceback (most recent call last)",
      "\u001b[0;32m/var/folders/9z/tjzz8zxs1pb6xhf18tm4kbtm0000gn/T/ipykernel_919/3982892732.py\u001b[0m in \u001b[0;36m<module>\u001b[0;34m\u001b[0m\n\u001b[0;32m----> 1\u001b[0;31m \u001b[0ma\u001b[0m \u001b[0;34m=\u001b[0m \u001b[0mint\u001b[0m\u001b[0;34m(\u001b[0m\u001b[0minput\u001b[0m\u001b[0;34m(\u001b[0m\u001b[0;34m\"Birinci sayıyı giriniz: \"\u001b[0m\u001b[0;34m)\u001b[0m\u001b[0;34m)\u001b[0m\u001b[0;34m\u001b[0m\u001b[0;34m\u001b[0m\u001b[0m\n\u001b[0m\u001b[1;32m      2\u001b[0m \u001b[0mb\u001b[0m \u001b[0;34m=\u001b[0m \u001b[0mint\u001b[0m\u001b[0;34m(\u001b[0m\u001b[0minput\u001b[0m\u001b[0;34m(\u001b[0m\u001b[0;34m\"İkinci sayıyı giriniz: \"\u001b[0m\u001b[0;34m)\u001b[0m\u001b[0;34m)\u001b[0m\u001b[0;34m\u001b[0m\u001b[0;34m\u001b[0m\u001b[0m\n\u001b[1;32m      3\u001b[0m \u001b[0;34m\u001b[0m\u001b[0m\n\u001b[1;32m      4\u001b[0m \u001b[0;32mtry\u001b[0m\u001b[0;34m:\u001b[0m\u001b[0;34m\u001b[0m\u001b[0;34m\u001b[0m\u001b[0m\n\u001b[1;32m      5\u001b[0m     \u001b[0mprint\u001b[0m\u001b[0;34m(\u001b[0m\u001b[0ma\u001b[0m\u001b[0;34m*\u001b[0m\u001b[0mb\u001b[0m\u001b[0;34m)\u001b[0m\u001b[0;34m\u001b[0m\u001b[0;34m\u001b[0m\u001b[0m\n",
      "\u001b[0;31mValueError\u001b[0m: invalid literal for int() with base 10: 'emir'"
     ]
    }
   ],
   "source": [
    "a = int(input(\"Birinci sayıyı giriniz: \"))\n",
    "b = int(input(\"İkinci sayıyı giriniz: \"))\n",
    "\n",
    "try:\n",
    "    print(a*b)\n",
    "\n",
    "except TypeError:\n",
    "    print(\"Hata!!\")\n",
    "\n",
    "except ValueError:\n",
    "    print(\"Lütfen bir sayı giriniz!\")"
   ]
  },
  {
   "cell_type": "code",
   "execution_count": 6,
   "id": "2b9a6e61-a38e-41dc-886d-6aff7a8539b0",
   "metadata": {},
   "outputs": [
    {
     "name": "stdin",
     "output_type": "stream",
     "text": [
      "Birinci sayıyı giriniz:  sajdjas\n"
     ]
    },
    {
     "name": "stdout",
     "output_type": "stream",
     "text": [
      "Lütfen bir sayı giriniz!\n"
     ]
    }
   ],
   "source": [
    "try:\n",
    "    a = int(input(\"Birinci sayıyı giriniz: \"))\n",
    "    b = int(input(\"İkinci sayıyı giriniz: \"))\n",
    "    print(a*b)\n",
    "\n",
    "except TypeError:\n",
    "    print(\"Hata!!\")\n",
    "\n",
    "except ValueError:\n",
    "    print(\"Lütfen bir sayı giriniz!\")"
   ]
  },
  {
   "cell_type": "code",
   "execution_count": 7,
   "id": "b3024b9d-f2a7-4df3-8585-3a9f0e8de6c8",
   "metadata": {},
   "outputs": [
    {
     "name": "stdin",
     "output_type": "stream",
     "text": [
      "Birinci sayıyı giriniz:  ssdf\n"
     ]
    },
    {
     "name": "stdout",
     "output_type": "stream",
     "text": [
      "Hata!!\n"
     ]
    }
   ],
   "source": [
    "try:\n",
    "    a = int(input(\"Birinci sayıyı giriniz: \"))\n",
    "    b = int(input(\"İkinci sayıyı giriniz: \"))\n",
    "    print(a*b)\n",
    "\n",
    "except (TypeError, ValueError):\n",
    "    print(\"Hata!!\")"
   ]
  },
  {
   "cell_type": "code",
   "execution_count": 8,
   "id": "72177080-38f5-413b-bae9-cb71dff1cb9a",
   "metadata": {},
   "outputs": [],
   "source": [
    "def bol(x, y):\n",
    "    try:\n",
    "        sonuc = x / y\n",
    "    except ZeroDivisionError:\n",
    "        print(\"Hata!\")\n",
    "    finally:\n",
    "        print(\"Hiiii\")"
   ]
  },
  {
   "cell_type": "code",
   "execution_count": null,
   "id": "f9d0116b-e01a-42b8-a3d9-ee6f0c6c46b9",
   "metadata": {},
   "outputs": [],
   "source": [
    "x = int(input(\"Birinci sayı\"))\n",
    "y = int(input(\"İkinci sayı\"))\n",
    "\n",
    "if y == 0:\n",
    "    print(\"Hatalı işlem\")\n",
    "else:\n",
    "    print(x/y)"
   ]
  },
  {
   "cell_type": "code",
   "execution_count": 9,
   "id": "708cd44e-4460-4425-9ecb-3157b03fc468",
   "metadata": {},
   "outputs": [
    {
     "name": "stdout",
     "output_type": "stream",
     "text": [
      "Hiiii\n"
     ]
    }
   ],
   "source": [
    "bol(4,2)"
   ]
  },
  {
   "cell_type": "code",
   "execution_count": 10,
   "id": "735eec5a-6ae3-4b68-bfc3-090ef0b548f3",
   "metadata": {},
   "outputs": [
    {
     "name": "stdout",
     "output_type": "stream",
     "text": [
      "Hata!\n",
      "Hiiii\n"
     ]
    }
   ],
   "source": [
    "bol(4,0)"
   ]
  },
  {
   "cell_type": "code",
   "execution_count": 11,
   "id": "dcd736cb-0a70-4df2-b496-eb30e1e9c4f5",
   "metadata": {},
   "outputs": [],
   "source": [
    "def bol(x, y):\n",
    "    try:\n",
    "        sonuc = x / y\n",
    "    except ZeroDivisionError:\n",
    "        print(\"Hata!\")\n",
    "    finally:\n",
    "        print(\"Sonuç :\", sonuc)"
   ]
  },
  {
   "cell_type": "code",
   "execution_count": 12,
   "id": "f1c15db0-a3b4-4a3c-b1c7-b3823364f1a2",
   "metadata": {},
   "outputs": [
    {
     "name": "stdout",
     "output_type": "stream",
     "text": [
      "Sonuç : 2.0\n"
     ]
    }
   ],
   "source": [
    "bol(4,2)"
   ]
  },
  {
   "cell_type": "code",
   "execution_count": 13,
   "id": "50ff74c1-4bd6-4360-8b11-226bc1dae223",
   "metadata": {},
   "outputs": [
    {
     "name": "stdout",
     "output_type": "stream",
     "text": [
      "Hata!\n"
     ]
    },
    {
     "ename": "UnboundLocalError",
     "evalue": "local variable 'sonuc' referenced before assignment",
     "output_type": "error",
     "traceback": [
      "\u001b[0;31m---------------------------------------------------------------------------\u001b[0m",
      "\u001b[0;31mUnboundLocalError\u001b[0m                         Traceback (most recent call last)",
      "\u001b[0;32m/var/folders/9z/tjzz8zxs1pb6xhf18tm4kbtm0000gn/T/ipykernel_919/1718158315.py\u001b[0m in \u001b[0;36m<module>\u001b[0;34m\u001b[0m\n\u001b[0;32m----> 1\u001b[0;31m \u001b[0mbol\u001b[0m\u001b[0;34m(\u001b[0m\u001b[0;36m4\u001b[0m\u001b[0;34m,\u001b[0m\u001b[0;36m0\u001b[0m\u001b[0;34m)\u001b[0m\u001b[0;34m\u001b[0m\u001b[0;34m\u001b[0m\u001b[0m\n\u001b[0m",
      "\u001b[0;32m/var/folders/9z/tjzz8zxs1pb6xhf18tm4kbtm0000gn/T/ipykernel_919/1010157175.py\u001b[0m in \u001b[0;36mbol\u001b[0;34m(x, y)\u001b[0m\n\u001b[1;32m      5\u001b[0m         \u001b[0mprint\u001b[0m\u001b[0;34m(\u001b[0m\u001b[0;34m\"Hata!\"\u001b[0m\u001b[0;34m)\u001b[0m\u001b[0;34m\u001b[0m\u001b[0;34m\u001b[0m\u001b[0m\n\u001b[1;32m      6\u001b[0m     \u001b[0;32mfinally\u001b[0m\u001b[0;34m:\u001b[0m\u001b[0;34m\u001b[0m\u001b[0;34m\u001b[0m\u001b[0m\n\u001b[0;32m----> 7\u001b[0;31m         \u001b[0mprint\u001b[0m\u001b[0;34m(\u001b[0m\u001b[0;34m\"Sonuç :\"\u001b[0m\u001b[0;34m,\u001b[0m \u001b[0msonuc\u001b[0m\u001b[0;34m)\u001b[0m\u001b[0;34m\u001b[0m\u001b[0;34m\u001b[0m\u001b[0m\n\u001b[0m",
      "\u001b[0;31mUnboundLocalError\u001b[0m: local variable 'sonuc' referenced before assignment"
     ]
    }
   ],
   "source": [
    "bol(4,0)"
   ]
  },
  {
   "cell_type": "code",
   "execution_count": 15,
   "id": "a7906f0a-e3d0-4a66-ad14-25b2e4462061",
   "metadata": {},
   "outputs": [],
   "source": [
    "def bol(x, y):\n",
    "    try:\n",
    "        sonuc = x / y\n",
    "    except ZeroDivisionError:\n",
    "        print(\"Hata!\")\n",
    "    else:\n",
    "        print(\"Sonuç :\", sonuc)"
   ]
  },
  {
   "cell_type": "code",
   "execution_count": 16,
   "id": "3ebbb266-68ee-41c1-8267-1f7d8dee5670",
   "metadata": {},
   "outputs": [
    {
     "name": "stdout",
     "output_type": "stream",
     "text": [
      "Hata!\n"
     ]
    }
   ],
   "source": [
    "bol(4,0)"
   ]
  },
  {
   "cell_type": "code",
   "execution_count": 17,
   "id": "1af93538-2f7a-4132-baf4-84fba9aabcee",
   "metadata": {},
   "outputs": [
    {
     "name": "stdout",
     "output_type": "stream",
     "text": [
      "Sonuç : 2.0\n"
     ]
    }
   ],
   "source": [
    "bol(4,2)"
   ]
  },
  {
   "cell_type": "code",
   "execution_count": null,
   "id": "97066320-b17a-46a2-8195-4b40897a80f1",
   "metadata": {},
   "outputs": [],
   "source": []
  }
 ],
 "metadata": {
  "kernelspec": {
   "display_name": "Python 3 (ipykernel)",
   "language": "python",
   "name": "python3"
  },
  "language_info": {
   "codemirror_mode": {
    "name": "ipython",
    "version": 3
   },
   "file_extension": ".py",
   "mimetype": "text/x-python",
   "name": "python",
   "nbconvert_exporter": "python",
   "pygments_lexer": "ipython3",
   "version": "3.9.7"
  }
 },
 "nbformat": 4,
 "nbformat_minor": 5
}
