{
 "cells": [
  {
   "cell_type": "markdown",
   "id": "57dd4cb1-2eb9-46cf-b618-4436b45a2535",
   "metadata": {},
   "source": [
    "# Try & Except & Finally"
   ]
  },
  {
   "cell_type": "code",
   "execution_count": null,
   "id": "090edf9f-3805-49cc-a3b2-fa5305a7313f",
   "metadata": {},
   "outputs": [],
   "source": [
    "#input() değerlerimizi str olarak aldığı için hata alırız\n",
    "a = input(\"Birinci sayıyı giriniz: \")\n",
    "b = input(\"İkinci sayıyı giriniz: \")\n",
    "\n",
    "print (a*b)"
   ]
  },
  {
   "cell_type": "code",
   "execution_count": null,
   "id": "0fd520ef-2cf9-4224-92d6-59e65d9a1ad1",
   "metadata": {},
   "outputs": [],
   "source": [
    "#Almış olduğumuz TypeError'u except bloğunda tanıttığımız için bizim belirlemiş olduğumuz hata döner\n",
    "a = input(\"Birinci sayıyı giriniz: \")\n",
    "b = input(\"İkinci sayıyı giriniz: \")\n",
    "\n",
    "try:\n",
    "    print(a*b)\n",
    "\n",
    "except TypeError:\n",
    "    print(\"Hata!!\")"
   ]
  },
  {
   "cell_type": "code",
   "execution_count": null,
   "id": "337ee754-ff1c-4da1-85f1-ffc0c1c7863b",
   "metadata": {},
   "outputs": [],
   "source": [
    "# Değerleri int olarak aldığımızda str bir veri girişi olması durumunda hata alırız\n",
    "a = int(input(\"Birinci sayıyı giriniz: \"))\n",
    "b = int(input(\"İkinci sayıyı giriniz: \"))\n",
    "\n",
    "try:\n",
    "    print(a*b)\n",
    "\n",
    "except TypeError:\n",
    "    print(\"Hata!!\")"
   ]
  },
  {
   "cell_type": "code",
   "execution_count": null,
   "id": "7e0e6f07-1236-49f7-af87-7f2afeea5347",
   "metadata": {},
   "outputs": [],
   "source": [
    "#Hatayı except'e tanıtmamıza rağmen inputlarımız try bloğunun dışında olduğu için hata almaya devam ediyoruz\n",
    "a = int(input(\"Birinci sayıyı giriniz: \"))\n",
    "b = int(input(\"İkinci sayıyı giriniz: \"))\n",
    "\n",
    "try:\n",
    "    print(a*b)\n",
    "\n",
    "except TypeError:\n",
    "    print(\"Hata!!\")\n",
    "\n",
    "except ValueError:\n",
    "    print(\"Lütfen bir sayı giriniz!\")"
   ]
  },
  {
   "cell_type": "code",
   "execution_count": null,
   "id": "2b9a6e61-a38e-41dc-886d-6aff7a8539b0",
   "metadata": {},
   "outputs": [],
   "source": [
    "#Hatalarımızı tanıtarak istediğimiz hata mesajını döndürebiliyoruz\n",
    "try:\n",
    "    a = int(input(\"Birinci sayıyı giriniz: \"))\n",
    "    b = int(input(\"İkinci sayıyı giriniz: \"))\n",
    "    print(a*b)\n",
    "\n",
    "except TypeError:\n",
    "    print(\"Hata!!\")\n",
    "\n",
    "except ValueError:\n",
    "    print(\"Lütfen bir sayı giriniz!\")"
   ]
  },
  {
   "cell_type": "code",
   "execution_count": null,
   "id": "b3024b9d-f2a7-4df3-8585-3a9f0e8de6c8",
   "metadata": {},
   "outputs": [],
   "source": [
    "#Tek bir except bloğunda birden fazla hata tanımlayabiliriz\n",
    "try:\n",
    "    a = int(input(\"Birinci sayıyı giriniz: \"))\n",
    "    b = int(input(\"İkinci sayıyı giriniz: \"))\n",
    "    print(a*b)\n",
    "\n",
    "except (TypeError, ValueError):\n",
    "    print(\"Hata!!\")"
   ]
  },
  {
   "cell_type": "code",
   "execution_count": null,
   "id": "72177080-38f5-413b-bae9-cb71dff1cb9a",
   "metadata": {},
   "outputs": [],
   "source": [
    "#ZeroDivisionError = Sıfıra bölünememe hatası\n",
    "#Finally bloğunda yazılmış işlemler her koşulda çalışır\n",
    "def bol(x, y):\n",
    "    try:\n",
    "        sonuc = x / y\n",
    "    except ZeroDivisionError:\n",
    "        print(\"Hata!\")\n",
    "    finally:\n",
    "        print(\"Hiiii\")"
   ]
  },
  {
   "cell_type": "code",
   "execution_count": null,
   "id": "708cd44e-4460-4425-9ecb-3157b03fc468",
   "metadata": {},
   "outputs": [],
   "source": [
    "bol(4,2)"
   ]
  },
  {
   "cell_type": "code",
   "execution_count": null,
   "id": "735eec5a-6ae3-4b68-bfc3-090ef0b548f3",
   "metadata": {},
   "outputs": [],
   "source": [
    "bol(4,0)"
   ]
  },
  {
   "cell_type": "code",
   "execution_count": null,
   "id": "dcd736cb-0a70-4df2-b496-eb30e1e9c4f5",
   "metadata": {},
   "outputs": [],
   "source": [
    "#Finally bloğunda değişken aldığımız için, değişkeni alamadığı durumlarda bize hata döndürür ör:4/0\n",
    "def bol(x, y):\n",
    "    try:\n",
    "        sonuc = x / y\n",
    "    except ZeroDivisionError:\n",
    "        print(\"Hata!\")\n",
    "    finally:\n",
    "        print(\"Sonuç :\", sonuc)"
   ]
  },
  {
   "cell_type": "code",
   "execution_count": null,
   "id": "f1c15db0-a3b4-4a3c-b1c7-b3823364f1a2",
   "metadata": {},
   "outputs": [],
   "source": [
    "bol(4,2)"
   ]
  },
  {
   "cell_type": "code",
   "execution_count": null,
   "id": "50ff74c1-4bd6-4360-8b11-226bc1dae223",
   "metadata": {},
   "outputs": [],
   "source": [
    "bol(4,0)"
   ]
  },
  {
   "cell_type": "code",
   "execution_count": null,
   "id": "a7906f0a-e3d0-4a66-ad14-25b2e4462061",
   "metadata": {},
   "outputs": [],
   "source": [
    "#else try bloğunda herhangi bir hata almadığımız durumda çalışır\n",
    "def bol(x, y):\n",
    "    try:\n",
    "        sonuc = x / y\n",
    "    except ZeroDivisionError:\n",
    "        print(\"Hata!\")\n",
    "    else:\n",
    "        print(\"Sonuç :\", sonuc)"
   ]
  },
  {
   "cell_type": "code",
   "execution_count": null,
   "id": "3ebbb266-68ee-41c1-8267-1f7d8dee5670",
   "metadata": {},
   "outputs": [],
   "source": [
    "bol(4,0)"
   ]
  },
  {
   "cell_type": "code",
   "execution_count": null,
   "id": "1af93538-2f7a-4132-baf4-84fba9aabcee",
   "metadata": {},
   "outputs": [],
   "source": [
    "bol(4,2)"
   ]
  }
 ],
 "metadata": {
  "kernelspec": {
   "display_name": "Python 3 (ipykernel)",
   "language": "python",
   "name": "python3"
  },
  "language_info": {
   "codemirror_mode": {
    "name": "ipython",
    "version": 3
   },
   "file_extension": ".py",
   "mimetype": "text/x-python",
   "name": "python",
   "nbconvert_exporter": "python",
   "pygments_lexer": "ipython3",
   "version": "3.9.7"
  }
 },
 "nbformat": 4,
 "nbformat_minor": 5
}
