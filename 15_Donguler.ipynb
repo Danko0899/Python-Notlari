{
 "cells": [
  {
   "cell_type": "markdown",
   "id": "00eb201a-6f98-4d68-9dca-1321e485b59d",
   "metadata": {},
   "source": [
    "# For\n",
    "For döngüleri bir dizi üzerinde yineleme yapmak için kullanılır.\n"
   ]
  },
  {
   "cell_type": "code",
   "execution_count": null,
   "id": "bcdb9e0b-1386-4738-954f-b0b68704ef6d",
   "metadata": {},
   "outputs": [],
   "source": [
    "#listenin içerisindeki her bir elemanı ekrana çıktı olarak yazdırmak istiyoruz\n",
    "lang_list=[\"Java\", \"Python\", \"Go\", \"R\", \"C\", \"C++\"]\n",
    "for i in lang_list:\n",
    "    print(i)"
   ]
  },
  {
   "cell_type": "code",
   "execution_count": null,
   "id": "a30bf564-eee5-41c0-977f-2dca4014da66",
   "metadata": {},
   "outputs": [],
   "source": [
    "#tuple elemanlarını sırayla görmek için;\n",
    "lang_tuple=(\"Java\", \"Python\", \"Go\", \"R\", \"C\",\"C++\")\n",
    "for i in lang_tuple:\n",
    "    print(i)"
   ]
  },
  {
   "cell_type": "code",
   "execution_count": null,
   "id": "13cd0877-6308-4cd4-9de3-c79472172860",
   "metadata": {},
   "outputs": [],
   "source": [
    "#Eğer sadece dizinin içerinde yineleme yaparak gezinirsek ve her gezindiğimiz element i yazdırırsak sadece dict'in\n",
    "#keylerine erişebildiğimizi görebiliriz.\n",
    "lang_dict={1:\"Java\", 2:\"Python\", 3:\"Go\", 4:\"R\", 5:\"C\", 6:\"C++\"}\n",
    "lang_dict[1]\n",
    "for i in lang_dict:\n",
    "    print(lang_dict[i])"
   ]
  },
  {
   "cell_type": "code",
   "execution_count": null,
   "id": "22f6b230-f6c2-4419-9db1-9799c5e22e19",
   "metadata": {},
   "outputs": [],
   "source": [
    "#value'lara ulaşmak için alternatif olarak .values() fonksiyonunu da kullanabiliriz;\n",
    "for x in lang_dict.values():\n",
    "    print(x)"
   ]
  },
  {
   "cell_type": "code",
   "execution_count": null,
   "id": "bdabc42c-57fa-4c6a-9787-0eb25bd234d1",
   "metadata": {},
   "outputs": [],
   "source": [
    "#eğer dict'in hem key'lerine hemde value'larına aynı anda ulaşmak istiyorsak, .items() fonksiyonunu kullanabiliriz;\n",
    "#[(key1,value1), (key2, value2),...]\n",
    "for (i,j) in lang_dict.items():\n",
    "    print(i,j)"
   ]
  },
  {
   "cell_type": "code",
   "execution_count": null,
   "id": "556984b8-98db-4710-8d0e-7d953a439546",
   "metadata": {},
   "outputs": [],
   "source": [
    "#stringler bir dizi harfden oluştuğu için for loop ile yinelenebilirler;\n",
    "name=\"Ahmet Emirhan GÜLEÇ\"\n",
    "for i in name:\n",
    "    print(i)"
   ]
  },
  {
   "cell_type": "code",
   "execution_count": null,
   "id": "e8f21ff6-2f50-41a7-b4e1-b78117464503",
   "metadata": {},
   "outputs": [],
   "source": [
    "lang_tuple=(\"Java\", \"Python\", \"Go\", \"R\", \"C\",\"C++\")\n",
    "for i in range(6):\n",
    "    print(\"İndex Numarası: {} değer {}\".format(i,lang_tuple[i]))"
   ]
  },
  {
   "cell_type": "markdown",
   "id": "ae221ea2-5ee5-486e-9665-13e37387917e",
   "metadata": {},
   "source": [
    "# While"
   ]
  },
  {
   "cell_type": "code",
   "execution_count": null,
   "id": "ccf8f46b-fb00-427d-9aa2-81ba9003b3bf",
   "metadata": {},
   "outputs": [],
   "source": [
    "#i 1den başlayarak 5'e kadar her yenilemede i'nin değerini 1 arttırır ve döngünün içini yeni i değerleri için çalıştırır.\n",
    "i = 1\n",
    "while i < 6:\n",
    "    print(i)\n",
    "    i += 1"
   ]
  },
  {
   "cell_type": "code",
   "execution_count": null,
   "id": "ddb5e47e-610d-47d1-8802-6947557fbedd",
   "metadata": {},
   "outputs": [],
   "source": [
    "#Sonsuz döngü, bu sayfada çalıştırma!!\n",
    "i = 1\n",
    "while i < 6:\n",
    "    print(i)\n",
    "i += 1"
   ]
  },
  {
   "cell_type": "code",
   "execution_count": null,
   "id": "5fe61a18-f621-4b95-9eba-c2f7e6bc3410",
   "metadata": {},
   "outputs": [],
   "source": [
    "print(\"\"\"\n",
    "*********************\n",
    "Hesap Makinesi Örneği\n",
    "*********************\n",
    "1- Toplama\n",
    "2- Çıkartma\n",
    "3- Çarpma\n",
    "4- Bölme\n",
    "5- Üs Bulma\n",
    "6- Kalan Bulma\n",
    "7- Tam Sayı Bölmesi\n",
    "*********************\n",
    "\"\"\")\n",
    "\n",
    "while True:\n",
    "    x = int(input(\"işlem seçiniz\"))\n",
    "    y = int(input(\"Birinci sayıyı giriniz\"))\n",
    "    z = int(input(\"İkinci sayıyı giriniz\"))\n",
    "\n",
    "\n",
    "    if x == 1:\n",
    "        print(y+z)\n",
    "    elif x == 2:\n",
    "        print(y-z)\n",
    "    elif x == 3:\n",
    "        print(y*z)\n",
    "    elif x == 4:\n",
    "        print(y/z)\n",
    "    elif x == 5:\n",
    "        print(y**z)\n",
    "    elif x == 6:\n",
    "        print(y%z)\n",
    "    elif x == 7:\n",
    "        print(y//z)\n",
    "    else:\n",
    "        print(\"Hatalı işlem yaptınız!\")"
   ]
  },
  {
   "cell_type": "code",
   "execution_count": null,
   "id": "1969bcee-b348-4935-a54c-603a382859c6",
   "metadata": {},
   "outputs": [],
   "source": [
    "print(\"\"\"\n",
    "--------------------------------\n",
    "Python Students Club Kayıt Formu\n",
    "--------------------------------\n",
    "\"\"\")\n",
    "\n",
    "uyeler = {}\n",
    "while True: #biz programı durdurana kadar devam edecektir.\n",
    "    ad = input(\"Adınızı giriniz\")\n",
    "    uyeler[\"Ad\"] = ad #uyeler sözlüğüne \"Ad\":ad  itemını ekler (ad-kullanıcıdan alınan değer)\n",
    "\n",
    "    soyad = input(\"Soyadınızı giriniz\")\n",
    "    uyeler[\"Soyad\"] = soyad #uyeler sözlüğüne \"Soyad\":soyad  itemını ekler (soyad-kullanıcıdan alınan değer)\n",
    "\n",
    "\n",
    "    print(uyeler) #her üye ekleme sonunda da sözlüğün son halini ekrana bastırır"
   ]
  },
  {
   "cell_type": "code",
   "execution_count": null,
   "id": "6ab18ec5-c5ba-402e-9b7a-32c0879f5bd3",
   "metadata": {},
   "outputs": [],
   "source": [
    "print(\"\"\"\n",
    "--------------------------------\n",
    "Python Students Club Kayıt Formu\n",
    "--------------------------------\n",
    "\"\"\")\n",
    "#her üyemizi bir sözlük içerisine yerleştiriyoruz ve bu sözlükleri de uyeData listesine append methodu ile ekliyoruz\n",
    "uyeData = []\n",
    "while True:\n",
    "    uyeler = {}\n",
    "    ad = input(\"Adınızı giriniz\")\n",
    "    uyeler[\"Ad\"] = ad\n",
    "\n",
    "    soyad = input(\"Soyadınızı giriniz\")\n",
    "    uyeler[\"Soyad\"] = soyad\n",
    "\n",
    "    uyeData.append(uyeler)\n",
    "    print(uyeData)"
   ]
  },
  {
   "cell_type": "code",
   "execution_count": null,
   "id": "9430efc8-81dd-4e81-b882-56c5e3ee3f7c",
   "metadata": {},
   "outputs": [],
   "source": [
    "print(\"\"\"\n",
    "--------------------------------\n",
    "Python Students Club Kayıt Formu\n",
    "--------------------------------\n",
    "\"\"\")\n",
    "\n",
    "uyeData = []\n",
    "while True:\n",
    "    uyeler = {}\n",
    "    teknolojiler = []\n",
    "\n",
    "    ad = input(\"Adınızı giriniz\")\n",
    "    uyeler[\"Ad\"] = ad\n",
    "\n",
    "    soyad = input(\"Soyadınızı giriniz\")\n",
    "    uyeler[\"Soyad\"] = soyad\n",
    "\n",
    "    teknolojiSayisi = int(input(\"Kaç teknoloji ile ilgilendiyorsunuz\"))\n",
    "    for i in range(1, (teknolojiSayisi+1)):\n",
    "        teknoloji = input(f'{i}. teknolojinizi giriniz.')\n",
    "        teknolojiler.append(teknoloji)\n",
    "\n",
    "    uyeler[\"Teknolojiler\"] = teknolojiler\n",
    "    uyeData.append(uyeler)\n",
    "    print(uyeData)"
   ]
  }
 ],
 "metadata": {
  "kernelspec": {
   "display_name": "Python 3 (ipykernel)",
   "language": "python",
   "name": "python3"
  },
  "language_info": {
   "codemirror_mode": {
    "name": "ipython",
    "version": 3
   },
   "file_extension": ".py",
   "mimetype": "text/x-python",
   "name": "python",
   "nbconvert_exporter": "python",
   "pygments_lexer": "ipython3",
   "version": "3.9.7"
  }
 },
 "nbformat": 4,
 "nbformat_minor": 5
}
