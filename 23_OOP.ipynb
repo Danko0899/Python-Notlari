{
 "cells": [
  {
   "cell_type": "markdown",
   "id": "09cd24fe-53a6-4125-9d75-5094bd19d29f",
   "metadata": {},
   "source": [
    "# OOP (Object-Oriented Programming)"
   ]
  },
  {
   "cell_type": "markdown",
   "id": "262df152-5781-4c05-b1f6-730a4ddea6df",
   "metadata": {},
   "source": [
    "# Class"
   ]
  },
  {
   "cell_type": "code",
   "execution_count": 47,
   "id": "8741dbf0-c42c-4ae5-b0de-972199ecd81d",
   "metadata": {},
   "outputs": [],
   "source": [
    "#Classımızı oluşturuyoruz\n",
    "class MyClass:\n",
    "    x = 5"
   ]
  },
  {
   "cell_type": "code",
   "execution_count": 48,
   "id": "204b3975-51ef-4156-a3bb-a990a905eb79",
   "metadata": {},
   "outputs": [
    {
     "name": "stdout",
     "output_type": "stream",
     "text": [
      "5\n"
     ]
    }
   ],
   "source": [
    "#Classımızı a isimli bir değişkene atıyoruz\n",
    "a = MyClass()\n",
    "print(a.x)"
   ]
  },
  {
   "cell_type": "code",
   "execution_count": 49,
   "id": "f87345c2-2aee-4eae-a152-0d97e7d9589c",
   "metadata": {},
   "outputs": [
    {
     "name": "stdout",
     "output_type": "stream",
     "text": [
      "Emirhan GÜLEÇ 25\n"
     ]
    }
   ],
   "source": [
    "#Class yapımızda farklı değişkenler tanımlayabiliyoruz\n",
    "class PscMember:\n",
    "    isim = \"Emirhan GÜLEÇ\"\n",
    "    yas = 25\n",
    "    teknolojiler = [\"Vue\", \"React\", \"Next\"]\n",
    "\n",
    "    print(isim,yas)"
   ]
  },
  {
   "cell_type": "code",
   "execution_count": 50,
   "id": "197300d0-05cd-4076-aed3-cdbaf0f15b66",
   "metadata": {},
   "outputs": [],
   "source": [
    "class PscMember:\n",
    "    isim = \"Emirhan\"\n",
    "    yas = 25\n",
    "    teknolojiler = [\"Vue\", \"React\", \"Next\"]"
   ]
  },
  {
   "cell_type": "code",
   "execution_count": 51,
   "id": "69f59483-67c1-40df-9869-8bef086852f4",
   "metadata": {},
   "outputs": [
    {
     "name": "stdout",
     "output_type": "stream",
     "text": [
      "Emirhan\n",
      "['Vue', 'React', 'Next']\n"
     ]
    }
   ],
   "source": [
    "print(PscMember.isim)\n",
    "print(PscMember.teknolojiler)"
   ]
  },
  {
   "cell_type": "code",
   "execution_count": 52,
   "id": "7fbfc057-13e4-42e6-814e-401d6c437744",
   "metadata": {},
   "outputs": [],
   "source": [
    "PscMember.sehir = \"Antalya\""
   ]
  },
  {
   "cell_type": "code",
   "execution_count": 53,
   "id": "70eb2e82-d2aa-45f8-87e5-deb866cc2a67",
   "metadata": {},
   "outputs": [
    {
     "name": "stdout",
     "output_type": "stream",
     "text": [
      "Antalya\n"
     ]
    }
   ],
   "source": [
    "print(PscMember.sehir)"
   ]
  },
  {
   "cell_type": "code",
   "execution_count": 54,
   "id": "16d334d1-1945-47cb-a896-171f4c57cdd1",
   "metadata": {},
   "outputs": [],
   "source": [
    "a = PscMember()"
   ]
  },
  {
   "cell_type": "code",
   "execution_count": 55,
   "id": "1bb6ddad-8552-43ba-8a60-620e3c264dbb",
   "metadata": {},
   "outputs": [
    {
     "name": "stdout",
     "output_type": "stream",
     "text": [
      "Emirhan\n"
     ]
    }
   ],
   "source": [
    "print(a.isim)"
   ]
  },
  {
   "cell_type": "code",
   "execution_count": 56,
   "id": "c883a290-6b13-43c1-b227-17230f69c7dd",
   "metadata": {},
   "outputs": [],
   "source": [
    "b = PscMember()"
   ]
  },
  {
   "cell_type": "code",
   "execution_count": 57,
   "id": "2ede925e-4b93-4822-921d-566944243a6d",
   "metadata": {},
   "outputs": [],
   "source": [
    "b.isim = \"Ali\""
   ]
  },
  {
   "cell_type": "code",
   "execution_count": 58,
   "id": "6f6e54f5-d0e8-4271-b66b-b30d731201eb",
   "metadata": {},
   "outputs": [
    {
     "name": "stdout",
     "output_type": "stream",
     "text": [
      "Ali\n"
     ]
    }
   ],
   "source": [
    "print(b.isim)"
   ]
  },
  {
   "cell_type": "code",
   "execution_count": 59,
   "id": "1383d677-492c-464c-aa8e-128d920cfe21",
   "metadata": {},
   "outputs": [
    {
     "name": "stdout",
     "output_type": "stream",
     "text": [
      "Emirhan\n"
     ]
    }
   ],
   "source": [
    "print(a.isim)"
   ]
  },
  {
   "cell_type": "code",
   "execution_count": 63,
   "id": "fbb63b66-d071-4281-b7db-bd4325edb645",
   "metadata": {},
   "outputs": [],
   "source": [
    "b.teknolojiler.append(\"Go\")"
   ]
  },
  {
   "cell_type": "code",
   "execution_count": 64,
   "id": "37c56e4f-a7eb-49fb-a7a6-2f051536bc91",
   "metadata": {},
   "outputs": [
    {
     "name": "stdout",
     "output_type": "stream",
     "text": [
      "['Vue', 'React', 'Next', 'Deneme', 'Go']\n"
     ]
    }
   ],
   "source": [
    "print(b.teknolojiler)"
   ]
  },
  {
   "cell_type": "code",
   "execution_count": 65,
   "id": "f18d87ad-25e5-4d59-80db-ff900d04e482",
   "metadata": {},
   "outputs": [
    {
     "name": "stdout",
     "output_type": "stream",
     "text": [
      "['Vue', 'React', 'Next', 'Deneme', 'Go']\n"
     ]
    }
   ],
   "source": [
    "#A'ya eklememiş olduğumuz halde a değerimize de Java eklenmiş oldu\n",
    "print(a.teknolojiler)"
   ]
  },
  {
   "cell_type": "code",
   "execution_count": 72,
   "id": "2f2c41b9-0350-4c7a-9f4a-a7d5aeaacc6a",
   "metadata": {},
   "outputs": [],
   "source": [
    "#self türetmiş olduğumuz nesnelere ulaşmamızı sağlayan bir kavramdır\n",
    "class psc2():\n",
    "    def __init__(self, isim):\n",
    "        self.isim = isim\n",
    "        self.yas = []\n",
    "        self.teknolojiler = []"
   ]
  },
  {
   "cell_type": "code",
   "execution_count": 79,
   "id": "311615ea-7eda-4932-bb6f-aede2063fa86",
   "metadata": {},
   "outputs": [],
   "source": [
    "d = psc2(\"Mehmet\")"
   ]
  },
  {
   "cell_type": "code",
   "execution_count": 68,
   "id": "7763f012-972a-4684-9444-f3f10b04bb9b",
   "metadata": {},
   "outputs": [],
   "source": [
    "b = psc2()"
   ]
  },
  {
   "cell_type": "code",
   "execution_count": 75,
   "id": "c940d01d-2315-4737-9b10-1279c430d568",
   "metadata": {},
   "outputs": [],
   "source": [
    "c.teknolojiler.append(\"R\")"
   ]
  },
  {
   "cell_type": "code",
   "execution_count": 80,
   "id": "8c03e17d-047d-437e-b067-a48b94bbfbbe",
   "metadata": {},
   "outputs": [
    {
     "data": {
      "text/plain": [
       "'Mehmet'"
      ]
     },
     "execution_count": 80,
     "metadata": {},
     "output_type": "execute_result"
    }
   ],
   "source": [
    "d.isim"
   ]
  },
  {
   "cell_type": "code",
   "execution_count": 71,
   "id": "f8f50ca0-acd7-433c-8586-215e7c952fd9",
   "metadata": {},
   "outputs": [
    {
     "data": {
      "text/plain": [
       "[]"
      ]
     },
     "execution_count": 71,
     "metadata": {},
     "output_type": "execute_result"
    }
   ],
   "source": [
    "b.teknolojiler"
   ]
  },
  {
   "cell_type": "code",
   "execution_count": 89,
   "id": "e310480e-5c64-4a7e-bc3e-23feddef8a22",
   "metadata": {},
   "outputs": [],
   "source": [
    "class PscMemberData():\n",
    "    uye = []\n",
    "\n",
    "    def __init__(self, isim):\n",
    "        self.isim = isim\n",
    "        self.teknolojiler = []\n",
    "        self.uye_ekle()\n",
    "\n",
    "    def uye_ekle(self):\n",
    "        self.uye.append(self.isim)\n",
    "        print('{} adlı kişi üye olarak eklendi'.format(self.isim))\n",
    "\n",
    "    def uyeleri_görüntüle(self):\n",
    "        print('Üye listesi:')\n",
    "        for kişi in self.uye:\n",
    "            print(kişi)\n",
    "\n",
    "    def teknoloji_ekle(self, teknoloji):\n",
    "        self.teknolojiler.append(teknoloji)\n",
    "\n",
    "    def teknolojileri_görüntüle(self):\n",
    "        print('{} adlı kişinin ilgilendiği teknolojiler:'.format(self.isim))\n",
    "        for teknoloji in self.teknolojiler:\n",
    "            print(teknoloji)"
   ]
  },
  {
   "cell_type": "code",
   "execution_count": 90,
   "id": "d8955edd-fbaa-47bf-aa9c-47c1858a8b82",
   "metadata": {},
   "outputs": [
    {
     "name": "stdout",
     "output_type": "stream",
     "text": [
      "Emirhan adlı kişi üye olarak eklendi\n"
     ]
    }
   ],
   "source": [
    "e = PscMemberData(\"Emirhan\")"
   ]
  },
  {
   "cell_type": "code",
   "execution_count": 91,
   "id": "9c8c9766-dccd-48e8-b21a-60cd072d4240",
   "metadata": {},
   "outputs": [
    {
     "name": "stdout",
     "output_type": "stream",
     "text": [
      "Ali adlı kişi üye olarak eklendi\n"
     ]
    }
   ],
   "source": [
    "a = PscMemberData(\"Ali\")"
   ]
  },
  {
   "cell_type": "code",
   "execution_count": 92,
   "id": "0bdceb19-6c45-4364-bb8c-8c290e4c397d",
   "metadata": {},
   "outputs": [
    {
     "name": "stdout",
     "output_type": "stream",
     "text": [
      "Emirhan\n"
     ]
    }
   ],
   "source": [
    "print(e.isim)"
   ]
  },
  {
   "cell_type": "code",
   "execution_count": 94,
   "id": "e1df71d3-9c84-43d7-aad2-44c0eb6ae532",
   "metadata": {},
   "outputs": [
    {
     "name": "stdout",
     "output_type": "stream",
     "text": [
      "Üye listesi:\n",
      "Emirhan\n",
      "Ali\n"
     ]
    }
   ],
   "source": [
    "e.uyeleri_görüntüle()"
   ]
  },
  {
   "cell_type": "code",
   "execution_count": 97,
   "id": "9d771eb3-1aa0-425d-8df2-139773d8d9dc",
   "metadata": {},
   "outputs": [],
   "source": [
    "e.teknoloji_ekle(\"Python\")"
   ]
  },
  {
   "cell_type": "code",
   "execution_count": 98,
   "id": "b3fdf05d-9f21-415c-b79d-e4de01687e28",
   "metadata": {},
   "outputs": [
    {
     "name": "stdout",
     "output_type": "stream",
     "text": [
      "Emirhan adlı kişinin ilgilendiği teknolojiler:\n",
      "Vue\n",
      "Python\n"
     ]
    }
   ],
   "source": [
    "e.teknolojileri_görüntüle()"
   ]
  },
  {
   "cell_type": "code",
   "execution_count": 99,
   "id": "1cd4df58-45c7-4d57-9329-1169ce56a743",
   "metadata": {},
   "outputs": [],
   "source": [
    "e.teknoloji_ekle(\"Vue\")"
   ]
  },
  {
   "cell_type": "code",
   "execution_count": 100,
   "id": "16f02735-d6e5-47a4-bec0-58a78028c2d3",
   "metadata": {},
   "outputs": [
    {
     "name": "stdout",
     "output_type": "stream",
     "text": [
      "Emirhan adlı kişinin ilgilendiği teknolojiler:\n",
      "Vue\n",
      "Python\n",
      "Vue\n"
     ]
    }
   ],
   "source": [
    "e.teknolojileri_görüntüle()"
   ]
  },
  {
   "cell_type": "code",
   "execution_count": 101,
   "id": "93a509fe-0390-4abb-ae3b-73e45d5995aa",
   "metadata": {},
   "outputs": [
    {
     "name": "stdout",
     "output_type": "stream",
     "text": [
      "Ali adlı kişinin ilgilendiği teknolojiler:\n"
     ]
    }
   ],
   "source": [
    "a.teknolojileri_görüntüle()"
   ]
  },
  {
   "cell_type": "code",
   "execution_count": 102,
   "id": "e5b7c5ca-5519-4029-9474-0c92be036a68",
   "metadata": {},
   "outputs": [],
   "source": [
    "a.teknoloji_ekle(\"Python\")"
   ]
  },
  {
   "cell_type": "code",
   "execution_count": 103,
   "id": "ca2e8535-aec3-4b68-aee8-92b6157e9ee4",
   "metadata": {},
   "outputs": [
    {
     "name": "stdout",
     "output_type": "stream",
     "text": [
      "Ali adlı kişinin ilgilendiği teknolojiler:\n",
      "Python\n"
     ]
    }
   ],
   "source": [
    "a.teknolojileri_görüntüle()"
   ]
  },
  {
   "cell_type": "code",
   "execution_count": 104,
   "id": "640a400c-b882-4559-b30a-9f43906112f6",
   "metadata": {},
   "outputs": [],
   "source": [
    "del e.teknolojiler"
   ]
  },
  {
   "cell_type": "code",
   "execution_count": 105,
   "id": "a6ac2021-3e48-4e6a-840e-c84ef6092620",
   "metadata": {},
   "outputs": [
    {
     "name": "stdout",
     "output_type": "stream",
     "text": [
      "Emirhan adlı kişinin ilgilendiği teknolojiler:\n"
     ]
    },
    {
     "ename": "AttributeError",
     "evalue": "'PscMemberData' object has no attribute 'teknolojiler'",
     "output_type": "error",
     "traceback": [
      "\u001b[0;31m---------------------------------------------------------------------------\u001b[0m",
      "\u001b[0;31mAttributeError\u001b[0m                            Traceback (most recent call last)",
      "\u001b[0;32m/var/folders/9z/tjzz8zxs1pb6xhf18tm4kbtm0000gn/T/ipykernel_908/2739398843.py\u001b[0m in \u001b[0;36m<module>\u001b[0;34m\u001b[0m\n\u001b[1;32m      1\u001b[0m \u001b[0;31m#Teknolojileri sildiğimiz için hata alacağız\u001b[0m\u001b[0;34m\u001b[0m\u001b[0;34m\u001b[0m\u001b[0m\n\u001b[0;32m----> 2\u001b[0;31m \u001b[0me\u001b[0m\u001b[0;34m.\u001b[0m\u001b[0mteknolojileri_görüntüle\u001b[0m\u001b[0;34m(\u001b[0m\u001b[0;34m)\u001b[0m\u001b[0;34m\u001b[0m\u001b[0;34m\u001b[0m\u001b[0m\n\u001b[0m",
      "\u001b[0;32m/var/folders/9z/tjzz8zxs1pb6xhf18tm4kbtm0000gn/T/ipykernel_908/1064180381.py\u001b[0m in \u001b[0;36mteknolojileri_görüntüle\u001b[0;34m(self)\u001b[0m\n\u001b[1;32m     21\u001b[0m     \u001b[0;32mdef\u001b[0m \u001b[0mteknolojileri_görüntüle\u001b[0m\u001b[0;34m(\u001b[0m\u001b[0mself\u001b[0m\u001b[0;34m)\u001b[0m\u001b[0;34m:\u001b[0m\u001b[0;34m\u001b[0m\u001b[0;34m\u001b[0m\u001b[0m\n\u001b[1;32m     22\u001b[0m         \u001b[0mprint\u001b[0m\u001b[0;34m(\u001b[0m\u001b[0;34m'{} adlı kişinin ilgilendiği teknolojiler:'\u001b[0m\u001b[0;34m.\u001b[0m\u001b[0mformat\u001b[0m\u001b[0;34m(\u001b[0m\u001b[0mself\u001b[0m\u001b[0;34m.\u001b[0m\u001b[0misim\u001b[0m\u001b[0;34m)\u001b[0m\u001b[0;34m)\u001b[0m\u001b[0;34m\u001b[0m\u001b[0;34m\u001b[0m\u001b[0m\n\u001b[0;32m---> 23\u001b[0;31m         \u001b[0;32mfor\u001b[0m \u001b[0mteknoloji\u001b[0m \u001b[0;32min\u001b[0m \u001b[0mself\u001b[0m\u001b[0;34m.\u001b[0m\u001b[0mteknolojiler\u001b[0m\u001b[0;34m:\u001b[0m\u001b[0;34m\u001b[0m\u001b[0;34m\u001b[0m\u001b[0m\n\u001b[0m\u001b[1;32m     24\u001b[0m             \u001b[0mprint\u001b[0m\u001b[0;34m(\u001b[0m\u001b[0mteknoloji\u001b[0m\u001b[0;34m)\u001b[0m\u001b[0;34m\u001b[0m\u001b[0;34m\u001b[0m\u001b[0m\n",
      "\u001b[0;31mAttributeError\u001b[0m: 'PscMemberData' object has no attribute 'teknolojiler'"
     ]
    }
   ],
   "source": [
    "#Teknolojileri sildiğimiz için hata alacağız\n",
    "e.teknolojileri_görüntüle()"
   ]
  },
  {
   "cell_type": "code",
   "execution_count": 106,
   "id": "fc7335a0-6591-4ab2-a767-9d5cfc7bad4e",
   "metadata": {},
   "outputs": [
    {
     "ename": "AttributeError",
     "evalue": "'PscMemberData' object has no attribute 'teknolojiler'",
     "output_type": "error",
     "traceback": [
      "\u001b[0;31m---------------------------------------------------------------------------\u001b[0m",
      "\u001b[0;31mAttributeError\u001b[0m                            Traceback (most recent call last)",
      "\u001b[0;32m/var/folders/9z/tjzz8zxs1pb6xhf18tm4kbtm0000gn/T/ipykernel_908/447921231.py\u001b[0m in \u001b[0;36m<module>\u001b[0;34m\u001b[0m\n\u001b[1;32m      1\u001b[0m \u001b[0;31m#Artık teknolojiler isimli bir listemiz olmadığı için hata alacağız\u001b[0m\u001b[0;34m\u001b[0m\u001b[0;34m\u001b[0m\u001b[0m\n\u001b[0;32m----> 2\u001b[0;31m \u001b[0me\u001b[0m\u001b[0;34m.\u001b[0m\u001b[0mteknoloji_ekle\u001b[0m\u001b[0;34m(\u001b[0m\u001b[0;34m\"Python\"\u001b[0m\u001b[0;34m)\u001b[0m\u001b[0;34m\u001b[0m\u001b[0;34m\u001b[0m\u001b[0m\n\u001b[0m",
      "\u001b[0;32m/var/folders/9z/tjzz8zxs1pb6xhf18tm4kbtm0000gn/T/ipykernel_908/1064180381.py\u001b[0m in \u001b[0;36mteknoloji_ekle\u001b[0;34m(self, teknoloji)\u001b[0m\n\u001b[1;32m     17\u001b[0m \u001b[0;34m\u001b[0m\u001b[0m\n\u001b[1;32m     18\u001b[0m     \u001b[0;32mdef\u001b[0m \u001b[0mteknoloji_ekle\u001b[0m\u001b[0;34m(\u001b[0m\u001b[0mself\u001b[0m\u001b[0;34m,\u001b[0m \u001b[0mteknoloji\u001b[0m\u001b[0;34m)\u001b[0m\u001b[0;34m:\u001b[0m\u001b[0;34m\u001b[0m\u001b[0;34m\u001b[0m\u001b[0m\n\u001b[0;32m---> 19\u001b[0;31m         \u001b[0mself\u001b[0m\u001b[0;34m.\u001b[0m\u001b[0mteknolojiler\u001b[0m\u001b[0;34m.\u001b[0m\u001b[0mappend\u001b[0m\u001b[0;34m(\u001b[0m\u001b[0mteknoloji\u001b[0m\u001b[0;34m)\u001b[0m\u001b[0;34m\u001b[0m\u001b[0;34m\u001b[0m\u001b[0m\n\u001b[0m\u001b[1;32m     20\u001b[0m \u001b[0;34m\u001b[0m\u001b[0m\n\u001b[1;32m     21\u001b[0m     \u001b[0;32mdef\u001b[0m \u001b[0mteknolojileri_görüntüle\u001b[0m\u001b[0;34m(\u001b[0m\u001b[0mself\u001b[0m\u001b[0;34m)\u001b[0m\u001b[0;34m:\u001b[0m\u001b[0;34m\u001b[0m\u001b[0;34m\u001b[0m\u001b[0m\n",
      "\u001b[0;31mAttributeError\u001b[0m: 'PscMemberData' object has no attribute 'teknolojiler'"
     ]
    }
   ],
   "source": [
    "#Artık teknolojiler isimli bir listemiz olmadığı için hata alacağız\n",
    "e.teknoloji_ekle(\"Python\")"
   ]
  },
  {
   "cell_type": "code",
   "execution_count": 107,
   "id": "eea949e0-d1de-421f-bef6-420b79a0cedd",
   "metadata": {},
   "outputs": [],
   "source": [
    "e.teknolojiler = []"
   ]
  },
  {
   "cell_type": "code",
   "execution_count": 108,
   "id": "45adbd93-56e3-4845-be23-d0cf814bddcc",
   "metadata": {},
   "outputs": [],
   "source": [
    "e.teknoloji_ekle(\"Python\")"
   ]
  },
  {
   "cell_type": "code",
   "execution_count": 109,
   "id": "4839fe21-544f-4d50-8297-2390576e8c37",
   "metadata": {},
   "outputs": [
    {
     "name": "stdout",
     "output_type": "stream",
     "text": [
      "Emirhan adlı kişinin ilgilendiği teknolojiler:\n",
      "Python\n"
     ]
    }
   ],
   "source": [
    "e.teknolojileri_görüntüle()"
   ]
  },
  {
   "cell_type": "code",
   "execution_count": 110,
   "id": "8c509459-853c-4eac-886d-04dbf6951106",
   "metadata": {},
   "outputs": [],
   "source": [
    "del e"
   ]
  },
  {
   "cell_type": "code",
   "execution_count": 111,
   "id": "7a219949-5ffa-4c01-a8d7-fccba88b2027",
   "metadata": {},
   "outputs": [
    {
     "ename": "TypeError",
     "evalue": "__init__() missing 1 required positional argument: 'isim'",
     "output_type": "error",
     "traceback": [
      "\u001b[0;31m---------------------------------------------------------------------------\u001b[0m",
      "\u001b[0;31mTypeError\u001b[0m                                 Traceback (most recent call last)",
      "\u001b[0;32m/var/folders/9z/tjzz8zxs1pb6xhf18tm4kbtm0000gn/T/ipykernel_908/2900959537.py\u001b[0m in \u001b[0;36m<module>\u001b[0;34m\u001b[0m\n\u001b[1;32m      1\u001b[0m \u001b[0;31m#__init__ fonksiyonu içerisinde isim için bir varsayılan tanımlamadığımız için hata alıyoruz\u001b[0m\u001b[0;34m\u001b[0m\u001b[0;34m\u001b[0m\u001b[0m\n\u001b[0;32m----> 2\u001b[0;31m \u001b[0mx\u001b[0m \u001b[0;34m=\u001b[0m \u001b[0mPscMemberData\u001b[0m\u001b[0;34m(\u001b[0m\u001b[0;34m)\u001b[0m\u001b[0;34m\u001b[0m\u001b[0;34m\u001b[0m\u001b[0m\n\u001b[0m",
      "\u001b[0;31mTypeError\u001b[0m: __init__() missing 1 required positional argument: 'isim'"
     ]
    }
   ],
   "source": [
    "#__init__ fonksiyonu içerisinde isim için bir varsayılan tanımlamadığımız için hata alıyoruz\n",
    "x = PscMemberData()"
   ]
  },
  {
   "cell_type": "code",
   "execution_count": 112,
   "id": "c4e2b999-1c9d-44ee-bb04-e77b0b078ebb",
   "metadata": {},
   "outputs": [],
   "source": [
    "class PscMemberData():\n",
    "    uye = []\n",
    "\n",
    "    def __init__(self, isim = \"Bilgi yok\"):\n",
    "        self.isim = isim\n",
    "        self.teknolojiler = []\n",
    "        self.uye_ekle()\n",
    "\n",
    "    def uye_ekle(self):\n",
    "        self.uye.append(self.isim)\n",
    "        print('{} adlı kişi üye olarak eklendi'.format(self.isim))\n",
    "\n",
    "    def uyeleri_görüntüle(self):\n",
    "        print('Üye listesi:')\n",
    "        for kişi in self.uye:\n",
    "            print(kişi)\n",
    "\n",
    "    def teknoloji_ekle(self, teknoloji):\n",
    "        self.teknolojiler.append(teknoloji)\n",
    "\n",
    "    def teknolojileri_görüntüle(self):\n",
    "        print('{} adlı kişinin ilgilendiği teknolojiler:'.format(self.isim))\n",
    "        for teknoloji in self.teknolojiler:\n",
    "            print(teknoloji)"
   ]
  },
  {
   "cell_type": "code",
   "execution_count": 113,
   "id": "46074caa-b55a-4627-aa5a-c76b08582676",
   "metadata": {},
   "outputs": [
    {
     "name": "stdout",
     "output_type": "stream",
     "text": [
      "Bilgi yok adlı kişi üye olarak eklendi\n"
     ]
    }
   ],
   "source": [
    "#Varsayılan bir değer tanımladığımız için hata almayız\n",
    "x = PscMemberData()"
   ]
  },
  {
   "cell_type": "code",
   "execution_count": 114,
   "id": "0386fd2f-ac8f-4961-bb94-def27a1c475b",
   "metadata": {},
   "outputs": [
    {
     "name": "stdout",
     "output_type": "stream",
     "text": [
      "Emir adlı kişi üye olarak eklendi\n"
     ]
    }
   ],
   "source": [
    "x = PscMemberData(\"Emir\")"
   ]
  },
  {
   "cell_type": "code",
   "execution_count": 115,
   "id": "97d8d081-0c3e-4051-a98e-c0fee39e6218",
   "metadata": {},
   "outputs": [],
   "source": [
    "class ATM():\n",
    "    def __init__(self,isim, bakiye = 0):\n",
    "        self.isim = isim\n",
    "        self.bakiye = bakiye\n",
    "\n",
    "    def para_yatir(self, miktar):\n",
    "        print(f'Hesabınıza {miktar} lira başarıyla yatırıldı, yeni bakiyeniz {miktar + self.bakiye} ₺')\n",
    "        self.bakiye += miktar\n",
    "\n",
    "    def para_cek(self, miktar):\n",
    "        if miktar > self.bakiye:\n",
    "            print(f\"Hesabınızda yeterli bakiye yok, toplam bakiyeniz: {self.bakiye}\")\n",
    "        else:\n",
    "            print(f\"Para çekme işleminiz başarılı, yeni bakiyeniz: {self.bakiye-miktar} ₺\")\n",
    "            self.bakiye -= miktar"
   ]
  },
  {
   "cell_type": "code",
   "execution_count": 116,
   "id": "8a8b6ee6-1792-4041-a3fe-91daaf34c802",
   "metadata": {},
   "outputs": [],
   "source": [
    "x = ATM(\"Emirhan GÜLEÇ\")"
   ]
  },
  {
   "cell_type": "code",
   "execution_count": 117,
   "id": "fa7bed01-e28c-416b-935a-5061800fe72b",
   "metadata": {},
   "outputs": [
    {
     "data": {
      "text/plain": [
       "'Emirhan GÜLEÇ'"
      ]
     },
     "execution_count": 117,
     "metadata": {},
     "output_type": "execute_result"
    }
   ],
   "source": [
    "x.isim"
   ]
  },
  {
   "cell_type": "code",
   "execution_count": 118,
   "id": "60ee35cf-2ed8-416e-bc12-ac4e07c326b7",
   "metadata": {},
   "outputs": [
    {
     "data": {
      "text/plain": [
       "0"
      ]
     },
     "execution_count": 118,
     "metadata": {},
     "output_type": "execute_result"
    }
   ],
   "source": [
    "x.bakiye"
   ]
  },
  {
   "cell_type": "code",
   "execution_count": 119,
   "id": "1b4ebc52-18f1-4ebc-a20c-bc317a2547c8",
   "metadata": {},
   "outputs": [
    {
     "name": "stdout",
     "output_type": "stream",
     "text": [
      "Hesabınıza 500 lira başarıyla yatırıldı, yeni bakiyeniz 500 ₺\n"
     ]
    }
   ],
   "source": [
    "x.para_yatir(500)"
   ]
  },
  {
   "cell_type": "code",
   "execution_count": 120,
   "id": "4dc7577a-ef85-4b4c-8b01-85e07512a04a",
   "metadata": {},
   "outputs": [
    {
     "data": {
      "text/plain": [
       "500"
      ]
     },
     "execution_count": 120,
     "metadata": {},
     "output_type": "execute_result"
    }
   ],
   "source": [
    "x.bakiye"
   ]
  },
  {
   "cell_type": "code",
   "execution_count": 124,
   "id": "b738cf39-ea80-4ba8-a53d-ac4327889abe",
   "metadata": {},
   "outputs": [
    {
     "name": "stdout",
     "output_type": "stream",
     "text": [
      "Hesabınızda yeterli bakiye yok, toplam bakiyeniz: 0\n"
     ]
    }
   ],
   "source": [
    "x.para_cek(550)"
   ]
  },
  {
   "cell_type": "code",
   "execution_count": 122,
   "id": "ce1e5ce2-c91f-4603-b50c-22a0d6ad5aee",
   "metadata": {},
   "outputs": [
    {
     "name": "stdout",
     "output_type": "stream",
     "text": [
      "Para çekme işleminiz başarılı, yeni bakiyeniz: 0 ₺\n"
     ]
    }
   ],
   "source": [
    "x.para_cek(500)"
   ]
  },
  {
   "cell_type": "markdown",
   "id": "233ba09d-6193-4708-8a49-64d05ad41b15",
   "metadata": {},
   "source": [
    "# Inheritance"
   ]
  },
  {
   "cell_type": "code",
   "execution_count": 131,
   "id": "6bdb154a-443f-49cb-a36c-4c2788699b92",
   "metadata": {},
   "outputs": [],
   "source": [
    "class x():\n",
    "    uye = []\n",
    "\n",
    "    def __init__(self, isim):\n",
    "        self.isim = isim\n",
    "        self.teknolojiler = []\n",
    "        self.uye_ekle()\n",
    "\n",
    "    def uye_ekle(self):\n",
    "        self.uye.append(self.isim)\n",
    "        print('{} adlı kişi üye olarak eklendi'.format(self.isim))\n",
    "\n",
    "    def uyeleri_görüntüle(self):\n",
    "        print('Üye listesi:')\n",
    "        for kişi in self.uye:\n",
    "            print(kişi)\n",
    "\n",
    "    def teknoloji_ekle(self, teknoloji):\n",
    "        self.teknolojiler.append(teknoloji)\n",
    "\n",
    "    def teknolojileri_görüntüle(self):\n",
    "        print('{} adlı kişinin ilgilendiği teknolojiler:'.format(self.isim))\n",
    "        for teknoloji in self.teknolojiler:\n",
    "            print(teknoloji)"
   ]
  },
  {
   "cell_type": "code",
   "execution_count": 132,
   "id": "f84c678b-f43d-4701-8903-ab50e69b0cd8",
   "metadata": {},
   "outputs": [],
   "source": [
    "class y(x):\n",
    "    pass"
   ]
  },
  {
   "cell_type": "code",
   "execution_count": 133,
   "id": "7c2f57c9-0de5-4e21-bc13-0eb7bb88a05a",
   "metadata": {},
   "outputs": [
    {
     "name": "stdout",
     "output_type": "stream",
     "text": [
      "Emirhan GÜLEÇ adlı kişi üye olarak eklendi\n"
     ]
    }
   ],
   "source": [
    "emir = y(\"Emirhan GÜLEÇ\")"
   ]
  },
  {
   "cell_type": "code",
   "execution_count": 134,
   "id": "95c6788b-3f75-4481-8007-f187723c5ae1",
   "metadata": {},
   "outputs": [
    {
     "name": "stdout",
     "output_type": "stream",
     "text": [
      "Ali adlı kişi üye olarak eklendi\n"
     ]
    }
   ],
   "source": [
    "ali = x(\"Ali\")"
   ]
  },
  {
   "cell_type": "code",
   "execution_count": 135,
   "id": "981011dd-fbd8-47cd-8f41-ac788f602983",
   "metadata": {},
   "outputs": [],
   "source": [
    "class y(x):\n",
    "    def uye_ekle(self):\n",
    "        self.uye.append(self.isim)\n",
    "        print('{} aramıza hoş geldin :)'.format(self.isim))"
   ]
  },
  {
   "cell_type": "code",
   "execution_count": 136,
   "id": "20ddc3f0-3713-4a66-b952-26fefcb59078",
   "metadata": {},
   "outputs": [
    {
     "name": "stdout",
     "output_type": "stream",
     "text": [
      "Emirhan GÜLEÇ aramıza hoş geldin :)\n"
     ]
    }
   ],
   "source": [
    "emir = y(\"Emirhan GÜLEÇ\")"
   ]
  },
  {
   "cell_type": "code",
   "execution_count": 137,
   "id": "0d13a1f1-44c4-41ee-92e1-008e4c743d4a",
   "metadata": {},
   "outputs": [
    {
     "name": "stdout",
     "output_type": "stream",
     "text": [
      "Emirhan GÜLEÇ adlı kişi üye olarak eklendi\n"
     ]
    }
   ],
   "source": [
    "emir = x(\"Emirhan GÜLEÇ\")"
   ]
  },
  {
   "cell_type": "code",
   "execution_count": 138,
   "id": "3bd6eb11-7bc7-4974-a0d3-774fdda0eaac",
   "metadata": {},
   "outputs": [],
   "source": [
    "class first_class():\n",
    "    def hi(self):\n",
    "        print(\"Birinci class\")"
   ]
  },
  {
   "cell_type": "code",
   "execution_count": 139,
   "id": "71b1c504-350a-4059-81a6-a53787196e16",
   "metadata": {},
   "outputs": [],
   "source": [
    "class second_class():\n",
    "    def hi2(self):\n",
    "        print(\"İkinci class\")"
   ]
  },
  {
   "cell_type": "code",
   "execution_count": 140,
   "id": "dce6bb7a-48c1-42b3-83c3-6113d3b7f8c0",
   "metadata": {},
   "outputs": [],
   "source": [
    "class third_class(first_class, second_class):\n",
    "    pass"
   ]
  },
  {
   "cell_type": "code",
   "execution_count": 141,
   "id": "d969c1f0-1fb1-4d6e-997e-0cb20d75c03e",
   "metadata": {},
   "outputs": [],
   "source": [
    "x = third_class()"
   ]
  },
  {
   "cell_type": "code",
   "execution_count": 142,
   "id": "6f3052d7-4bc2-4002-b905-08679c6adcbd",
   "metadata": {},
   "outputs": [
    {
     "name": "stdout",
     "output_type": "stream",
     "text": [
      "Birinci class\n"
     ]
    }
   ],
   "source": [
    "x.hi()"
   ]
  },
  {
   "cell_type": "code",
   "execution_count": 143,
   "id": "7c600be5-1cec-47c6-8d61-ba9203283cff",
   "metadata": {},
   "outputs": [
    {
     "name": "stdout",
     "output_type": "stream",
     "text": [
      "İkinci class\n"
     ]
    }
   ],
   "source": [
    "x.hi2()"
   ]
  },
  {
   "cell_type": "code",
   "execution_count": 144,
   "id": "0ada2a68-b92b-4dda-bc35-76fc374a580b",
   "metadata": {},
   "outputs": [],
   "source": [
    "class third_class(first_class, second_class):\n",
    "    def hi(self):\n",
    "        print(\"Üçüncü class\")\n",
    "    def hi2(self):\n",
    "        print(\"Üçüncü class\")"
   ]
  },
  {
   "cell_type": "code",
   "execution_count": 145,
   "id": "0501e0ae-9749-4719-b697-307bb7d83015",
   "metadata": {},
   "outputs": [],
   "source": [
    "x = third_class()"
   ]
  },
  {
   "cell_type": "code",
   "execution_count": 146,
   "id": "85e7b936-7e2b-47d5-88b0-06295cf59622",
   "metadata": {},
   "outputs": [
    {
     "name": "stdout",
     "output_type": "stream",
     "text": [
      "Üçüncü class\n"
     ]
    }
   ],
   "source": [
    "x.hi()"
   ]
  },
  {
   "cell_type": "code",
   "execution_count": 147,
   "id": "96a19190-49f4-45a7-b511-44e9edc347bf",
   "metadata": {},
   "outputs": [
    {
     "name": "stdout",
     "output_type": "stream",
     "text": [
      "Üçüncü class\n"
     ]
    }
   ],
   "source": [
    "x.hi2()"
   ]
  },
  {
   "cell_type": "code",
   "execution_count": 148,
   "id": "9289ef6d-75e5-4b30-8d1d-c21223651e8e",
   "metadata": {},
   "outputs": [],
   "source": [
    "class PscMemberData():\n",
    "    uye = []\n",
    "\n",
    "    def __init__(self, isim):\n",
    "        self.isim = isim\n",
    "        self.teknolojiler = []\n",
    "        self.uye_ekle()\n",
    "\n",
    "    def uye_ekle(self):\n",
    "        self.uye.append(self.isim)\n",
    "        print('{} adlı kişi üye olarak eklendi'.format(self.isim))\n",
    "\n",
    "    def uyeleri_görüntüle(self):\n",
    "        print('Üye listesi:')\n",
    "        for kişi in self.uye:\n",
    "            print(kişi)\n",
    "\n",
    "    def teknoloji_ekle(self, teknoloji):\n",
    "        self.teknolojiler.append(teknoloji)\n",
    "\n",
    "    def teknolojileri_görüntüle(self):\n",
    "        print('{} adlı kişinin ilgilendiği teknolojiler:'.format(self.isim))\n",
    "        for teknoloji in self.teknolojiler:\n",
    "            print(teknoloji)"
   ]
  },
  {
   "cell_type": "code",
   "execution_count": 149,
   "id": "a496fb62-752b-40cc-81e2-e039d1b7af60",
   "metadata": {},
   "outputs": [],
   "source": [
    "class PscMemberData2(PscMemberData):\n",
    "    def __init__(self, isim):\n",
    "        super().__init__(isim)\n",
    "        self.teknolojiler = [\"Python\"]"
   ]
  },
  {
   "cell_type": "code",
   "execution_count": 150,
   "id": "c9d16155-4467-4cc9-942a-fde6b863d49c",
   "metadata": {},
   "outputs": [
    {
     "name": "stdout",
     "output_type": "stream",
     "text": [
      "Ali adlı kişi üye olarak eklendi\n"
     ]
    }
   ],
   "source": [
    "a = PscMemberData(\"Ali\")"
   ]
  },
  {
   "cell_type": "code",
   "execution_count": 151,
   "id": "949cfee8-2e12-47c0-aa58-0ff7e1e5c481",
   "metadata": {},
   "outputs": [
    {
     "name": "stdout",
     "output_type": "stream",
     "text": [
      "Emirhan adlı kişi üye olarak eklendi\n"
     ]
    }
   ],
   "source": [
    "b = PscMemberData2(\"Emirhan\")"
   ]
  },
  {
   "cell_type": "code",
   "execution_count": 152,
   "id": "8f45b472-063c-4fa6-89ab-c0ee6e31f206",
   "metadata": {},
   "outputs": [
    {
     "name": "stdout",
     "output_type": "stream",
     "text": [
      "Ali adlı kişinin ilgilendiği teknolojiler:\n"
     ]
    }
   ],
   "source": [
    "a.teknolojileri_görüntüle()"
   ]
  },
  {
   "cell_type": "code",
   "execution_count": 153,
   "id": "abbfc57d-fb31-4e19-922d-dc1a5b65ae4c",
   "metadata": {},
   "outputs": [
    {
     "name": "stdout",
     "output_type": "stream",
     "text": [
      "Emirhan adlı kişinin ilgilendiği teknolojiler:\n",
      "Python\n"
     ]
    }
   ],
   "source": [
    "b.teknolojileri_görüntüle()"
   ]
  },
  {
   "cell_type": "markdown",
   "id": "69ac3dca-ef15-4448-bff1-71f9a590297c",
   "metadata": {},
   "source": [
    "# Encapsulation"
   ]
  },
  {
   "cell_type": "code",
   "execution_count": null,
   "id": "bc72c60c-3f27-4b08-b99f-ba7d6ee51aad",
   "metadata": {},
   "outputs": [],
   "source": [
    "class Members():\n",
    "    def __init__(self, isim, soyisim, mail):\n",
    "        self.isim = isim\n",
    "        self.soyisim = soyisim\n",
    "        self.__mail_ = mail"
   ]
  },
  {
   "cell_type": "code",
   "execution_count": null,
   "id": "9ef75055-b159-47a8-a6c7-d4b3524a526c",
   "metadata": {},
   "outputs": [],
   "source": [
    "member1 = Members(\"Emirhan\", \"Güleç\", \"hi@emirhangulec.me\")\n",
    "\n",
    "print(member1.isim)"
   ]
  },
  {
   "cell_type": "code",
   "execution_count": null,
   "id": "2b9dce22-1766-4ab5-b58e-e95ed379771b",
   "metadata": {},
   "outputs": [],
   "source": [
    "print(member1.mail)"
   ]
  },
  {
   "cell_type": "code",
   "execution_count": null,
   "id": "eda2c9a9-fad7-4614-a8ad-55dfe7f167e6",
   "metadata": {},
   "outputs": [],
   "source": [
    "member1.isim = \"Mehmet\"\n",
    "\n",
    "print(member1.isim)"
   ]
  }
 ],
 "metadata": {
  "kernelspec": {
   "display_name": "Python 3 (ipykernel)",
   "language": "python",
   "name": "python3"
  },
  "language_info": {
   "codemirror_mode": {
    "name": "ipython",
    "version": 3
   },
   "file_extension": ".py",
   "mimetype": "text/x-python",
   "name": "python",
   "nbconvert_exporter": "python",
   "pygments_lexer": "ipython3",
   "version": "3.9.7"
  }
 },
 "nbformat": 4,
 "nbformat_minor": 5
}
