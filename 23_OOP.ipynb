{
 "cells": [
  {
   "cell_type": "markdown",
   "id": "09cd24fe-53a6-4125-9d75-5094bd19d29f",
   "metadata": {},
   "source": [
    "# OOP (Object-Oriented Programming)"
   ]
  },
  {
   "cell_type": "markdown",
   "id": "262df152-5781-4c05-b1f6-730a4ddea6df",
   "metadata": {},
   "source": [
    "# Class"
   ]
  },
  {
   "cell_type": "code",
   "execution_count": null,
   "id": "8741dbf0-c42c-4ae5-b0de-972199ecd81d",
   "metadata": {},
   "outputs": [],
   "source": [
    "#Classımızı oluşturuyoruz\n",
    "class MyClass:\n",
    "    x = 5"
   ]
  },
  {
   "cell_type": "code",
   "execution_count": null,
   "id": "204b3975-51ef-4156-a3bb-a990a905eb79",
   "metadata": {},
   "outputs": [],
   "source": [
    "#Classımızı a isimli bir değişkene atıyoruz\n",
    "a = MyClass()\n",
    "print(a.x)"
   ]
  },
  {
   "cell_type": "code",
   "execution_count": null,
   "id": "f87345c2-2aee-4eae-a152-0d97e7d9589c",
   "metadata": {},
   "outputs": [],
   "source": [
    "#Class yapımızda farklı değişkenler tanımlayabiliyoruz\n",
    "class PscMember:\n",
    "    isim = \"Emirhan GÜLEÇ\"\n",
    "    yas = 25\n",
    "    teknolojiler = [\"Vue\", \"React\", \"Next\"]\n",
    "\n",
    "    print(isim,yas)"
   ]
  },
  {
   "cell_type": "code",
   "execution_count": null,
   "id": "197300d0-05cd-4076-aed3-cdbaf0f15b66",
   "metadata": {},
   "outputs": [],
   "source": [
    "class PscMember:\n",
    "    isim = \"Emirhan\"\n",
    "    yas = 25\n",
    "    teknolojiler = [\"Vue\", \"React\", \"Next\"]"
   ]
  },
  {
   "cell_type": "code",
   "execution_count": null,
   "id": "69f59483-67c1-40df-9869-8bef086852f4",
   "metadata": {},
   "outputs": [],
   "source": [
    "print(PscMember.isim)\n",
    "print(PscMember.teknolojiler)"
   ]
  },
  {
   "cell_type": "code",
   "execution_count": null,
   "id": "7fbfc057-13e4-42e6-814e-401d6c437744",
   "metadata": {},
   "outputs": [],
   "source": [
    "#Classımızın içinde değeri \"Antalya\" olan bir sehir değişkeni tanımlıyoruz.\n",
    "PscMember.sehir = \"Antalya\""
   ]
  },
  {
   "cell_type": "code",
   "execution_count": null,
   "id": "70eb2e82-d2aa-45f8-87e5-deb866cc2a67",
   "metadata": {},
   "outputs": [],
   "source": [
    "print(PscMember.sehir)"
   ]
  },
  {
   "cell_type": "code",
   "execution_count": null,
   "id": "16d334d1-1945-47cb-a896-171f4c57cdd1",
   "metadata": {},
   "outputs": [],
   "source": [
    "a = PscMember()"
   ]
  },
  {
   "cell_type": "code",
   "execution_count": null,
   "id": "1bb6ddad-8552-43ba-8a60-620e3c264dbb",
   "metadata": {},
   "outputs": [],
   "source": [
    "print(a.isim)"
   ]
  },
  {
   "cell_type": "code",
   "execution_count": null,
   "id": "c883a290-6b13-43c1-b227-17230f69c7dd",
   "metadata": {},
   "outputs": [],
   "source": [
    "b = PscMember()"
   ]
  },
  {
   "cell_type": "code",
   "execution_count": null,
   "id": "2ede925e-4b93-4822-921d-566944243a6d",
   "metadata": {},
   "outputs": [],
   "source": [
    "b.isim = \"Ali\""
   ]
  },
  {
   "cell_type": "code",
   "execution_count": null,
   "id": "6f6e54f5-d0e8-4271-b66b-b30d731201eb",
   "metadata": {},
   "outputs": [],
   "source": [
    "print(b.isim)"
   ]
  },
  {
   "cell_type": "code",
   "execution_count": null,
   "id": "1383d677-492c-464c-aa8e-128d920cfe21",
   "metadata": {},
   "outputs": [],
   "source": [
    "print(a.isim)"
   ]
  },
  {
   "cell_type": "code",
   "execution_count": null,
   "id": "fbb63b66-d071-4281-b7db-bd4325edb645",
   "metadata": {},
   "outputs": [],
   "source": [
    "b.teknolojiler.append(\"Java\")"
   ]
  },
  {
   "cell_type": "code",
   "execution_count": null,
   "id": "37c56e4f-a7eb-49fb-a7a6-2f051536bc91",
   "metadata": {},
   "outputs": [],
   "source": [
    "print(b.teknolojiler)"
   ]
  },
  {
   "cell_type": "code",
   "execution_count": null,
   "id": "f18d87ad-25e5-4d59-80db-ff900d04e482",
   "metadata": {},
   "outputs": [],
   "source": [
    "#A'ya eklememiş olduğumuz halde a değerimize de Java eklenmiş oldu\n",
    "print(a.teknolojiler)"
   ]
  },
  {
   "cell_type": "code",
   "execution_count": null,
   "id": "2f2c41b9-0350-4c7a-9f4a-a7d5aeaacc6a",
   "metadata": {},
   "outputs": [],
   "source": [
    "#self türetmiş olduğumuz nesnelere ulaşmamızı sağlayan bir kavramdır\n",
    "class psc2():\n",
    "    def __init__(self, isim, yas):\n",
    "        self.isim = isim\n",
    "        self.yas = yas\n",
    "        self.teknolojiler = []"
   ]
  },
  {
   "cell_type": "code",
   "execution_count": null,
   "id": "311615ea-7eda-4932-bb6f-aede2063fa86",
   "metadata": {},
   "outputs": [],
   "source": [
    "d = psc2(\"Mehmet\", 20)"
   ]
  },
  {
   "cell_type": "code",
   "execution_count": null,
   "id": "c940d01d-2315-4737-9b10-1279c430d568",
   "metadata": {},
   "outputs": [],
   "source": [
    "d.teknolojiler.append(\"R\")"
   ]
  },
  {
   "cell_type": "code",
   "execution_count": null,
   "id": "8c03e17d-047d-437e-b067-a48b94bbfbbe",
   "metadata": {},
   "outputs": [],
   "source": [
    "d.isim"
   ]
  },
  {
   "cell_type": "code",
   "execution_count": null,
   "id": "f8f50ca0-acd7-433c-8586-215e7c952fd9",
   "metadata": {},
   "outputs": [],
   "source": [
    "d.yas"
   ]
  },
  {
   "cell_type": "code",
   "execution_count": null,
   "id": "fd40c94f-3126-4e6e-9dd3-43d5932cc125",
   "metadata": {},
   "outputs": [],
   "source": [
    "\n",
    "class okul():\n",
    "    def __init__(self, isim, numara):\n",
    "        self.isim = isim\n",
    "        self.numara = numara\n",
    "        self.notlar = []\n",
    "        \n",
    "    def not_ekle(self):\n",
    "        dersler = {}\n",
    "        ders = input('Ders adı giriniz: ')\n",
    "        puan = input(\"Not giriniz\")\n",
    "        \n",
    "        dersler[ders] = puan\n",
    "        self.notlar.append(dersler)\n",
    "        \n",
    "    def notlari_gor(self):\n",
    "        for i in self.notlar:\n",
    "            print(i)"
   ]
  },
  {
   "cell_type": "code",
   "execution_count": null,
   "id": "dd2daf93-beb9-458b-928b-691227597530",
   "metadata": {},
   "outputs": [],
   "source": [
    "emir = okul(\"Emirhan\", \"7\")"
   ]
  },
  {
   "cell_type": "code",
   "execution_count": null,
   "id": "52456978-a897-47f2-8d85-505c023165a6",
   "metadata": {},
   "outputs": [],
   "source": [
    "emir.not_ekle()"
   ]
  },
  {
   "cell_type": "code",
   "execution_count": null,
   "id": "7f726c68-de58-43b8-8310-6aaa09abce62",
   "metadata": {},
   "outputs": [],
   "source": [
    "emir.notlari_gor()"
   ]
  },
  {
   "cell_type": "code",
   "execution_count": null,
   "id": "e310480e-5c64-4a7e-bc3e-23feddef8a22",
   "metadata": {},
   "outputs": [],
   "source": [
    "class PscMemberData():\n",
    "    uye = []\n",
    "\n",
    "    def __init__(self, isim):\n",
    "        self.isim = isim\n",
    "        self.teknolojiler = []\n",
    "        self.uye_ekle()\n",
    "\n",
    "    def uye_ekle(self):\n",
    "        self.uye.append(self.isim)\n",
    "        print('{} adlı kişi üye olarak eklendi'.format(self.isim))\n",
    "\n",
    "    def uyeleri_görüntüle(self):\n",
    "        print('Üye listesi:')\n",
    "        for kişi in self.uye:\n",
    "            print(kişi)\n",
    "\n",
    "    def teknoloji_ekle(self, teknoloji):\n",
    "        self.teknolojiler.append(teknoloji)\n",
    "\n",
    "    def teknolojileri_görüntüle(self):\n",
    "        print('{} adlı kişinin ilgilendiği teknolojiler:'.format(self.isim))\n",
    "        for teknoloji in self.teknolojiler:\n",
    "            print(teknoloji)"
   ]
  },
  {
   "cell_type": "code",
   "execution_count": null,
   "id": "d8955edd-fbaa-47bf-aa9c-47c1858a8b82",
   "metadata": {},
   "outputs": [],
   "source": [
    "e = PscMemberData(\"Emirhan\")"
   ]
  },
  {
   "cell_type": "code",
   "execution_count": null,
   "id": "9c8c9766-dccd-48e8-b21a-60cd072d4240",
   "metadata": {},
   "outputs": [],
   "source": [
    "a = PscMemberData(\"Ali\")"
   ]
  },
  {
   "cell_type": "code",
   "execution_count": null,
   "id": "0bdceb19-6c45-4364-bb8c-8c290e4c397d",
   "metadata": {},
   "outputs": [],
   "source": [
    "print(e.isim)"
   ]
  },
  {
   "cell_type": "code",
   "execution_count": null,
   "id": "e1df71d3-9c84-43d7-aad2-44c0eb6ae532",
   "metadata": {},
   "outputs": [],
   "source": [
    "a.uyeleri_görüntüle()"
   ]
  },
  {
   "cell_type": "code",
   "execution_count": null,
   "id": "9d771eb3-1aa0-425d-8df2-139773d8d9dc",
   "metadata": {},
   "outputs": [],
   "source": [
    "e.teknoloji_ekle(\"Python\")"
   ]
  },
  {
   "cell_type": "code",
   "execution_count": null,
   "id": "b3fdf05d-9f21-415c-b79d-e4de01687e28",
   "metadata": {},
   "outputs": [],
   "source": [
    "e.teknolojileri_görüntüle()"
   ]
  },
  {
   "cell_type": "code",
   "execution_count": null,
   "id": "1cd4df58-45c7-4d57-9329-1169ce56a743",
   "metadata": {},
   "outputs": [],
   "source": [
    "e.teknoloji_ekle(\"Vue\")"
   ]
  },
  {
   "cell_type": "code",
   "execution_count": null,
   "id": "16f02735-d6e5-47a4-bec0-58a78028c2d3",
   "metadata": {},
   "outputs": [],
   "source": [
    "e.teknolojileri_görüntüle()"
   ]
  },
  {
   "cell_type": "code",
   "execution_count": null,
   "id": "93a509fe-0390-4abb-ae3b-73e45d5995aa",
   "metadata": {},
   "outputs": [],
   "source": [
    "a.teknolojileri_görüntüle()"
   ]
  },
  {
   "cell_type": "code",
   "execution_count": null,
   "id": "e5b7c5ca-5519-4029-9474-0c92be036a68",
   "metadata": {},
   "outputs": [],
   "source": [
    "a.teknoloji_ekle(\"Python\")"
   ]
  },
  {
   "cell_type": "code",
   "execution_count": null,
   "id": "ca2e8535-aec3-4b68-aee8-92b6157e9ee4",
   "metadata": {},
   "outputs": [],
   "source": [
    "a.teknolojileri_görüntüle()"
   ]
  },
  {
   "cell_type": "code",
   "execution_count": null,
   "id": "640a400c-b882-4559-b30a-9f43906112f6",
   "metadata": {},
   "outputs": [],
   "source": [
    "# del teknolojiler değişkeninin tamamını siler, boş listemizde silinmiş olur\n",
    "del e.teknolojiler"
   ]
  },
  {
   "cell_type": "code",
   "execution_count": null,
   "id": "a6ac2021-3e48-4e6a-840e-c84ef6092620",
   "metadata": {},
   "outputs": [],
   "source": [
    "#Teknolojileri sildiğimiz için hata alacağız\n",
    "e.teknolojileri_görüntüle()"
   ]
  },
  {
   "cell_type": "code",
   "execution_count": null,
   "id": "fc7335a0-6591-4ab2-a767-9d5cfc7bad4e",
   "metadata": {},
   "outputs": [],
   "source": [
    "#Artık teknolojiler isimli bir listemiz olmadığı için hata alacağız\n",
    "e.teknoloji_ekle(\"Python\")"
   ]
  },
  {
   "cell_type": "code",
   "execution_count": null,
   "id": "eea949e0-d1de-421f-bef6-420b79a0cedd",
   "metadata": {},
   "outputs": [],
   "source": [
    "e.teknolojiler = []"
   ]
  },
  {
   "cell_type": "code",
   "execution_count": null,
   "id": "45adbd93-56e3-4845-be23-d0cf814bddcc",
   "metadata": {},
   "outputs": [],
   "source": [
    "e.teknoloji_ekle(\"Python\")"
   ]
  },
  {
   "cell_type": "code",
   "execution_count": null,
   "id": "4839fe21-544f-4d50-8297-2390576e8c37",
   "metadata": {},
   "outputs": [],
   "source": [
    "e.teknolojileri_görüntüle()"
   ]
  },
  {
   "cell_type": "code",
   "execution_count": null,
   "id": "8c509459-853c-4eac-886d-04dbf6951106",
   "metadata": {},
   "outputs": [],
   "source": [
    "# e değişkenimizi tamamen silmiş olduk\n",
    "del e"
   ]
  },
  {
   "cell_type": "code",
   "execution_count": null,
   "id": "7a219949-5ffa-4c01-a8d7-fccba88b2027",
   "metadata": {},
   "outputs": [],
   "source": [
    "#__init__ fonksiyonu içerisinde isim için bir varsayılan tanımlamadığımız için hata alıyoruz\n",
    "x = PscMemberData()"
   ]
  },
  {
   "cell_type": "code",
   "execution_count": null,
   "id": "c4e2b999-1c9d-44ee-bb04-e77b0b078ebb",
   "metadata": {},
   "outputs": [],
   "source": [
    "class PscMemberData():\n",
    "    uye = []\n",
    "\n",
    "    def __init__(self, isim = \"Bilgi yok\"):\n",
    "        self.isim = isim\n",
    "        self.teknolojiler = []\n",
    "        self.uye_ekle()\n",
    "\n",
    "    def uye_ekle(self):\n",
    "        self.uye.append(self.isim)\n",
    "        print('{} adlı kişi üye olarak eklendi'.format(self.isim))\n",
    "\n",
    "    def uyeleri_görüntüle(self):\n",
    "        print('Üye listesi:')\n",
    "        for kişi in self.uye:\n",
    "            print(kişi)\n",
    "\n",
    "    def teknoloji_ekle(self, teknoloji):\n",
    "        self.teknolojiler.append(teknoloji)\n",
    "\n",
    "    def teknolojileri_görüntüle(self):\n",
    "        print('{} adlı kişinin ilgilendiği teknolojiler:'.format(self.isim))\n",
    "        for teknoloji in self.teknolojiler:\n",
    "            print(teknoloji)"
   ]
  },
  {
   "cell_type": "code",
   "execution_count": null,
   "id": "46074caa-b55a-4627-aa5a-c76b08582676",
   "metadata": {},
   "outputs": [],
   "source": [
    "#Varsayılan bir değer tanımladığımız için hata almayız\n",
    "x = PscMemberData()"
   ]
  },
  {
   "cell_type": "code",
   "execution_count": null,
   "id": "0386fd2f-ac8f-4961-bb94-def27a1c475b",
   "metadata": {},
   "outputs": [],
   "source": [
    "y = PscMemberData(\"Emir\")"
   ]
  },
  {
   "cell_type": "code",
   "execution_count": null,
   "id": "97d8d081-0c3e-4051-a98e-c0fee39e6218",
   "metadata": {},
   "outputs": [],
   "source": [
    "class ATM():\n",
    "    def __init__(self,isim, bakiye = 0):\n",
    "        self.isim = isim\n",
    "        self.bakiye = bakiye\n",
    "\n",
    "    def para_yatir(self, miktar):\n",
    "        print(f'Hesabınıza {miktar} lira başarıyla yatırıldı, yeni bakiyeniz {miktar + self.bakiye} ₺')\n",
    "        self.bakiye += miktar\n",
    "\n",
    "    def para_cek(self, miktar):\n",
    "        if miktar > self.bakiye:\n",
    "            print(f\"Hesabınızda yeterli bakiye yok, toplam bakiyeniz: {self.bakiye}\")\n",
    "        else:\n",
    "            print(f\"Para çekme işleminiz başarılı, yeni bakiyeniz: {self.bakiye-miktar} ₺\")\n",
    "            self.bakiye -= miktar"
   ]
  },
  {
   "cell_type": "code",
   "execution_count": null,
   "id": "8a8b6ee6-1792-4041-a3fe-91daaf34c802",
   "metadata": {},
   "outputs": [],
   "source": [
    "x = ATM(\"Emirhan GÜLEÇ\")"
   ]
  },
  {
   "cell_type": "code",
   "execution_count": null,
   "id": "fa7bed01-e28c-416b-935a-5061800fe72b",
   "metadata": {},
   "outputs": [],
   "source": [
    "x.isim"
   ]
  },
  {
   "cell_type": "code",
   "execution_count": null,
   "id": "60ee35cf-2ed8-416e-bc12-ac4e07c326b7",
   "metadata": {},
   "outputs": [],
   "source": [
    "x.bakiye"
   ]
  },
  {
   "cell_type": "code",
   "execution_count": null,
   "id": "1b4ebc52-18f1-4ebc-a20c-bc317a2547c8",
   "metadata": {},
   "outputs": [],
   "source": [
    "x.para_yatir(500)"
   ]
  },
  {
   "cell_type": "code",
   "execution_count": null,
   "id": "4dc7577a-ef85-4b4c-8b01-85e07512a04a",
   "metadata": {},
   "outputs": [],
   "source": [
    "x.bakiye"
   ]
  },
  {
   "cell_type": "code",
   "execution_count": null,
   "id": "b738cf39-ea80-4ba8-a53d-ac4327889abe",
   "metadata": {},
   "outputs": [],
   "source": [
    "x.para_cek(550)"
   ]
  },
  {
   "cell_type": "code",
   "execution_count": null,
   "id": "ce1e5ce2-c91f-4603-b50c-22a0d6ad5aee",
   "metadata": {},
   "outputs": [],
   "source": [
    "x.para_cek(500)"
   ]
  },
  {
   "cell_type": "markdown",
   "id": "233ba09d-6193-4708-8a49-64d05ad41b15",
   "metadata": {},
   "source": [
    "# Inheritance"
   ]
  },
  {
   "cell_type": "code",
   "execution_count": null,
   "id": "6bdb154a-443f-49cb-a36c-4c2788699b92",
   "metadata": {},
   "outputs": [],
   "source": [
    "class PscMemberData():\n",
    "    uye = []\n",
    "\n",
    "    def __init__(self, isim):\n",
    "        self.isim = isim\n",
    "        self.teknolojiler = []\n",
    "        self.uye_ekle()\n",
    "\n",
    "    def uye_ekle(self):\n",
    "        self.uye.append(self.isim)\n",
    "        print('{} adlı kişi üye olarak eklendi'.format(self.isim))\n",
    "\n",
    "    def uyeleri_görüntüle(self):\n",
    "        print('Üye listesi:')\n",
    "        for kişi in self.uye:\n",
    "            print(kişi)\n",
    "\n",
    "    def teknoloji_ekle(self, teknoloji):\n",
    "        self.teknolojiler.append(teknoloji)\n",
    "\n",
    "    def teknolojileri_görüntüle(self):\n",
    "        print('{} adlı kişinin ilgilendiği teknolojiler:'.format(self.isim))\n",
    "        for teknoloji in self.teknolojiler:\n",
    "            print(teknoloji)"
   ]
  },
  {
   "cell_type": "code",
   "execution_count": null,
   "id": "f84c678b-f43d-4701-8903-ab50e69b0cd8",
   "metadata": {},
   "outputs": [],
   "source": [
    "#Yukarıda oluşturduğumuz PscMemberData'nın bilgilerini PscData isimli classımızda kullanıyoruz\n",
    "#Herhangi bir işlem yapmamamıza rağmen tüm özellikleri kullanabiliriz\n",
    "class PscData(PscMemberData):\n",
    "    pass"
   ]
  },
  {
   "cell_type": "code",
   "execution_count": null,
   "id": "7c2f57c9-0de5-4e21-bc13-0eb7bb88a05a",
   "metadata": {},
   "outputs": [],
   "source": [
    "emir = PscData(\"Emirhan GÜLEÇ\")"
   ]
  },
  {
   "cell_type": "code",
   "execution_count": null,
   "id": "95c6788b-3f75-4481-8007-f187723c5ae1",
   "metadata": {},
   "outputs": [],
   "source": [
    "ali = PscMemberData(\"Ali\")"
   ]
  },
  {
   "cell_type": "code",
   "execution_count": null,
   "id": "981011dd-fbd8-47cd-8f41-ac788f602983",
   "metadata": {},
   "outputs": [],
   "source": [
    "#PscMemberData classında yer alan uye_ekle() fonksiyonunun üzerine yazarak değiştiriyoruz\n",
    "#PscData Classımızda uye_ekle fonksiyonunu farklı bir fonksiyon olarak kullanıyoruz\n",
    "class PscData(PscMemberData):\n",
    "    def uye_ekle(self):\n",
    "        self.uye.append(self.isim)\n",
    "        print('{} aramıza hoş geldin :)'.format(self.isim))"
   ]
  },
  {
   "cell_type": "code",
   "execution_count": null,
   "id": "20ddc3f0-3713-4a66-b952-26fefcb59078",
   "metadata": {},
   "outputs": [],
   "source": [
    "emir = PscData(\"Emirhan GÜLEÇ\")"
   ]
  },
  {
   "cell_type": "code",
   "execution_count": null,
   "id": "0d13a1f1-44c4-41ee-92e1-008e4c743d4a",
   "metadata": {},
   "outputs": [],
   "source": [
    "emir = PscMemberData(\"Emirhan GÜLEÇ\")"
   ]
  },
  {
   "cell_type": "code",
   "execution_count": null,
   "id": "3bd6eb11-7bc7-4974-a0d3-774fdda0eaac",
   "metadata": {},
   "outputs": [],
   "source": [
    "class first_class():\n",
    "    def hi(self):\n",
    "        print(\"Birinci class\")"
   ]
  },
  {
   "cell_type": "code",
   "execution_count": null,
   "id": "71b1c504-350a-4059-81a6-a53787196e16",
   "metadata": {},
   "outputs": [],
   "source": [
    "class second_class():\n",
    "    def hi2(self):\n",
    "        print(\"İkinci class\")"
   ]
  },
  {
   "cell_type": "code",
   "execution_count": null,
   "id": "dce6bb7a-48c1-42b3-83c3-6113d3b7f8c0",
   "metadata": {},
   "outputs": [],
   "source": [
    "#Birden fazla classtan da miras alabiliriz\n",
    "class third_class(first_class, second_class):\n",
    "    pass"
   ]
  },
  {
   "cell_type": "code",
   "execution_count": null,
   "id": "d969c1f0-1fb1-4d6e-997e-0cb20d75c03e",
   "metadata": {},
   "outputs": [],
   "source": [
    "x = third_class()"
   ]
  },
  {
   "cell_type": "code",
   "execution_count": null,
   "id": "6f3052d7-4bc2-4002-b905-08679c6adcbd",
   "metadata": {},
   "outputs": [],
   "source": [
    "x.hi()"
   ]
  },
  {
   "cell_type": "code",
   "execution_count": null,
   "id": "7c600be5-1cec-47c6-8d61-ba9203283cff",
   "metadata": {},
   "outputs": [],
   "source": [
    "x.hi2()"
   ]
  },
  {
   "cell_type": "code",
   "execution_count": null,
   "id": "0ada2a68-b92b-4dda-bc35-76fc374a580b",
   "metadata": {},
   "outputs": [],
   "source": [
    "class third_class(first_class, second_class):\n",
    "    def hi(self):\n",
    "        print(\"Üçüncü class\")\n",
    "    def hi2(self):\n",
    "        print(\"Üçüncü class\")"
   ]
  },
  {
   "cell_type": "code",
   "execution_count": null,
   "id": "0501e0ae-9749-4719-b697-307bb7d83015",
   "metadata": {},
   "outputs": [],
   "source": [
    "x = third_class()"
   ]
  },
  {
   "cell_type": "code",
   "execution_count": null,
   "id": "85e7b936-7e2b-47d5-88b0-06295cf59622",
   "metadata": {},
   "outputs": [],
   "source": [
    "x.hi()"
   ]
  },
  {
   "cell_type": "code",
   "execution_count": null,
   "id": "96a19190-49f4-45a7-b511-44e9edc347bf",
   "metadata": {},
   "outputs": [],
   "source": [
    "x.hi2()"
   ]
  },
  {
   "cell_type": "code",
   "execution_count": null,
   "id": "9289ef6d-75e5-4b30-8d1d-c21223651e8e",
   "metadata": {},
   "outputs": [],
   "source": [
    "class PscMemberData():\n",
    "    uye = []\n",
    "\n",
    "    def __init__(self, isim):\n",
    "        self.isim = isim\n",
    "        self.teknolojiler = []\n",
    "        self.uye_ekle()\n",
    "\n",
    "    def uye_ekle(self):\n",
    "        self.uye.append(self.isim)\n",
    "        print('{} adlı kişi üye olarak eklendi'.format(self.isim))\n",
    "\n",
    "    def uyeleri_görüntüle(self):\n",
    "        print('Üye listesi:')\n",
    "        for kişi in self.uye:\n",
    "            print(kişi)\n",
    "\n",
    "    def teknoloji_ekle(self, teknoloji):\n",
    "        self.teknolojiler.append(teknoloji)\n",
    "\n",
    "    def teknolojileri_görüntüle(self):\n",
    "        print('{} adlı kişinin ilgilendiği teknolojiler:'.format(self.isim))\n",
    "        for teknoloji in self.teknolojiler:\n",
    "            print(teknoloji)"
   ]
  },
  {
   "cell_type": "code",
   "execution_count": null,
   "id": "a496fb62-752b-40cc-81e2-e039d1b7af60",
   "metadata": {},
   "outputs": [],
   "source": [
    "#super() kullanarak miras aldığımızın classta yer alan fonksiyonun içindeki özellikleri dahil edip üzerine eklemeler yapabiliriz.\n",
    "class PscMemberData2(PscMemberData):\n",
    "    def __init__(self, isim):\n",
    "        super().__init__(isim)\n",
    "        self.teknolojiler = [\"Python\"]"
   ]
  },
  {
   "cell_type": "code",
   "execution_count": null,
   "id": "c9d16155-4467-4cc9-942a-fde6b863d49c",
   "metadata": {},
   "outputs": [],
   "source": [
    "a = PscMemberData(\"Ali\")"
   ]
  },
  {
   "cell_type": "code",
   "execution_count": null,
   "id": "949cfee8-2e12-47c0-aa58-0ff7e1e5c481",
   "metadata": {},
   "outputs": [],
   "source": [
    "b = PscMemberData2(\"Emirhan\")"
   ]
  },
  {
   "cell_type": "code",
   "execution_count": null,
   "id": "8f45b472-063c-4fa6-89ab-c0ee6e31f206",
   "metadata": {},
   "outputs": [],
   "source": [
    "a.teknolojileri_görüntüle()"
   ]
  },
  {
   "cell_type": "code",
   "execution_count": null,
   "id": "abbfc57d-fb31-4e19-922d-dc1a5b65ae4c",
   "metadata": {},
   "outputs": [],
   "source": [
    "b.teknolojileri_görüntüle()"
   ]
  },
  {
   "cell_type": "markdown",
   "id": "69ac3dca-ef15-4448-bff1-71f9a590297c",
   "metadata": {},
   "source": [
    "# Encapsulation"
   ]
  },
  {
   "cell_type": "code",
   "execution_count": null,
   "id": "bc72c60c-3f27-4b08-b99f-ba7d6ee51aad",
   "metadata": {},
   "outputs": [],
   "source": [
    "#__x_ yapısı ile verilere erişimi engelleyebiliriz\n",
    "class Members():\n",
    "    def __init__(self, isim, soyisim, mail):\n",
    "        self.isim = isim\n",
    "        self.soyisim = soyisim\n",
    "        self.__mail_ = mail"
   ]
  },
  {
   "cell_type": "code",
   "execution_count": null,
   "id": "9ef75055-b159-47a8-a6c7-d4b3524a526c",
   "metadata": {},
   "outputs": [],
   "source": [
    "member1 = Members(\"Emirhan\", \"Güleç\", \"aemirglc@gmail.com\")\n",
    "\n",
    "print(member1.isim)"
   ]
  },
  {
   "cell_type": "code",
   "execution_count": null,
   "id": "2b9dce22-1766-4ab5-b58e-e95ed379771b",
   "metadata": {},
   "outputs": [],
   "source": [
    "print(member1.mail)"
   ]
  },
  {
   "cell_type": "code",
   "execution_count": null,
   "id": "eda2c9a9-fad7-4614-a8ad-55dfe7f167e6",
   "metadata": {},
   "outputs": [],
   "source": [
    "member1.mail = \"emirhangulec@gmail\"\n",
    "\n",
    "print(member1.mail)"
   ]
  }
 ],
 "metadata": {
  "kernelspec": {
   "display_name": "Python 3 (ipykernel)",
   "language": "python",
   "name": "python3"
  },
  "language_info": {
   "codemirror_mode": {
    "name": "ipython",
    "version": 3
   },
   "file_extension": ".py",
   "mimetype": "text/x-python",
   "name": "python",
   "nbconvert_exporter": "python",
   "pygments_lexer": "ipython3",
   "version": "3.9.7"
  }
 },
 "nbformat": 4,
 "nbformat_minor": 5
}
