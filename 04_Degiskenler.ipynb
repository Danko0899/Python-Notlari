{
 "cells": [
  {
   "cell_type": "markdown",
   "id": "1a07e9b1-2565-4b1a-a016-9cdc4a56df81",
   "metadata": {},
   "source": [
    "# Değişkenler"
   ]
  },
  {
   "cell_type": "code",
   "execution_count": null,
   "id": "a8679bf2-c1ee-42db-9227-ab4181ff8e37",
   "metadata": {},
   "outputs": [],
   "source": [
    "2*3"
   ]
  },
  {
   "cell_type": "code",
   "execution_count": null,
   "id": "2e9eafc0-ee3c-440e-b141-1c3ace2d2a61",
   "metadata": {},
   "outputs": [],
   "source": [
    "a=2"
   ]
  },
  {
   "cell_type": "code",
   "execution_count": null,
   "id": "24338d35-83d0-44e9-9a21-91566ffa3be8",
   "metadata": {},
   "outputs": [],
   "source": [
    "a*3"
   ]
  },
  {
   "cell_type": "code",
   "execution_count": null,
   "id": "e55b9739-67d7-4196-b711-ed2348f16d32",
   "metadata": {},
   "outputs": [],
   "source": [
    "b=3"
   ]
  },
  {
   "cell_type": "code",
   "execution_count": null,
   "id": "e28a1483-f229-41cf-b6e8-3972859005d0",
   "metadata": {},
   "outputs": [],
   "source": [
    "a*b"
   ]
  },
  {
   "cell_type": "code",
   "execution_count": null,
   "id": "f429e69a-d273-47f2-8e49-38c2da2346cb",
   "metadata": {},
   "outputs": [],
   "source": [
    "type(a)"
   ]
  },
  {
   "cell_type": "code",
   "execution_count": null,
   "id": "d92d13b2-9769-4be0-a165-65a4a0e11705",
   "metadata": {},
   "outputs": [],
   "source": [
    "c=5"
   ]
  },
  {
   "cell_type": "code",
   "execution_count": null,
   "id": "48880b0e-e22b-45cb-b979-395ea84de7e6",
   "metadata": {},
   "outputs": [],
   "source": [
    "type(c)"
   ]
  },
  {
   "cell_type": "code",
   "execution_count": null,
   "id": "1c96a702-94fc-4f19-9c9d-05bf30efc988",
   "metadata": {},
   "outputs": [],
   "source": [
    "c = 2.5"
   ]
  },
  {
   "cell_type": "code",
   "execution_count": null,
   "id": "5f1ea1e1-796c-44da-8800-cbd91569fdf3",
   "metadata": {},
   "outputs": [],
   "source": [
    "type(c)"
   ]
  },
  {
   "cell_type": "code",
   "execution_count": null,
   "id": "378be951-35ae-4dd7-8465-f057b4485f99",
   "metadata": {},
   "outputs": [],
   "source": [
    "a*c"
   ]
  },
  {
   "cell_type": "code",
   "execution_count": null,
   "id": "435f200b-faf1-4de1-9aa0-c4dba07cda99",
   "metadata": {},
   "outputs": [],
   "source": [
    "a = 50"
   ]
  },
  {
   "cell_type": "code",
   "execution_count": null,
   "id": "df9f22f7-a3c8-4819-af0d-591e1dee4e39",
   "metadata": {},
   "outputs": [],
   "source": [
    "a"
   ]
  },
  {
   "cell_type": "code",
   "execution_count": null,
   "id": "436b4db3-48af-4f56-9e38-53319479d133",
   "metadata": {},
   "outputs": [],
   "source": [
    "d = b*c"
   ]
  },
  {
   "cell_type": "code",
   "execution_count": null,
   "id": "9190dd46-20c2-4266-bf65-30a9f4373bb6",
   "metadata": {},
   "outputs": [],
   "source": [
    "d"
   ]
  },
  {
   "cell_type": "code",
   "execution_count": null,
   "id": "55588b27-8c46-4ac8-a59a-3e13168dc73f",
   "metadata": {},
   "outputs": [],
   "source": [
    "d = d+2"
   ]
  },
  {
   "cell_type": "code",
   "execution_count": null,
   "id": "ac60d7b6-065f-4e46-9230-7b9265c6d16f",
   "metadata": {},
   "outputs": [],
   "source": [
    "d"
   ]
  },
  {
   "cell_type": "code",
   "execution_count": null,
   "id": "8702683d-0f81-433a-b229-03bad325024f",
   "metadata": {},
   "outputs": [],
   "source": [
    "d += 2"
   ]
  },
  {
   "cell_type": "code",
   "execution_count": null,
   "id": "5e465f34-df64-4d21-b4a0-3cefe4665fac",
   "metadata": {},
   "outputs": [],
   "source": [
    "d"
   ]
  },
  {
   "cell_type": "code",
   "execution_count": null,
   "id": "35153f2e-6302-4223-9be5-198268b33db2",
   "metadata": {},
   "outputs": [],
   "source": [
    "d *= 2"
   ]
  },
  {
   "cell_type": "code",
   "execution_count": null,
   "id": "bf45a12f-a571-477d-92ae-4a811e2afd68",
   "metadata": {},
   "outputs": [],
   "source": [
    "d"
   ]
  },
  {
   "cell_type": "code",
   "execution_count": null,
   "id": "c2044935-965e-440a-9b5b-0a2947d215a5",
   "metadata": {},
   "outputs": [],
   "source": [
    "d /= 2"
   ]
  },
  {
   "cell_type": "code",
   "execution_count": null,
   "id": "eb2e0060-6cd2-40ce-bda9-6fb98b0f6256",
   "metadata": {},
   "outputs": [],
   "source": [
    "d"
   ]
  },
  {
   "cell_type": "code",
   "execution_count": null,
   "id": "6d0982c3-11f4-425a-99e1-942a60758e5e",
   "metadata": {},
   "outputs": [],
   "source": [
    "d -= 2"
   ]
  },
  {
   "cell_type": "code",
   "execution_count": null,
   "id": "ffc788d1-e78e-4d8c-a986-e6b64f66c0fb",
   "metadata": {},
   "outputs": [],
   "source": [
    "d"
   ]
  }
 ],
 "metadata": {
  "kernelspec": {
   "display_name": "Python 3 (ipykernel)",
   "language": "python",
   "name": "python3"
  },
  "language_info": {
   "codemirror_mode": {
    "name": "ipython",
    "version": 3
   },
   "file_extension": ".py",
   "mimetype": "text/x-python",
   "name": "python",
   "nbconvert_exporter": "python",
   "pygments_lexer": "ipython3",
   "version": "3.9.7"
  }
 },
 "nbformat": 4,
 "nbformat_minor": 5
}
