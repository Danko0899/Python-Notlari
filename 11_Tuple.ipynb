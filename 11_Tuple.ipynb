{
 "cells": [
  {
   "cell_type": "markdown",
   "id": "447c9054-b829-4738-816d-8af5569ef801",
   "metadata": {},
   "source": [
    "# Tuple"
   ]
  },
  {
   "cell_type": "code",
   "execution_count": null,
   "id": "7940394b-76f5-47e9-a448-f34dc7f1827e",
   "metadata": {},
   "outputs": [],
   "source": [
    "#Tupleların en önemli özelliği değiştirilemez olmasıdır ekleme/çıkartma işlemleri yapılamaz\n",
    "x = (1,2,3,\"Python\",\"Go\")"
   ]
  },
  {
   "cell_type": "code",
   "execution_count": null,
   "id": "cb0e78bb-f27b-4ebd-b5ac-59517cbdd7e4",
   "metadata": {},
   "outputs": [],
   "source": [
    "type(x)"
   ]
  },
  {
   "cell_type": "code",
   "execution_count": null,
   "id": "dfb6f6ac-002f-4891-810f-564dc7c8cdc5",
   "metadata": {},
   "outputs": [],
   "source": [
    "x[3]"
   ]
  },
  {
   "cell_type": "code",
   "execution_count": null,
   "id": "ada22778-324a-4298-aace-56cc1f22334b",
   "metadata": {},
   "outputs": [],
   "source": [
    "x.index(3)"
   ]
  },
  {
   "cell_type": "code",
   "execution_count": null,
   "id": "d343638c-c065-4000-979c-3a16f8b0212f",
   "metadata": {},
   "outputs": [],
   "source": [
    "x.index(\"Python\")"
   ]
  },
  {
   "cell_type": "code",
   "execution_count": null,
   "id": "f7698e8f-236c-4784-91b7-eac9aec25841",
   "metadata": {},
   "outputs": [],
   "source": [
    "#Tupleların listelerden farkı, herhangi bir elemanı silemiyoruz veya ekleme yapamıyoruz\n",
    "#Hata alırız\n",
    "x.pop()"
   ]
  },
  {
   "cell_type": "code",
   "execution_count": null,
   "id": "632d8342-efb7-4225-aabd-802eac95c486",
   "metadata": {},
   "outputs": [],
   "source": [
    "#Hata alırız\n",
    "x.remove(\"Python\")"
   ]
  },
  {
   "cell_type": "code",
   "execution_count": null,
   "id": "6afca2a7-d5a6-4e4d-b314-e6a98d89eed5",
   "metadata": {},
   "outputs": [],
   "source": [
    "#Hata alırız\n",
    "x.append(\"Hi\")"
   ]
  },
  {
   "cell_type": "code",
   "execution_count": null,
   "id": "fed45889-1a29-4176-80c1-2ab023427977",
   "metadata": {},
   "outputs": [],
   "source": [
    "#Hata alırız\n",
    "x.add(\"Hi\")"
   ]
  },
  {
   "cell_type": "code",
   "execution_count": null,
   "id": "760a99ad-f556-44a0-a339-8f7d6634d3ae",
   "metadata": {},
   "outputs": [],
   "source": [
    "#Eleman ekleme, çıkarma veya değiştirme işlemleri için önce bir listeye eşitleyebiliriz.\n",
    "x = (\"C\", \"Go\", \"Python\")\n",
    "y = list(x)\n",
    "y[1] = \"Java\"\n",
    "x = tuple(y)\n",
    "\n",
    "print(x)"
   ]
  },
  {
   "cell_type": "code",
   "execution_count": null,
   "id": "062e5192-a034-447e-93bb-04a622b84775",
   "metadata": {},
   "outputs": [],
   "source": [
    "x = (\"C\", \"Go\", \"Python\")\n",
    "y = list(x)\n",
    "y.append(\"Java\")\n",
    "x = tuple(y)"
   ]
  },
  {
   "cell_type": "code",
   "execution_count": null,
   "id": "829f3303-ce6c-482e-8c6e-d075ceff66b4",
   "metadata": {},
   "outputs": [],
   "source": [
    "x"
   ]
  },
  {
   "cell_type": "code",
   "execution_count": null,
   "id": "8b8025b9-e1ff-470b-a7ac-38d15bf67b3e",
   "metadata": {},
   "outputs": [],
   "source": [
    "tuple1 = (\"a\", \"b\" , \"c\")\n",
    "tuple2 = (1, 2, 3)\n",
    "\n",
    "tuple3 = tuple1 + tuple2\n",
    "print(tuple3)"
   ]
  },
  {
   "cell_type": "code",
   "execution_count": null,
   "id": "fe06ca11-43be-4a4d-8aac-0517f4601a6a",
   "metadata": {},
   "outputs": [],
   "source": [
    "lang = (\"Python\", \"C\", \"Go\")\n",
    "mylang = lang * 2\n",
    "\n",
    "print(mylang)"
   ]
  },
  {
   "cell_type": "code",
   "execution_count": null,
   "id": "5dc088a4-f3c0-4ea8-8a37-72191cb0d968",
   "metadata": {},
   "outputs": [],
   "source": [
    "mylang.count(\"C\")"
   ]
  }
 ],
 "metadata": {
  "kernelspec": {
   "display_name": "Python 3 (ipykernel)",
   "language": "python",
   "name": "python3"
  },
  "language_info": {
   "codemirror_mode": {
    "name": "ipython",
    "version": 3
   },
   "file_extension": ".py",
   "mimetype": "text/x-python",
   "name": "python",
   "nbconvert_exporter": "python",
   "pygments_lexer": "ipython3",
   "version": "3.9.7"
  }
 },
 "nbformat": 4,
 "nbformat_minor": 5
}
