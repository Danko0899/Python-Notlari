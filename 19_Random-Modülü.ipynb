{
 "cells": [
  {
   "cell_type": "markdown",
   "id": "b3bfb167-4b15-43aa-9361-d2a11fd3904d",
   "metadata": {},
   "source": [
    "# Random"
   ]
  },
  {
   "cell_type": "code",
   "execution_count": null,
   "id": "55d3db18-08f2-4aa0-9bc1-cd4d10a46529",
   "metadata": {},
   "outputs": [],
   "source": [
    "import random"
   ]
  },
  {
   "cell_type": "code",
   "execution_count": null,
   "id": "395fdf9e-3e15-455d-82a5-0e837ca12cee",
   "metadata": {},
   "outputs": [],
   "source": [
    "#random() bize 0 ve 1 arasında rastgele float bir değer döndürür\n",
    "random.random()"
   ]
  },
  {
   "cell_type": "code",
   "execution_count": null,
   "id": "1b091d35-dfdd-41c7-918b-993c7714070b",
   "metadata": {},
   "outputs": [],
   "source": [
    "for i in range(10):\n",
    "    print(random.random())"
   ]
  },
  {
   "cell_type": "code",
   "execution_count": null,
   "id": "6a41a06f-7185-4e8e-b0e9-9de3c8927c8c",
   "metadata": {},
   "outputs": [],
   "source": [
    "#uniform(x,y) bize x ve y arasında rastgele bir float değer döndürür.\n",
    "random.uniform(1, 10)"
   ]
  },
  {
   "cell_type": "code",
   "execution_count": null,
   "id": "c170f89c-5725-4e98-a20c-3b0f036aa286",
   "metadata": {},
   "outputs": [],
   "source": [
    "for i in range(10):\n",
    "    print(random.uniform(1, 10))"
   ]
  },
  {
   "cell_type": "code",
   "execution_count": null,
   "id": "4c55641a-9fa6-4019-9404-86e8b92daa96",
   "metadata": {},
   "outputs": [],
   "source": [
    "#random.randint() bize x ve y arasında bir integer değer döndürür.\n",
    "random.randint(1, 10)"
   ]
  },
  {
   "cell_type": "code",
   "execution_count": null,
   "id": "fd2d1c04-7c87-45cd-a977-33b1b110eeb9",
   "metadata": {},
   "outputs": [],
   "source": [
    "#random.randrange() bize x ve y arasında bir integer değer döndürür.\n",
    "#randint'ten farklı olarak range fonksiyonu gibi çalışır. İçinde bir değer veya üç değer barındırabiliriz.\n",
    "random.randrange(1, 10)"
   ]
  },
  {
   "cell_type": "code",
   "execution_count": null,
   "id": "d7e0504f-f320-4945-adb0-c7bce6af366f",
   "metadata": {},
   "outputs": [],
   "source": [
    "random.randint(10)"
   ]
  },
  {
   "cell_type": "code",
   "execution_count": null,
   "id": "4b62d197-9013-478b-b71f-e515121ef145",
   "metadata": {},
   "outputs": [],
   "source": [
    "random.randrange(10)"
   ]
  },
  {
   "cell_type": "code",
   "execution_count": null,
   "id": "8b9e7852-697a-48c0-99e5-f91b7f8be4a7",
   "metadata": {},
   "outputs": [],
   "source": [
    "#1'den başlayarak 10'a kadar 2şer 2şer gezinerek [1,3,5,7,9] sayılarından birini döndürür.\n",
    "random.randrange(1, 10, 2)"
   ]
  },
  {
   "cell_type": "code",
   "execution_count": null,
   "id": "f92c4956-927a-4356-86a4-c9a8172d2700",
   "metadata": {},
   "outputs": [],
   "source": [
    "random.randrange(1, 15, 2)"
   ]
  },
  {
   "cell_type": "code",
   "execution_count": null,
   "id": "3fd26eed-9244-41b5-8819-0d1051de496f",
   "metadata": {},
   "outputs": [],
   "source": [
    "for i in range(100):\n",
    "    print(random.randrange(0, 100, 5))"
   ]
  },
  {
   "cell_type": "code",
   "execution_count": null,
   "id": "2782326e-55d0-475d-815a-d7ffa240a128",
   "metadata": {},
   "outputs": [],
   "source": [
    "#random.choice() rastgele bir eleman seçmemizi sağlar\n",
    "lang = ['Python', 'Go', 'Java']\n",
    "random.choice(lang)"
   ]
  },
  {
   "cell_type": "code",
   "execution_count": null,
   "id": "fb03c1de-4f45-4b28-ac26-26e7a42cc4ec",
   "metadata": {},
   "outputs": [],
   "source": [
    "#random.randrange(10) ile aynı işlemi yapar\n",
    "random.choice(range(10))"
   ]
  },
  {
   "cell_type": "code",
   "execution_count": null,
   "id": "e46d6b7b-d43f-4a7d-a277-47d43c341580",
   "metadata": {},
   "outputs": [],
   "source": [
    "x = list(range(20))\n",
    "print(x)"
   ]
  },
  {
   "cell_type": "code",
   "execution_count": null,
   "id": "67887709-61bb-4a5d-b657-a80284ed80b0",
   "metadata": {},
   "outputs": [],
   "source": [
    "#random.shuffle değerlerimizi karıştırmamızı sağlar.\n",
    "random.shuffle(x)\n",
    "print(x)"
   ]
  },
  {
   "cell_type": "code",
   "execution_count": null,
   "id": "a9b5c563-3f83-4213-9688-5116910820f5",
   "metadata": {},
   "outputs": [],
   "source": [
    "x = [\"Python\", \"Go\", \"JavaScript\"]\n",
    "for i in range(5):\n",
    "    random.shuffle(x)\n",
    "    print(x)"
   ]
  },
  {
   "cell_type": "code",
   "execution_count": null,
   "id": "03b68116-cf03-400a-945c-d9220c32c0ea",
   "metadata": {},
   "outputs": [],
   "source": [
    "#Tupple'lar değiştirilemez :)\n",
    "x = (\"Python\", \"Go\", \"JavaScript\")\n",
    "random.shuffle(x)\n",
    "print(x)"
   ]
  },
  {
   "cell_type": "code",
   "execution_count": null,
   "id": "57bb5cae-a980-4a35-9150-790fb65a8e8d",
   "metadata": {},
   "outputs": [],
   "source": [
    "#random.sample() belirlediğimiz listemizden rastgele elemanlar seçmemize olanak sağlar ve bir liste döndürür\n",
    "x = list(range(20))\n",
    "random.sample(x, 5)"
   ]
  },
  {
   "cell_type": "code",
   "execution_count": null,
   "id": "49ac26c5-3427-43aa-bf99-e325f07186d5",
   "metadata": {},
   "outputs": [],
   "source": [
    "for i in range(5):\n",
    "    print(random.sample(x, 5))"
   ]
  }
 ],
 "metadata": {
  "kernelspec": {
   "display_name": "Python 3 (ipykernel)",
   "language": "python",
   "name": "python3"
  },
  "language_info": {
   "codemirror_mode": {
    "name": "ipython",
    "version": 3
   },
   "file_extension": ".py",
   "mimetype": "text/x-python",
   "name": "python",
   "nbconvert_exporter": "python",
   "pygments_lexer": "ipython3",
   "version": "3.9.7"
  }
 },
 "nbformat": 4,
 "nbformat_minor": 5
}
