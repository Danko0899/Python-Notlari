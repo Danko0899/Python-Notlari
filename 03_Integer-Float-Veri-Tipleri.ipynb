{
 "cells": [
  {
   "cell_type": "markdown",
   "id": "1389f1e4-d2bc-4f2d-a373-935a3859bf24",
   "metadata": {},
   "source": [
    "# Integer\n",
    "Matematikteki tam sayıları ifade eder"
   ]
  },
  {
   "cell_type": "code",
   "execution_count": null,
   "id": "b229af72-29c7-4581-97ac-97c831c33175",
   "metadata": {},
   "outputs": [],
   "source": [
    "4"
   ]
  },
  {
   "cell_type": "code",
   "execution_count": null,
   "id": "b1aa3773-a57b-4dad-a8ff-e9d8f5d5a5c5",
   "metadata": {},
   "outputs": [],
   "source": [
    "type(4)"
   ]
  },
  {
   "cell_type": "code",
   "execution_count": null,
   "id": "624724f0-84ba-4a89-9fda-e117b23a7878",
   "metadata": {},
   "outputs": [],
   "source": [
    "4+4"
   ]
  },
  {
   "cell_type": "code",
   "execution_count": null,
   "id": "1eb0f7a3-cbfe-48da-8621-c054f289c592",
   "metadata": {},
   "outputs": [],
   "source": [
    "type(4+4)"
   ]
  },
  {
   "cell_type": "code",
   "execution_count": null,
   "id": "21ac47bf-b8a5-49b5-8375-a3d4762eaa35",
   "metadata": {},
   "outputs": [],
   "source": [
    "4*4"
   ]
  },
  {
   "cell_type": "code",
   "execution_count": null,
   "id": "8e81327e-0406-4b2c-b2dd-3f56affd789f",
   "metadata": {},
   "outputs": [],
   "source": [
    "type(4*4)"
   ]
  },
  {
   "cell_type": "code",
   "execution_count": null,
   "id": "f6318357-5c9f-412f-acc3-d47484c1d09f",
   "metadata": {},
   "outputs": [],
   "source": [
    "6/2"
   ]
  },
  {
   "cell_type": "code",
   "execution_count": null,
   "id": "7936282b-5871-4c5f-a6d7-082f1517f829",
   "metadata": {},
   "outputs": [],
   "source": [
    "type(6/2)"
   ]
  },
  {
   "cell_type": "markdown",
   "id": "212b4983-52a1-4f44-9afb-0722eb37c69b",
   "metadata": {},
   "source": [
    "### Float\n",
    "Matematikteki ondalıklı sayıları ifade eder"
   ]
  },
  {
   "cell_type": "code",
   "execution_count": null,
   "id": "d77ee4aa-fcda-4f24-8fee-58af74aa83b5",
   "metadata": {},
   "outputs": [],
   "source": [
    "1.5+2.5"
   ]
  },
  {
   "cell_type": "code",
   "execution_count": null,
   "id": "19b8003a-eecc-41dc-a116-1bf47a7d70fb",
   "metadata": {},
   "outputs": [],
   "source": [
    "type(1.5+2.5)"
   ]
  },
  {
   "cell_type": "code",
   "execution_count": null,
   "id": "fde3fb97-a337-423d-92aa-e30cf537dc69",
   "metadata": {},
   "outputs": [],
   "source": [
    "2.0+1"
   ]
  },
  {
   "cell_type": "code",
   "execution_count": null,
   "id": "2040b7e6-bef6-4dd3-acef-b8b41b9baee2",
   "metadata": {},
   "outputs": [],
   "source": [
    "type(2.0+1)"
   ]
  },
  {
   "cell_type": "code",
   "execution_count": null,
   "id": "d6a68974-7174-4d05-8523-3f228dadcaf1",
   "metadata": {},
   "outputs": [],
   "source": []
  }
 ],
 "metadata": {
  "kernelspec": {
   "display_name": "Python 3 (ipykernel)",
   "language": "python",
   "name": "python3"
  },
  "language_info": {
   "codemirror_mode": {
    "name": "ipython",
    "version": 3
   },
   "file_extension": ".py",
   "mimetype": "text/x-python",
   "name": "python",
   "nbconvert_exporter": "python",
   "pygments_lexer": "ipython3",
   "version": "3.9.7"
  }
 },
 "nbformat": 4,
 "nbformat_minor": 5
}
