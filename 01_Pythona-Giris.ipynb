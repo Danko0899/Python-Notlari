{
 "cells": [
  {
   "cell_type": "markdown",
   "id": "9d57c86f-6e76-4fc0-9b7e-9dcd215a9992",
   "metadata": {
    "tags": []
   },
   "source": [
    "# Python Nedir?\n",
    "* Python Guido Van Rossum tarafından geliştirilmiştir.\n",
    "* Python programlama dilinin ilk versiyonu 1991 yılında 0.9.0 veriyonu olarak yayınlandı, 1994 yılında ise 1.0 versiyonu yayınlandı.\n",
    "* Python, nesne yönelimli, yorumlamalı, birimsel ve etkileşimli yüksek seviyeli bir programlama dilidir.\n",
    "* Python ismi piton yılanından değil ‘Monty Python’s Flying Circus’ adlı komedi programından gelmektedir."
   ]
  },
  {
   "cell_type": "markdown",
   "id": "e0e7f70a-8200-4990-8f9b-f627cf659c4f",
   "metadata": {
    "tags": []
   },
   "source": [
    "# Program Nedir?\n",
    "Program, yapılacak bir işlemi ya da hesaplamayı gerçekleştirmek için birbirini izleyen komut ya da yönergelerden oluşan yapıdır. İşlemler matematiksel ya da mantıksal olabilir."
   ]
  },
  {
   "cell_type": "markdown",
   "id": "2d43433d-13b0-48e8-934a-f185665e1818",
   "metadata": {
    "tags": []
   },
   "source": [
    "# Python Neler Yapabilir?\n",
    "* Python, web uygulamaları oluşturmak için bir sunucuda kullanılabilir.\n",
    "* Python, iş akışları oluşturmak için yazılımla birlikte kullanılabilir.\n",
    "* Python, veritabanı sistemlerine bağlanabilir. Ayrıca dosyaları okuyabilir ve değiştirebilir.\n",
    "* Python, büyük verileri işlemek ve karmaşık matematik işlemlerini gerçekleştirmek için kullanılabilir.\n",
    "* Python, hızlı prototipleme veya üretime hazır yazılım geliştirme için kullanılabilir.\n",
    "* Python, makine öğreniminde kullanılabilir."
   ]
  }
 ],
 "metadata": {
  "kernelspec": {
   "display_name": "Python 3 (ipykernel)",
   "language": "python",
   "name": "python3"
  },
  "language_info": {
   "codemirror_mode": {
    "name": "ipython",
    "version": 3
   },
   "file_extension": ".py",
   "mimetype": "text/x-python",
   "name": "python",
   "nbconvert_exporter": "python",
   "pygments_lexer": "ipython3",
   "version": "3.9.7"
  }
 },
 "nbformat": 4,
 "nbformat_minor": 5
}
