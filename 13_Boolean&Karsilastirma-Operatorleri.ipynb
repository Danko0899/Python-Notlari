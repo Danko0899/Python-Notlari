{
 "cells": [
  {
   "cell_type": "markdown",
   "id": "ee50d557-9561-4cc8-9e93-f473ffa959ce",
   "metadata": {},
   "source": [
    "# Boolean"
   ]
  },
  {
   "cell_type": "code",
   "execution_count": null,
   "id": "ea416134-3c7d-4a10-bab2-5f868eb91a1e",
   "metadata": {},
   "outputs": [],
   "source": [
    "True"
   ]
  },
  {
   "cell_type": "code",
   "execution_count": null,
   "id": "47b8c284-7144-45bb-8182-5f15e4ef8c7c",
   "metadata": {},
   "outputs": [],
   "source": [
    "False"
   ]
  },
  {
   "cell_type": "code",
   "execution_count": null,
   "id": "39bc36f0-243c-4540-b73a-61c87ace40c3",
   "metadata": {},
   "outputs": [],
   "source": [
    "bool(1)"
   ]
  },
  {
   "cell_type": "code",
   "execution_count": null,
   "id": "549805d4-0810-42cb-93fc-07de132e2cac",
   "metadata": {},
   "outputs": [],
   "source": [
    "bool(-1)"
   ]
  },
  {
   "cell_type": "code",
   "execution_count": null,
   "id": "ac5d959d-63c7-4f4f-8925-523d234d13cf",
   "metadata": {},
   "outputs": [],
   "source": [
    "bool(\"Emirhan\")"
   ]
  },
  {
   "cell_type": "code",
   "execution_count": null,
   "id": "51b2215b-cdfd-44dd-b484-b4edd6bf6063",
   "metadata": {},
   "outputs": [],
   "source": [
    "bool(0)"
   ]
  },
  {
   "cell_type": "code",
   "execution_count": null,
   "id": "412f99b9-3102-4573-9dc2-b718aa6673b0",
   "metadata": {},
   "outputs": [],
   "source": [
    "a = []"
   ]
  },
  {
   "cell_type": "code",
   "execution_count": null,
   "id": "f53ec880-9316-4b76-bb55-20db610843c4",
   "metadata": {},
   "outputs": [],
   "source": [
    "bool(a)"
   ]
  },
  {
   "cell_type": "code",
   "execution_count": null,
   "id": "df323804-5129-4226-94b4-e81ba1571875",
   "metadata": {},
   "outputs": [],
   "source": [
    "liste = [True,True,False]\n",
    "all(liste)"
   ]
  },
  {
   "cell_type": "code",
   "execution_count": null,
   "id": "51808035-1153-4eaf-a3f7-5c6536259b94",
   "metadata": {},
   "outputs": [],
   "source": [
    "any(liste)"
   ]
  },
  {
   "cell_type": "markdown",
   "id": "73b880cc-c59c-4490-967b-7a752c823be9",
   "metadata": {},
   "source": [
    "# Mantıksal Değerler ve Karşılaştırma Operatörleri"
   ]
  },
  {
   "cell_type": "code",
   "execution_count": null,
   "id": "b62f771b-07cd-40ff-ad28-2a635ee118cb",
   "metadata": {},
   "outputs": [],
   "source": [
    "num1=11\n",
    "num2=21"
   ]
  },
  {
   "cell_type": "code",
   "execution_count": null,
   "id": "072ca97d-4adc-4bfd-956d-ba3c1c7d26b2",
   "metadata": {},
   "outputs": [],
   "source": [
    "#num1 ile num2 eşittir ifadesinin doğrulunu kontrol eder num1 num2 ye eşit ise True değilse False döndürür.\n",
    "print(num1==num2)"
   ]
  },
  {
   "cell_type": "code",
   "execution_count": null,
   "id": "f73e2f85-15ee-4759-bb07-9dbec920f693",
   "metadata": {},
   "outputs": [],
   "source": [
    "#num1 büyüktür num2 ifadesinin doğruluğunu kontol eder eğer num1 num2'den büyük ise True değilse False döndürür.\n",
    "print(num1>num2)"
   ]
  },
  {
   "cell_type": "code",
   "execution_count": null,
   "id": "40c31d8d-1e87-4fa6-bfa4-f17fffe307e7",
   "metadata": {},
   "outputs": [],
   "source": [
    "#num1 ile num2 eşit değildir ifadesinin doğrulunu kontrol eder num1 num2 ye eşit değilse True değilse False döndürür\n",
    "print(num1!=num2)"
   ]
  },
  {
   "cell_type": "code",
   "execution_count": null,
   "id": "17828648-a656-4931-8cbc-1ec42e319726",
   "metadata": {},
   "outputs": [],
   "source": [
    "#num1 büyüktür yada eşittir ifadesinin doğrulunu kontrol eder num1>=num2 ise True değilse False döndürür\n",
    "print(num1>=num2)"
   ]
  },
  {
   "cell_type": "markdown",
   "id": "52b4e179-d54b-4224-af12-d66768a1a23c",
   "metadata": {},
   "source": [
    "## and & or & not"
   ]
  },
  {
   "cell_type": "code",
   "execution_count": null,
   "id": "9802560b-0fef-42aa-b82e-41f5654c3044",
   "metadata": {},
   "outputs": [],
   "source": [
    "#and operatörünün True döndürmesi için iki ifadenin de true olması gerekir\n",
    "True and True"
   ]
  },
  {
   "cell_type": "code",
   "execution_count": null,
   "id": "1acb761f-735b-41cf-ba13-720720e08e16",
   "metadata": {},
   "outputs": [],
   "source": [
    "True and False"
   ]
  },
  {
   "cell_type": "code",
   "execution_count": null,
   "id": "adac7d52-dd07-4c4f-b2d7-e5f91c93edb3",
   "metadata": {},
   "outputs": [],
   "source": [
    "False and False"
   ]
  },
  {
   "cell_type": "code",
   "execution_count": null,
   "id": "e142896f-31cf-4c59-97a0-6c59914bfa61",
   "metadata": {},
   "outputs": [],
   "source": [
    "#or operatörünün True döndürmesi için bir ifadenin True olması yeterlidir\n",
    "True or False or False or False"
   ]
  },
  {
   "cell_type": "code",
   "execution_count": null,
   "id": "fbd1688f-46e6-411b-8878-e06fb3fe632e",
   "metadata": {},
   "outputs": [],
   "source": [
    "not True and True"
   ]
  },
  {
   "cell_type": "code",
   "execution_count": null,
   "id": "a9346f2c-187f-4b90-b754-cd9dcda4c352",
   "metadata": {},
   "outputs": [],
   "source": [
    "not True and False"
   ]
  },
  {
   "cell_type": "code",
   "execution_count": null,
   "id": "eb5ccb68-af15-420c-a9d4-a27bdab0c684",
   "metadata": {},
   "outputs": [],
   "source": [
    "not (True and False)"
   ]
  },
  {
   "cell_type": "code",
   "execution_count": null,
   "id": "23f3c557-4176-4a69-aa43-4dba6f690771",
   "metadata": {},
   "outputs": [],
   "source": [
    "sayı=int(input(\"Bir sayı giriniz: \"))\n",
    "pos_neg = sayı>0 #kullanıcının girdiği inputun sıfıdan büyük ise True değilse False döndürür ve pos_neg değişkenine eşitler\n",
    "print(f'girdiğiniz sayının poziflik durumu: {pos_neg}')"
   ]
  },
  {
   "cell_type": "code",
   "execution_count": null,
   "id": "43828794-9757-4f5f-9ab0-7c0a2bdecaca",
   "metadata": {},
   "outputs": [],
   "source": []
  }
 ],
 "metadata": {
  "kernelspec": {
   "display_name": "Python 3 (ipykernel)",
   "language": "python",
   "name": "python3"
  },
  "language_info": {
   "codemirror_mode": {
    "name": "ipython",
    "version": 3
   },
   "file_extension": ".py",
   "mimetype": "text/x-python",
   "name": "python",
   "nbconvert_exporter": "python",
   "pygments_lexer": "ipython3",
   "version": "3.9.7"
  }
 },
 "nbformat": 4,
 "nbformat_minor": 5
}
