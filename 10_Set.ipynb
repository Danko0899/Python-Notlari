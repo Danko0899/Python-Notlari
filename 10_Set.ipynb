{
 "cells": [
  {
   "cell_type": "markdown",
   "id": "5cf59284-e4d9-4060-8ee0-963f244c214a",
   "metadata": {},
   "source": [
    "# Set"
   ]
  },
  {
   "cell_type": "code",
   "execution_count": null,
   "id": "fd651c1e-7742-4261-9bfe-092f469c115d",
   "metadata": {},
   "outputs": [],
   "source": [
    "#Setlerin en önemli özelliği her değeri içerisinde bir defa bulundurmasıdır\n",
    "lang = {\"Python\",\"C\",\"Go\"}"
   ]
  },
  {
   "cell_type": "code",
   "execution_count": null,
   "id": "c48356d3-8126-441b-b6a0-59478aa7efaa",
   "metadata": {},
   "outputs": [],
   "source": [
    "type(lang)"
   ]
  },
  {
   "cell_type": "code",
   "execution_count": null,
   "id": "6faf1737-090c-4806-9e19-62eb76f59fc6",
   "metadata": {},
   "outputs": [],
   "source": [
    "#Setler sıralı değildir\n",
    "lang"
   ]
  },
  {
   "cell_type": "code",
   "execution_count": null,
   "id": "62cf30a1-92ac-4202-85e0-02fe73f1f60a",
   "metadata": {},
   "outputs": [],
   "source": [
    "lang = {\"Python\",\"C\",\"Go\",\"Go\",\"Go\"}"
   ]
  },
  {
   "cell_type": "code",
   "execution_count": null,
   "id": "a3f8abe2-fcef-48c0-9af9-5fc8f8bd03c5",
   "metadata": {},
   "outputs": [],
   "source": [
    "lang"
   ]
  },
  {
   "cell_type": "code",
   "execution_count": null,
   "id": "7ac217f6-dae1-47bc-ac07-c83a488672e4",
   "metadata": {},
   "outputs": [],
   "source": [
    "#boş set oluşturmak istediğimizde hatalı bir kullanım olur // Sözlük oluşturmuş oluruz\n",
    "lang2 = {}"
   ]
  },
  {
   "cell_type": "code",
   "execution_count": null,
   "id": "7591d532-914d-469b-82ef-0b91b9d865f3",
   "metadata": {},
   "outputs": [],
   "source": [
    "lang2"
   ]
  },
  {
   "cell_type": "code",
   "execution_count": null,
   "id": "88b0b6f3-96aa-4158-a5fd-7e011fe7085d",
   "metadata": {},
   "outputs": [],
   "source": [
    "type(lang2)"
   ]
  },
  {
   "cell_type": "code",
   "execution_count": null,
   "id": "fa64227c-0232-46f5-be9d-0a5e88d7b55c",
   "metadata": {},
   "outputs": [],
   "source": [
    "lang3 = set()"
   ]
  },
  {
   "cell_type": "code",
   "execution_count": null,
   "id": "715febd7-fa84-416a-8676-7d1f2b5e69c7",
   "metadata": {},
   "outputs": [],
   "source": [
    "type(lang3)"
   ]
  },
  {
   "cell_type": "code",
   "execution_count": null,
   "id": "f80b1782-edb2-4688-ab8e-f35eaabaf474",
   "metadata": {},
   "outputs": [],
   "source": [
    "lang3"
   ]
  },
  {
   "cell_type": "code",
   "execution_count": null,
   "id": "0e8f4311-11d1-442b-929f-faac83387b1f",
   "metadata": {},
   "outputs": [],
   "source": [
    "# sete eleman eklemek için .add metodunu kullanabiliriz\n",
    "lang3.add(\"Ruby\")"
   ]
  },
  {
   "cell_type": "code",
   "execution_count": null,
   "id": "80add831-1afb-4a9a-88df-40a2294a415d",
   "metadata": {},
   "outputs": [],
   "source": [
    "lang3"
   ]
  },
  {
   "cell_type": "code",
   "execution_count": null,
   "id": "f6f81672-9c5e-4113-b14a-74beebaa0940",
   "metadata": {},
   "outputs": [],
   "source": [
    "lang"
   ]
  },
  {
   "cell_type": "code",
   "execution_count": null,
   "id": "e7d25e9a-2c93-4c60-bb47-14cf4f8fa39f",
   "metadata": {},
   "outputs": [],
   "source": [
    "# sete farklı bir küme eklemek veya liste elemanı eklemek için .update metodunu kullanabiliriz\n",
    "# String eklemek istediğimizde ise ör. \"Emir\"  'E','m','i','r' şeklinde ekler\n",
    "lang.update(lang3)"
   ]
  },
  {
   "cell_type": "code",
   "execution_count": null,
   "id": "e41cb51a-9c39-420f-a502-deac36df8a5f",
   "metadata": {},
   "outputs": [],
   "source": [
    "lang"
   ]
  },
  {
   "cell_type": "code",
   "execution_count": null,
   "id": "9a59f761-1c08-42c4-982d-3372c34716f3",
   "metadata": {},
   "outputs": [],
   "source": [
    "#Setten eleman çıkartmak için .remove metodunu kullanabiliriz\n",
    "lang.remove(\"Ruby\")"
   ]
  },
  {
   "cell_type": "code",
   "execution_count": null,
   "id": "da56e003-c83e-4c36-80f6-14425dbdf92b",
   "metadata": {},
   "outputs": [],
   "source": [
    "lang"
   ]
  },
  {
   "cell_type": "code",
   "execution_count": null,
   "id": "33573fe9-4959-4e14-96f1-19003350e513",
   "metadata": {},
   "outputs": [],
   "source": [
    "#Setten eleman çıkartmak için .discard metodunu kullanabiliriz\n",
    "lang.discard(\"Go\")"
   ]
  },
  {
   "cell_type": "code",
   "execution_count": null,
   "id": "e81c8063-d3ae-499e-b025-f9d69e87e4ef",
   "metadata": {},
   "outputs": [],
   "source": [
    "print(lang)"
   ]
  },
  {
   "cell_type": "code",
   "execution_count": null,
   "id": "619d0b2e-bdec-4f3f-9c80-5ae7ee11ac34",
   "metadata": {},
   "outputs": [],
   "source": [
    "#Setler sırasız olduğu için print ettiğimizde sondaki değer \"C\" olması gerekirken Python listeleniyor.\n",
    "#pop() metodu ise son elemanımızı sildiği için \"C\" listeden çıkıyor.\n",
    "lang.pop()"
   ]
  },
  {
   "cell_type": "code",
   "execution_count": null,
   "id": "006418e8-139b-491b-97e4-6723119c6e6c",
   "metadata": {},
   "outputs": [],
   "source": [
    "lang"
   ]
  },
  {
   "cell_type": "code",
   "execution_count": null,
   "id": "e7aa4c82-b6a7-47d4-b2ac-48b23435f255",
   "metadata": {},
   "outputs": [],
   "source": [
    "lang = {\"Python\",\"C\",\"Go\"}\n",
    "lang.pop()\n",
    "print(lang)"
   ]
  },
  {
   "cell_type": "code",
   "execution_count": null,
   "id": "de6a4839-b154-42ee-a875-119e03fb2404",
   "metadata": {},
   "outputs": [],
   "source": [
    "set1 = {\"a\", \"b\" , \"c\"}\n",
    "set2 = {1, 2, 3}\n",
    "\n",
    "set3 = set1.union(set2)\n",
    "print(set3)"
   ]
  }
 ],
 "metadata": {
  "kernelspec": {
   "display_name": "Python 3 (ipykernel)",
   "language": "python",
   "name": "python3"
  },
  "language_info": {
   "codemirror_mode": {
    "name": "ipython",
    "version": 3
   },
   "file_extension": ".py",
   "mimetype": "text/x-python",
   "name": "python",
   "nbconvert_exporter": "python",
   "pygments_lexer": "ipython3",
   "version": "3.9.7"
  }
 },
 "nbformat": 4,
 "nbformat_minor": 5
}
