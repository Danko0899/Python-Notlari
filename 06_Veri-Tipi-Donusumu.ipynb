{
 "cells": [
  {
   "cell_type": "markdown",
   "id": "0795b926-ebaf-49e2-ac6c-4a16cdcff05b",
   "metadata": {},
   "source": [
    "# Veri Tipi Dönüşümü"
   ]
  },
  {
   "cell_type": "code",
   "execution_count": null,
   "id": "68be9579-0de2-4a1b-9bfc-a916e862e3bc",
   "metadata": {},
   "outputs": [],
   "source": [
    "a = 3.14"
   ]
  },
  {
   "cell_type": "code",
   "execution_count": null,
   "id": "a133e767-f731-4c0a-83eb-0aaca7c8b63d",
   "metadata": {},
   "outputs": [],
   "source": [
    "type(a)"
   ]
  },
  {
   "cell_type": "code",
   "execution_count": null,
   "id": "9cc15604-446b-4879-802f-ae234b140100",
   "metadata": {},
   "outputs": [],
   "source": [
    "a = int(a)"
   ]
  },
  {
   "cell_type": "code",
   "execution_count": null,
   "id": "ee3c6eb9-9e9e-4c93-91da-f6b34661c731",
   "metadata": {},
   "outputs": [],
   "source": [
    "a"
   ]
  },
  {
   "cell_type": "code",
   "execution_count": null,
   "id": "aa76fab8-59e6-4644-a944-2808f44f7d83",
   "metadata": {},
   "outputs": [],
   "source": [
    "type(a)"
   ]
  },
  {
   "cell_type": "code",
   "execution_count": null,
   "id": "fbd796da-1d60-4971-bd78-dc413b4ef740",
   "metadata": {},
   "outputs": [],
   "source": [
    "a = '3'"
   ]
  },
  {
   "cell_type": "code",
   "execution_count": null,
   "id": "f5453c5c-45df-43db-abd7-3d7e9798132e",
   "metadata": {},
   "outputs": [],
   "source": [
    "a"
   ]
  },
  {
   "cell_type": "code",
   "execution_count": null,
   "id": "fa2fc717-9913-4f14-83c3-64f0f6c21ee7",
   "metadata": {},
   "outputs": [],
   "source": [
    "type(a)"
   ]
  },
  {
   "cell_type": "code",
   "execution_count": null,
   "id": "c527136f-9b6c-44d5-8de0-7b001ce47a75",
   "metadata": {},
   "outputs": [],
   "source": [
    "a = int(a)"
   ]
  },
  {
   "cell_type": "code",
   "execution_count": null,
   "id": "356abcad-f230-4a50-9820-d2530a966702",
   "metadata": {},
   "outputs": [],
   "source": [
    "a"
   ]
  },
  {
   "cell_type": "code",
   "execution_count": null,
   "id": "dd7223dc-b2cb-433d-95b3-e88e0e5c245a",
   "metadata": {},
   "outputs": [],
   "source": [
    "type(a)"
   ]
  },
  {
   "cell_type": "code",
   "execution_count": null,
   "id": "157ddb90-392a-4e9d-9635-d630613ffcfe",
   "metadata": {},
   "outputs": [],
   "source": [
    "a = 'Elma'"
   ]
  },
  {
   "cell_type": "code",
   "execution_count": null,
   "id": "da574d8e-c4f1-4125-b2b7-27b1a8021ee1",
   "metadata": {},
   "outputs": [],
   "source": [
    "type(a)"
   ]
  },
  {
   "cell_type": "code",
   "execution_count": null,
   "id": "48542842-07f0-4a35-864c-548f20a61963",
   "metadata": {},
   "outputs": [],
   "source": [
    "#Elma'nın int karşılığı olmadığı için hata alırız!\n",
    "int(a)"
   ]
  },
  {
   "cell_type": "code",
   "execution_count": null,
   "id": "a69b03b7-5f81-43c4-a4be-7348d66553c7",
   "metadata": {},
   "outputs": [],
   "source": [
    "a = '3.14'"
   ]
  },
  {
   "cell_type": "code",
   "execution_count": null,
   "id": "17a4d964-c47a-47e7-8bd7-730a6cf2ecbd",
   "metadata": {},
   "outputs": [],
   "source": [
    "#3.14 değerinin karşılığı int olmadığı için hata alırız\n",
    "int(a)"
   ]
  },
  {
   "cell_type": "code",
   "execution_count": null,
   "id": "02de1fc7-4198-4629-8361-3ad0db84009f",
   "metadata": {},
   "outputs": [],
   "source": [
    "#String değerimizi floata çevirdikten sonra int değere çevirebiliriz\n",
    "int(float(a))"
   ]
  }
 ],
 "metadata": {
  "kernelspec": {
   "display_name": "Python 3 (ipykernel)",
   "language": "python",
   "name": "python3"
  },
  "language_info": {
   "codemirror_mode": {
    "name": "ipython",
    "version": 3
   },
   "file_extension": ".py",
   "mimetype": "text/x-python",
   "name": "python",
   "nbconvert_exporter": "python",
   "pygments_lexer": "ipython3",
   "version": "3.9.7"
  }
 },
 "nbformat": 4,
 "nbformat_minor": 5
}
