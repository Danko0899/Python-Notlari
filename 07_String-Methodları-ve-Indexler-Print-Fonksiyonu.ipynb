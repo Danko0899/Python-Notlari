{
 "cells": [
  {
   "cell_type": "markdown",
   "id": "5180593f-788b-42c9-8e19-d5623f86b40e",
   "metadata": {},
   "source": [
    "# String Methodları"
   ]
  },
  {
   "cell_type": "code",
   "execution_count": null,
   "id": "3b431c01-f9c7-40fa-be0c-fb9142536580",
   "metadata": {},
   "outputs": [],
   "source": [
    "name = 'emirhan güleç'"
   ]
  },
  {
   "cell_type": "code",
   "execution_count": null,
   "id": "d53830d5-cc5a-42fe-ade6-2aae6d00504c",
   "metadata": {},
   "outputs": [],
   "source": [
    "# capitalize() cümlemizilk harfini büyük harfe çevirir\n",
    "name.capitalize()"
   ]
  },
  {
   "cell_type": "code",
   "execution_count": null,
   "id": "be0abdae-41af-46c7-98b4-c0624dd86865",
   "metadata": {},
   "outputs": [],
   "source": [
    "\n",
    "name.split()"
   ]
  },
  {
   "cell_type": "code",
   "execution_count": null,
   "id": "6e174364-1bf3-4472-9dae-51b52a4c81a5",
   "metadata": {},
   "outputs": [],
   "source": [
    "#upper() tüm harfleri büyük harfe çevirir\n",
    "name.upper()"
   ]
  },
  {
   "cell_type": "code",
   "execution_count": null,
   "id": "9d5a210d-2fb8-498c-a028-6d8ca142b726",
   "metadata": {},
   "outputs": [],
   "source": [
    "x = \"12\""
   ]
  },
  {
   "cell_type": "code",
   "execution_count": null,
   "id": "a36e2400-b773-4bab-99a1-dfb79a3c4da8",
   "metadata": {},
   "outputs": [],
   "source": [
    "x * 3"
   ]
  },
  {
   "cell_type": "code",
   "execution_count": null,
   "id": "ba62898a-0009-4492-a6dc-c6a2379d225d",
   "metadata": {},
   "outputs": [],
   "source": [
    "name + name"
   ]
  },
  {
   "cell_type": "code",
   "execution_count": null,
   "id": "89075687-f7a4-48e9-bae3-4d5e39e2f728",
   "metadata": {},
   "outputs": [],
   "source": [
    "name + ' ' + name"
   ]
  },
  {
   "cell_type": "markdown",
   "id": "ef06a063-8aaa-41dc-b4c0-1987b67958a9",
   "metadata": {},
   "source": [
    "# Indexler"
   ]
  },
  {
   "cell_type": "code",
   "execution_count": null,
   "id": "52ce0490-ed4d-444a-a2e8-725e60e863f9",
   "metadata": {},
   "outputs": [],
   "source": [
    "name = 'emirhan güleç'"
   ]
  },
  {
   "cell_type": "code",
   "execution_count": null,
   "id": "25f75d11-a03e-4d95-ac7a-25c491b6d763",
   "metadata": {},
   "outputs": [],
   "source": [
    "#0.indexi döndürür\n",
    "name[0]"
   ]
  },
  {
   "cell_type": "code",
   "execution_count": null,
   "id": "09d96c06-ed4f-4337-9b4e-68cf3e5b925e",
   "metadata": {},
   "outputs": [],
   "source": [
    "name[4]"
   ]
  },
  {
   "cell_type": "code",
   "execution_count": null,
   "id": "223b87d2-1816-4657-bb71-7dd970a9d509",
   "metadata": {},
   "outputs": [],
   "source": [
    "#sondan birinci indexi döndürür\n",
    "name[-1]"
   ]
  },
  {
   "cell_type": "code",
   "execution_count": null,
   "id": "8d5ae657-8813-43ad-963f-21f7560ca45e",
   "metadata": {},
   "outputs": [],
   "source": [
    "# dördüncü indexten son indexe kadar gider\n",
    "name[4:]"
   ]
  },
  {
   "cell_type": "code",
   "execution_count": null,
   "id": "715a488c-f834-4323-8f61-94b55863af10",
   "metadata": {},
   "outputs": [],
   "source": [
    "#sıfırıncı indexten yedinci indexe kadar alır (yedinci indexi dahil etmez)\n",
    "name[:7]"
   ]
  },
  {
   "cell_type": "code",
   "execution_count": null,
   "id": "3ceb8b8f-2b93-46af-bc27-29ed7c9f1fbb",
   "metadata": {},
   "outputs": [],
   "source": [
    "#dördüncü indexten yedinci indexe kadar alır (yedinci indexi dahil etmez)\n",
    "name[4:7]"
   ]
  },
  {
   "cell_type": "code",
   "execution_count": null,
   "id": "b1f48d29-af8e-4b0c-b716-b57439a43a3c",
   "metadata": {},
   "outputs": [],
   "source": [
    "name[:]"
   ]
  },
  {
   "cell_type": "code",
   "execution_count": null,
   "id": "4618a3d4-b6f2-4712-8c0c-ab2ee7fecf73",
   "metadata": {},
   "outputs": [],
   "source": [
    "name[::]"
   ]
  },
  {
   "cell_type": "code",
   "execution_count": null,
   "id": "81510d3e-b9bd-4398-b935-508ff8031c51",
   "metadata": {},
   "outputs": [],
   "source": [
    "# ikinci indexten dokuzuncu indexe kadar ikişer ikişer atlayarak alır\n",
    "name[2:9:2]"
   ]
  },
  {
   "cell_type": "code",
   "execution_count": null,
   "id": "8003c557-ccb5-4da8-972e-bc82319817b7",
   "metadata": {},
   "outputs": [],
   "source": [
    "name[::2]"
   ]
  },
  {
   "cell_type": "code",
   "execution_count": null,
   "id": "990e6b4a-fc56-4ced-973a-0d29c2c176c2",
   "metadata": {},
   "outputs": [],
   "source": [
    "name[::-1]"
   ]
  },
  {
   "cell_type": "markdown",
   "id": "170d8b5e-298c-4bf7-af56-185d8fa361c2",
   "metadata": {},
   "source": [
    "# Print Fonksiyonu"
   ]
  },
  {
   "cell_type": "code",
   "execution_count": null,
   "id": "d1e05679-433c-42bb-8cc2-4d2b7e6ef2d5",
   "metadata": {},
   "outputs": [],
   "source": [
    "#print fonksiyonu içerisindeki her şeyi sırasıyla yazdırır.\n",
    "print(\"Ahmet Emirhan GÜLEÇ\", 7, 16, 34)"
   ]
  },
  {
   "cell_type": "code",
   "execution_count": null,
   "id": "e238bc61-b217-4da6-81f8-76449dc424d1",
   "metadata": {},
   "outputs": [],
   "source": [
    "#\\n yeni bir satıra geçmek için kullanılır\n",
    "print(\"Antalya\\nBursa\\nİstanbul\")"
   ]
  },
  {
   "cell_type": "code",
   "execution_count": null,
   "id": "6719393a-aa0c-4e11-b03a-44040114a5f4",
   "metadata": {},
   "outputs": [],
   "source": [
    "print(\"\"\"Antalya\n",
    "Bursa\n",
    "İstanbul\"\"\")"
   ]
  },
  {
   "cell_type": "code",
   "execution_count": null,
   "id": "2c263ad6-6238-4e9f-8115-407e46fe276a",
   "metadata": {},
   "outputs": [],
   "source": [
    "#sep parametresi indexlerimizin arasına belirlediğimiz işareti koymamızı sağlar\n",
    "print(\"Antalya\", \"Bursa\", \"İstanbul\", 7, 16, 34, sep=\"\\n\")"
   ]
  },
  {
   "cell_type": "markdown",
   "id": "b075e2c3-e198-4d41-a75f-07b72bfc26e2",
   "metadata": {},
   "source": [
    "# Format Metodu"
   ]
  },
  {
   "cell_type": "code",
   "execution_count": null,
   "id": "8e7a4a9d-6e91-4fac-96cd-753dee2be3b1",
   "metadata": {},
   "outputs": [],
   "source": [
    "\"{}\".format(\"Merhaba\") "
   ]
  },
  {
   "cell_type": "code",
   "execution_count": null,
   "id": "4a168b44-6505-47af-a4b9-a246742cf703",
   "metadata": {},
   "outputs": [],
   "source": [
    "\"{} {}\".format(\"Merhaba\", \"Dünya!\")"
   ]
  },
  {
   "cell_type": "code",
   "execution_count": null,
   "id": "1a531458-d5eb-47dc-ace6-b2278564c966",
   "metadata": {},
   "outputs": [],
   "source": [
    "a = 2\n",
    "b = 3\n",
    "print(\"{} + {} eşittir {} \".format(a,b,a+b))"
   ]
  },
  {
   "cell_type": "code",
   "execution_count": null,
   "id": "00f72f15-c3c0-4ae0-a617-9db6c20d9857",
   "metadata": {},
   "outputs": [],
   "source": [
    "vize = 55\n",
    "final = 80"
   ]
  },
  {
   "cell_type": "code",
   "execution_count": null,
   "id": "4d21dcb6-2ea9-4825-a461-52e74a719f50",
   "metadata": {},
   "outputs": [],
   "source": [
    "f'Vize notu {vize} ve final notu {final}'"
   ]
  },
  {
   "cell_type": "code",
   "execution_count": null,
   "id": "8ce75739-c0b3-41cf-896f-23a5c3963221",
   "metadata": {},
   "outputs": [],
   "source": [
    "# format metodu kullanmadan olmadan yazmak istersek\n",
    "'Vize notu ' + str(vize) + ' ve final notu ' + str(final)"
   ]
  },
  {
   "cell_type": "code",
   "execution_count": null,
   "id": "9326897e-c45d-4c88-8b77-6c5280396ef2",
   "metadata": {},
   "outputs": [],
   "source": [
    "x = 3.234552346453634564356\n",
    "y = 4.342543534534534534534\n",
    "print(\"{:.2f} + {:.2f} eşittir{:.2f}\".format(x,y,x+y))"
   ]
  }
 ],
 "metadata": {
  "kernelspec": {
   "display_name": "Python 3 (ipykernel)",
   "language": "python",
   "name": "python3"
  },
  "language_info": {
   "codemirror_mode": {
    "name": "ipython",
    "version": 3
   },
   "file_extension": ".py",
   "mimetype": "text/x-python",
   "name": "python",
   "nbconvert_exporter": "python",
   "pygments_lexer": "ipython3",
   "version": "3.9.7"
  }
 },
 "nbformat": 4,
 "nbformat_minor": 5
}
