{
 "cells": [
  {
   "cell_type": "markdown",
   "id": "73d17f71-b044-4b5a-9ee7-b5fd2f971764",
   "metadata": {},
   "source": [
    "# Fonksiyonlar"
   ]
  },
  {
   "cell_type": "code",
   "execution_count": null,
   "id": "492ea94d-22e3-4dd4-9b21-b48357d82e59",
   "metadata": {},
   "outputs": [],
   "source": [
    "#Henüz bir fonksiyon tanımlamadığımız için hata alırız\n",
    "name()"
   ]
  },
  {
   "cell_type": "code",
   "execution_count": null,
   "id": "0a0770d5-4dd3-428d-8789-ee8b390f8da8",
   "metadata": {},
   "outputs": [],
   "source": [
    "#name() isimli bir fonksiyon tanımlıyoruz\n",
    "def name():\n",
    "    print(\"Emirhan Güleç\")"
   ]
  },
  {
   "cell_type": "code",
   "execution_count": null,
   "id": "9000cabf-24b2-4980-99ab-d8962b9e3b0c",
   "metadata": {},
   "outputs": [],
   "source": [
    "name()"
   ]
  },
  {
   "cell_type": "code",
   "execution_count": null,
   "id": "39cc0842-b861-42d3-9698-1458f507b9fa",
   "metadata": {},
   "outputs": [],
   "source": [
    "def name(x):\n",
    "    print(\"İsminiz: \" + x)"
   ]
  },
  {
   "cell_type": "code",
   "execution_count": null,
   "id": "e9370ad5-199d-478a-8c08-77f476f5768d",
   "metadata": {},
   "outputs": [],
   "source": [
    "name(\"Ali\")"
   ]
  },
  {
   "cell_type": "code",
   "execution_count": null,
   "id": "3078fd88-55d3-4c06-ac7c-a9b9ca4fb7dc",
   "metadata": {},
   "outputs": [],
   "source": [
    "#Fonksiyonumuzda birden fazla değer kullanılabilir.\n",
    "def lang(x, y):\n",
    "    print(y + \" ve \" + x)\n",
    "\n",
    "lang(\"Python\", \"R\")"
   ]
  },
  {
   "cell_type": "code",
   "execution_count": null,
   "id": "91997982-e890-419b-bb48-45357c744be7",
   "metadata": {},
   "outputs": [],
   "source": [
    "#Fonksiyonumuz bizden iki değer beklediği için hata verir.\n",
    "lang(\"R\")"
   ]
  },
  {
   "cell_type": "code",
   "execution_count": null,
   "id": "06f26f6d-d551-4b02-ba2a-c2f74ffc1e47",
   "metadata": {},
   "outputs": [],
   "source": [
    "import math\n",
    "#dairenin alanını hesaplayan bir fonksiyon. r=yarıçap\n",
    "def alan(r):\n",
    "    y = math.pi*math.pow(r,2)\n",
    "    print(y)"
   ]
  },
  {
   "cell_type": "code",
   "execution_count": null,
   "id": "40a46858-16c4-4e9e-9f10-af281a1f07c9",
   "metadata": {},
   "outputs": [],
   "source": [
    "alan(6)"
   ]
  },
  {
   "cell_type": "code",
   "execution_count": null,
   "id": "70ed5cef-3705-4f57-870a-73d3158246c1",
   "metadata": {},
   "outputs": [],
   "source": [
    "#return elde ettiğimiz değerleri fonksiyonun dışında da döndürmemize olanak sağlar\n",
    "def alan2(r):\n",
    "    y = math.pi*math.pow(r,2)\n",
    "    return y"
   ]
  },
  {
   "cell_type": "code",
   "execution_count": null,
   "id": "0f8d34a4-6898-4e8a-b2dd-59263f5b5a01",
   "metadata": {},
   "outputs": [],
   "source": [
    "alan2(10)"
   ]
  },
  {
   "cell_type": "code",
   "execution_count": null,
   "id": "0bd78528-ab8c-4d3d-aae5-d91ce560e9ee",
   "metadata": {},
   "outputs": [],
   "source": [
    "a = alan(10)"
   ]
  },
  {
   "cell_type": "code",
   "execution_count": null,
   "id": "14524fc1-369a-4bf6-a6f0-8eb1262e763a",
   "metadata": {},
   "outputs": [],
   "source": [
    "#İlk fonksiyonumuzda return kullanmadığımız için değerimiz None olarak döner.\n",
    "print(a)"
   ]
  },
  {
   "cell_type": "code",
   "execution_count": null,
   "id": "47879d57-abf3-49f8-921e-c5f80fe6e71e",
   "metadata": {},
   "outputs": [],
   "source": [
    "#İkinci fonksiyonumuzda return kullandığımız için elde ettiğimiz değeri fonksiyonumuzun dışında da kullanabiliriz.\n",
    "b = alan2(10)"
   ]
  },
  {
   "cell_type": "code",
   "execution_count": null,
   "id": "0533c9a0-abad-424a-b23f-1b4387cec387",
   "metadata": {},
   "outputs": [],
   "source": [
    "print(b)"
   ]
  },
  {
   "cell_type": "code",
   "execution_count": null,
   "id": "7b2e1bf1-7a5b-49be-b4b5-3e9cfbccf62f",
   "metadata": {},
   "outputs": [],
   "source": [
    "#Değişken sayımız belirsiz ise * koyarak args ile fonkiyonumuzun sınırsız değer almasını sağlayabiliriz.\n",
    "def lang(*args):\n",
    "    liste=[]\n",
    "    for i in args:\n",
    "        liste.append(i)\n",
    "    print(liste)"
   ]
  },
  {
   "cell_type": "code",
   "execution_count": null,
   "id": "de2423bb-ed96-4cdc-ac16-706a52bd46db",
   "metadata": {},
   "outputs": [],
   "source": [
    "lang(\"Pyhon\",\"R\")"
   ]
  },
  {
   "cell_type": "code",
   "execution_count": null,
   "id": "52ee8a2a-f95b-473f-9d5a-26a91c0db018",
   "metadata": {},
   "outputs": [],
   "source": [
    "lang(\"Pyhon\",\"R\",\"C\")"
   ]
  },
  {
   "cell_type": "code",
   "execution_count": null,
   "id": "8c87581e-c474-4536-888b-bd0702b5f7e9",
   "metadata": {},
   "outputs": [],
   "source": [
    "def lang(*args):\n",
    "    lang={}\n",
    "    counter=1\n",
    "    for i in args:\n",
    "        lang[counter] = i\n",
    "        counter += 1\n",
    "    print(lang)"
   ]
  },
  {
   "cell_type": "code",
   "execution_count": null,
   "id": "ecbc91ca-1405-4f21-a32c-13eb5b18ae4b",
   "metadata": {},
   "outputs": [],
   "source": [
    "lang(\"Pyhon\",\"R\",\"C\")"
   ]
  },
  {
   "cell_type": "code",
   "execution_count": null,
   "id": "02af86ad-dcec-44ef-ab61-61f2bcca2eb5",
   "metadata": {},
   "outputs": [],
   "source": [
    "#Yazdığımız tüm değerleri toplayacak, değer kısıtı olmayan bir fonksiyon\n",
    "def toplama(*args):\n",
    "    toplam = 0\n",
    "    for i in args:\n",
    "        toplam += i\n",
    "    return toplam\n",
    "a=toplama(1, 2, 3,6,8,435)\n",
    "print(a)"
   ]
  },
  {
   "cell_type": "code",
   "execution_count": null,
   "id": "de8192fb-383d-41df-b425-4fe55100877b",
   "metadata": {},
   "outputs": [],
   "source": [
    "#Kwargs ifadelerimizde key:value ilişkisi söz konusudur\n",
    "def psc(**kwargs):\n",
    "    print(\"Sıfırncı index \" + kwargs[\"x\"])\n",
    "    print(\"Birinci index \" + kwargs[\"y\"])\n",
    "  \n",
    "\n",
    "psc(x = \"Python\", y = \"Go\")"
   ]
  },
  {
   "cell_type": "code",
   "execution_count": null,
   "id": "e7bd2956-e3d3-4769-9733-a298911f8f5e",
   "metadata": {},
   "outputs": [],
   "source": [
    "def psc(z, y, x):\n",
    "    print(\"PSC \" + z)\n",
    "  \n",
    "psc(\"Python\",\"Club\",\"Students\")\n",
    "psc(x = \"Python\", z = \"Club\", y = \"Students\")"
   ]
  },
  {
   "cell_type": "code",
   "execution_count": null,
   "id": "e9186a32-ef9d-4c56-bddb-d24542a198d2",
   "metadata": {},
   "outputs": [],
   "source": [
    "#Recursion \n",
    "def toplamaislemi(x):\n",
    "    if(x > 0):\n",
    "        toplam = x + toplamaislemi(x - 1)\n",
    "    else:\n",
    "        toplam = 0\n",
    "    return toplam\n",
    "\n",
    "toplamaislemi(6)\n",
    "\n",
    "\n",
    "# toplamaislemi(6) = 6 + toplamaislemi(5)\n",
    "# toplamaislemi(5) = 5 + toplamaislemi(4)\n",
    "# toplamaislemi(4) = 4 + toplamaislemi(3)\n",
    "# toplamaislemi(3) = 3 + toplamaislemi(2)\n",
    "# toplamaislemi(2) = 2 + toplamaislemi(1)\n",
    "# toplamaislemi(1) = 1 + toplamaislemi(0)\n",
    "# toplamaislemi(0) = 0\n",
    "\n",
    "#6+(5+(4+(3+(2+(1+0)))))"
   ]
  },
  {
   "cell_type": "markdown",
   "id": "c341af9e-0db6-4880-bdd3-f8c564cedd9a",
   "metadata": {},
   "source": [
    "# Lambda"
   ]
  },
  {
   "cell_type": "code",
   "execution_count": null,
   "id": "82c1df2b-0461-4b8f-bffa-3d0a23dd9d34",
   "metadata": {},
   "outputs": [],
   "source": [
    "#def kullanarak üslü sayı hesaplama fonksiyonu oluşturuyoruz\n",
    "def usluSayi(x,y):\n",
    "    z = x**y\n",
    "    return z\n",
    "print(usluSayi(3,4))"
   ]
  },
  {
   "cell_type": "code",
   "execution_count": null,
   "id": "96e9a85b-8f09-49b1-a718-33038dfeac25",
   "metadata": {},
   "outputs": [],
   "source": [
    "#Yukarıda gerçekleştirdiğimiz işlemi Lambda yardımı ile daha hızlı bir şekilde gerçekleştiriyoruz.\n",
    "usluSayi2 = lambda x,y: x**y\n",
    "print(usluSayi(3,4))"
   ]
  },
  {
   "cell_type": "code",
   "execution_count": null,
   "id": "4f6ec9bb-5e57-445f-836b-b892531eab8c",
   "metadata": {},
   "outputs": [],
   "source": [
    "x = lambda a : a + 10\n",
    "print(x(5))"
   ]
  },
  {
   "cell_type": "code",
   "execution_count": null,
   "id": "f59f7768-e77e-40f9-9d60-53e5ba106c48",
   "metadata": {},
   "outputs": [],
   "source": [
    "def toplam(a):\n",
    "    print(a + 10)\n",
    "toplam(5)"
   ]
  },
  {
   "cell_type": "code",
   "execution_count": null,
   "id": "aad31316-69fb-472e-8f40-2a1aa791f562",
   "metadata": {},
   "outputs": [],
   "source": [
    "x = lambda a, b : a * b\n",
    "print(x(5, 6))"
   ]
  },
  {
   "cell_type": "code",
   "execution_count": null,
   "id": "98932561-d2ba-47c0-9b27-54545a592121",
   "metadata": {},
   "outputs": [],
   "source": [
    "#Lambda içerisinde if&else gibi yapıları da kullanabiliriz\n",
    "test = lambda x : \"Pozitif\" if (x > 0) else \"Negatif\"\n",
    "print(test(3))\n",
    "print(test(-3))\n",
    "print(test(0))"
   ]
  },
  {
   "cell_type": "code",
   "execution_count": null,
   "id": "9133cc5c-ddaa-4d00-ad50-3dddb2ad477a",
   "metadata": {},
   "outputs": [],
   "source": [
    "#Lambda fonksiyonu içinde elif kullanmamız gerekirse, else durumunda yeni bir if oluşturmamız gerekiyor\n",
    "test = lambda x : \"Pozitif\" if (x > 0) else (\"Nötr\" if (x==0) else \"Negatif\")\n",
    "print(test(3))\n",
    "print(test(-3))\n",
    "print(test(0))"
   ]
  },
  {
   "cell_type": "code",
   "execution_count": null,
   "id": "05c61e8e-5436-4d90-a335-eee0804e9c2a",
   "metadata": {},
   "outputs": [],
   "source": [
    "def psc(n):\n",
    "    return lambda a : a * 2\n",
    "\n",
    "x = psc(2) # x= lambda a:a*2\n",
    "\n",
    "print(x(11)) # a=11 olarak verildi o yüzden a*2 =22 olarak ekrana çıktı verecektir"
   ]
  },
  {
   "cell_type": "code",
   "execution_count": null,
   "id": "80125e52-2dc8-4476-8f2f-6cc21577d38e",
   "metadata": {},
   "outputs": [],
   "source": [
    "def toplam(x):\n",
    "    a = x *5\n",
    "    return a"
   ]
  },
  {
   "cell_type": "code",
   "execution_count": null,
   "id": "d5c65241-9084-4c71-8307-250198a37c21",
   "metadata": {},
   "outputs": [],
   "source": [
    "sonuc = toplam(5)"
   ]
  },
  {
   "cell_type": "code",
   "execution_count": null,
   "id": "39b0a692-dc1f-471d-938f-0bc1b9de5fe4",
   "metadata": {},
   "outputs": [],
   "source": [
    "sonuc"
   ]
  },
  {
   "cell_type": "code",
   "execution_count": null,
   "id": "e9dbec0d-1084-4e53-b4b4-ed18c000e4d8",
   "metadata": {},
   "outputs": [],
   "source": [
    "def toplam2(x):\n",
    "    a = x *5"
   ]
  },
  {
   "cell_type": "code",
   "execution_count": null,
   "id": "f5fe1cf2-7a49-4489-be57-24516d635659",
   "metadata": {},
   "outputs": [],
   "source": [
    "sonuc = toplam2(5)"
   ]
  },
  {
   "cell_type": "code",
   "execution_count": null,
   "id": "c699f973-465c-4f7b-8899-0ad7f5aad32d",
   "metadata": {},
   "outputs": [],
   "source": [
    "print(sonuc)"
   ]
  }
 ],
 "metadata": {
  "kernelspec": {
   "display_name": "Python 3 (ipykernel)",
   "language": "python",
   "name": "python3"
  },
  "language_info": {
   "codemirror_mode": {
    "name": "ipython",
    "version": 3
   },
   "file_extension": ".py",
   "mimetype": "text/x-python",
   "name": "python",
   "nbconvert_exporter": "python",
   "pygments_lexer": "ipython3",
   "version": "3.9.7"
  }
 },
 "nbformat": 4,
 "nbformat_minor": 5
}
