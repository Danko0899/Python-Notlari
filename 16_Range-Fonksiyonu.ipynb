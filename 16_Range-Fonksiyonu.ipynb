{
 "cells": [
  {
   "cell_type": "markdown",
   "id": "757bf5e2-493b-4719-aab8-c30c3b72c466",
   "metadata": {},
   "source": [
    "# Range"
   ]
  },
  {
   "cell_type": "code",
   "execution_count": null,
   "id": "9df4b84b-fc98-4782-bb48-5778d8c0ad91",
   "metadata": {},
   "outputs": [],
   "source": [
    "# 0,1,2,3,4\n",
    "x = range(5)"
   ]
  },
  {
   "cell_type": "code",
   "execution_count": null,
   "id": "ab6b8550-7373-44a5-9450-4491e2e988d2",
   "metadata": {},
   "outputs": [],
   "source": [
    "x"
   ]
  },
  {
   "cell_type": "code",
   "execution_count": null,
   "id": "6435e28e-a044-4549-9905-905ebadc0c11",
   "metadata": {},
   "outputs": [],
   "source": [
    "for x in range(5):\n",
    "    print(x)"
   ]
  },
  {
   "cell_type": "code",
   "execution_count": null,
   "id": "7e9d06ee-0cff-421c-a7e6-d26fb79e7829",
   "metadata": {},
   "outputs": [],
   "source": [
    "#2 den başlayarak 4(dahil) e kadar olan elamanları sırasıyla ekrana yazdırır\n",
    "for x in range(2,5):\n",
    "    print(x)"
   ]
  },
  {
   "cell_type": "code",
   "execution_count": null,
   "id": "8c7d31b1-f5b2-4d61-a900-1114ad4ca511",
   "metadata": {},
   "outputs": [],
   "source": [
    "#0 dan başlayarak 70(dahil değil) e kadar olan elamanları 17 elemanda bir sırasıyla ekrana yazdırır\n",
    "for i in range(0, 71, 10):\n",
    "    print(i)"
   ]
  },
  {
   "cell_type": "code",
   "execution_count": null,
   "id": "20457626-b6f4-49c2-92c6-a1a2642f8932",
   "metadata": {},
   "outputs": [],
   "source": [
    "liste=[\"Python\",\"Go\",\"Java\",\"SQL\",\"R\"]\n",
    "for i in range(5): #0,1,2,3,4\n",
    "    print(liste[i])"
   ]
  },
  {
   "cell_type": "code",
   "execution_count": null,
   "id": "5b657902-0826-4f7c-a6bd-9f1156ba46e5",
   "metadata": {},
   "outputs": [],
   "source": [
    "#python range() fonksiyonu ondalık sayıları desteklememektedir.\n",
    "for i in range(9.3):\n",
    "    print(i)"
   ]
  },
  {
   "cell_type": "code",
   "execution_count": null,
   "id": "415e35db-0ca9-4fae-85c8-d152857af6de",
   "metadata": {},
   "outputs": [],
   "source": [
    "for i in range(int(9.3)):\n",
    "    print(i)"
   ]
  },
  {
   "cell_type": "code",
   "execution_count": null,
   "id": "4a42f3b1-efd6-417e-b4b2-7bd3b8cf563b",
   "metadata": {},
   "outputs": [],
   "source": [
    "toplam=0\n",
    "for i in range(5): #(0,1,2,3,4,5,6,7,8,9)\n",
    "    toplam=toplam+i\n",
    "\n",
    "print(\"Sayıların toplamı {}\".format(toplam))"
   ]
  }
 ],
 "metadata": {
  "kernelspec": {
   "display_name": "Python 3 (ipykernel)",
   "language": "python",
   "name": "python3"
  },
  "language_info": {
   "codemirror_mode": {
    "name": "ipython",
    "version": 3
   },
   "file_extension": ".py",
   "mimetype": "text/x-python",
   "name": "python",
   "nbconvert_exporter": "python",
   "pygments_lexer": "ipython3",
   "version": "3.9.7"
  }
 },
 "nbformat": 4,
 "nbformat_minor": 5
}
