{
 "cells": [
  {
   "cell_type": "code",
   "execution_count": null,
   "id": "54c03136-fc95-4514-be7d-9df32636bb64",
   "metadata": {},
   "outputs": [],
   "source": [
    "import random"
   ]
  },
  {
   "cell_type": "code",
   "execution_count": null,
   "id": "3eb5778a-cd5c-47e0-83dd-b981ff8a7986",
   "metadata": {},
   "outputs": [],
   "source": [
    "#Sayı tahmini uygulaması\n",
    "\n",
    "#Listemizi range() yardımı ile oluşturuyoruz [0,1,2,3,4,5...17,18,19]\n",
    "x = list(range(20))\n",
    "\n",
    "#Kullanıcılara tanımlayacak olduğumuz hakları counter içinde tutuyoruz\n",
    "counter = 3\n",
    "\n",
    "while True:\n",
    "    print(x)\n",
    "    tahmin = int(input(\"Tahmininizi giriniz\"))\n",
    "    #random.choice() yardımı ile x listesi içinden rastgele bir seçim yapıyoruz\n",
    "    dogru_sayi = random.choice(x)\n",
    "    \n",
    "    if dogru_sayi == tahmin:\n",
    "        print(\"Tebrikler doğru cevap.\")\n",
    "        break\n",
    "        \n",
    "    elif dogru_sayi != tahmin:\n",
    "        print(f\"Cevap Hatalı!, doğru cevap {dogru_sayi}\")\n",
    "        #her hatalı cevapta hakkımız bir azalıyor\n",
    "        counter -= 1\n",
    "        \n",
    "    #deneme hakkımız sıfır olunca fonksiyonu durduruyor\n",
    "    if counter == 0:\n",
    "        break   "
   ]
  },
  {
   "cell_type": "code",
   "execution_count": null,
   "id": "a87ce6c3-e4c4-42c5-8e92-5db2d63a0c9b",
   "metadata": {},
   "outputs": [],
   "source": [
    "#Kullanıcı giriş örneği\n",
    "\n",
    "sys_kullanici = \"Emirhan\"\n",
    "sys_sifre = \"1234\"\n",
    "while True:\n",
    "    kullanici = input(\"Kullanıcı Adınızı Giriniz:\")\n",
    "    sifre = input(\"Şifrenizi Giriniz\")\n",
    "    \n",
    "    if sys_kullanici == kullanici and sys_sifre == sifre:\n",
    "        print(\"Giriş Yaptınız\")\n",
    "    elif sys_kullanici == kullanici and sys_sifre != sifre:\n",
    "        print(\"Şifre Yanlış\")\n",
    "    elif sys_kullanici != kullanici and sys_sifre == sifre:\n",
    "        print(\"Kullanıcı adı yanlış\")\n",
    "    else:\n",
    "        print(\"Böyle bir kullanıcı bulunmamaktadır\")"
   ]
  },
  {
   "cell_type": "code",
   "execution_count": null,
   "id": "8a597eee-d844-41c7-9aee-f4fd98ebdd65",
   "metadata": {},
   "outputs": [],
   "source": [
    "#if yapısı için oluşturulmuş bir örnek\n",
    "liste = {1: \"Python\", 2:\"Go\", 3:\"Swift\"}\n",
    "\n",
    "for i in liste.keys():\n",
    "    if i !=2:\n",
    "        print(\"Farklı\")\n",
    "    elif i == 2:\n",
    "        print(\"Go\")"
   ]
  },
  {
   "cell_type": "code",
   "execution_count": null,
   "id": "e0ac349c-6720-47a0-8bb3-e82834413bae",
   "metadata": {},
   "outputs": [],
   "source": [
    "a = list(\"Emirhan\")"
   ]
  },
  {
   "cell_type": "code",
   "execution_count": null,
   "id": "78d62751-feff-4b39-9c0f-091e6deecc38",
   "metadata": {},
   "outputs": [],
   "source": [
    "a"
   ]
  },
  {
   "cell_type": "code",
   "execution_count": null,
   "id": "fe34f68f-208e-45e3-b5e5-145487647da8",
   "metadata": {},
   "outputs": [],
   "source": [
    "b = list(a)"
   ]
  },
  {
   "cell_type": "code",
   "execution_count": null,
   "id": "b6ce334d-d4ed-4e06-8d58-61ea410efc33",
   "metadata": {},
   "outputs": [],
   "source": [
    "b = [1,2,3,4,5]"
   ]
  },
  {
   "cell_type": "code",
   "execution_count": null,
   "id": "171d5efe-2ca1-4972-a0c2-ca14edc5bf0f",
   "metadata": {},
   "outputs": [],
   "source": [
    "c = a + b"
   ]
  },
  {
   "cell_type": "code",
   "execution_count": null,
   "id": "5f70040e-4975-4e90-b7d6-49860f5b6833",
   "metadata": {},
   "outputs": [],
   "source": [
    "c"
   ]
  },
  {
   "cell_type": "code",
   "execution_count": null,
   "id": "12a0f5a7-9e8b-4b31-ab9a-0fc835e7d294",
   "metadata": {},
   "outputs": [],
   "source": [
    "c[0:7]"
   ]
  },
  {
   "cell_type": "code",
   "execution_count": null,
   "id": "7d0ab0a0-578e-48a8-a896-f5b2fdfdf4e2",
   "metadata": {},
   "outputs": [],
   "source": [
    "c += [\"Mehmet\"]"
   ]
  },
  {
   "cell_type": "code",
   "execution_count": null,
   "id": "ce2fee5c-ced5-487b-80f4-aab808a7aa73",
   "metadata": {},
   "outputs": [],
   "source": [
    "c"
   ]
  },
  {
   "cell_type": "code",
   "execution_count": null,
   "id": "314759c0-c614-4dee-a3c5-dd50c699b472",
   "metadata": {},
   "outputs": [],
   "source": [
    "c += 2"
   ]
  },
  {
   "cell_type": "code",
   "execution_count": null,
   "id": "0c04b4e6-edc1-4c39-9026-7a43f36ec2e1",
   "metadata": {},
   "outputs": [],
   "source": [
    "len(c)"
   ]
  },
  {
   "cell_type": "code",
   "execution_count": null,
   "id": "98b9a569-c4b8-4441-9e16-24d75abe700f",
   "metadata": {},
   "outputs": [],
   "source": [
    "c.pop(7)"
   ]
  },
  {
   "cell_type": "code",
   "execution_count": null,
   "id": "0f7c2e49-575f-4b94-9434-7c2d9a4188f4",
   "metadata": {},
   "outputs": [],
   "source": [
    "c"
   ]
  },
  {
   "cell_type": "code",
   "execution_count": null,
   "id": "2480b36e-5e61-4eb5-8b84-01e31f306dac",
   "metadata": {},
   "outputs": [],
   "source": [
    "c.remove(3)"
   ]
  },
  {
   "cell_type": "code",
   "execution_count": null,
   "id": "1f236d5a-0d58-4e7a-bb19-92a732fabdad",
   "metadata": {},
   "outputs": [],
   "source": [
    "c"
   ]
  },
  {
   "cell_type": "code",
   "execution_count": null,
   "id": "152deef5-91bc-4ce5-8ec6-4d1480c06891",
   "metadata": {},
   "outputs": [],
   "source": [
    "c.append(2)"
   ]
  },
  {
   "cell_type": "code",
   "execution_count": null,
   "id": "501b4010-2da6-40a5-85f9-6926623f3e31",
   "metadata": {},
   "outputs": [],
   "source": [
    "c"
   ]
  },
  {
   "cell_type": "code",
   "execution_count": null,
   "id": "acae1ea2-66a3-4d76-8ea1-dd776ca369f7",
   "metadata": {},
   "outputs": [],
   "source": [
    "c.append(2)"
   ]
  },
  {
   "cell_type": "code",
   "execution_count": null,
   "id": "cf412e74-367f-4e51-90ad-aeb58d5db09d",
   "metadata": {},
   "outputs": [],
   "source": [
    "c"
   ]
  },
  {
   "cell_type": "code",
   "execution_count": null,
   "id": "3348c1e1-d46c-4edb-a60c-d7fa1bd89394",
   "metadata": {},
   "outputs": [],
   "source": [
    "c.count(2)"
   ]
  },
  {
   "cell_type": "code",
   "execution_count": null,
   "id": "df1dc8a5-588d-47c5-92a8-eeecad0e9b5a",
   "metadata": {},
   "outputs": [],
   "source": [
    "c.remove(2)"
   ]
  },
  {
   "cell_type": "code",
   "execution_count": null,
   "id": "7802bbec-4d03-487b-979a-e0a6203014ed",
   "metadata": {},
   "outputs": [],
   "source": [
    "c"
   ]
  },
  {
   "cell_type": "code",
   "execution_count": null,
   "id": "c1fef76e-2658-4c6e-8c74-cbab28f24335",
   "metadata": {},
   "outputs": [],
   "source": [
    "c.remove(\"Mehmet\")"
   ]
  },
  {
   "cell_type": "code",
   "execution_count": null,
   "id": "eb50320c-bb40-46d3-aed1-ec9d0b5db62f",
   "metadata": {},
   "outputs": [],
   "source": [
    "c"
   ]
  },
  {
   "cell_type": "code",
   "execution_count": null,
   "id": "917c4b55-635d-4449-bdfd-12453e2c07e5",
   "metadata": {},
   "outputs": [],
   "source": [
    "c.remove(\"Ali\")"
   ]
  }
 ],
 "metadata": {
  "kernelspec": {
   "display_name": "Python 3 (ipykernel)",
   "language": "python",
   "name": "python3"
  },
  "language_info": {
   "codemirror_mode": {
    "name": "ipython",
    "version": 3
   },
   "file_extension": ".py",
   "mimetype": "text/x-python",
   "name": "python",
   "nbconvert_exporter": "python",
   "pygments_lexer": "ipython3",
   "version": "3.9.7"
  }
 },
 "nbformat": 4,
 "nbformat_minor": 5
}
