{
 "cells": [
  {
   "cell_type": "markdown",
   "id": "aded1c52-51c2-4de0-baa3-fa32bf37603c",
   "metadata": {
    "tags": []
   },
   "source": [
    "### Toplama (+)"
   ]
  },
  {
   "cell_type": "code",
   "execution_count": null,
   "id": "f9a2efd5-1262-4ab8-8255-34e18ed8138a",
   "metadata": {},
   "outputs": [],
   "source": [
    "4+4"
   ]
  },
  {
   "cell_type": "code",
   "execution_count": null,
   "id": "871d156f-b2f6-4a8c-b291-0656db9a79ec",
   "metadata": {},
   "outputs": [],
   "source": [
    "7.5+8"
   ]
  },
  {
   "cell_type": "code",
   "execution_count": null,
   "id": "e6e81030-cec0-4067-a9ba-e16a5e18f414",
   "metadata": {},
   "outputs": [],
   "source": [
    "234 + 345"
   ]
  },
  {
   "cell_type": "markdown",
   "id": "f731aa09-f4e9-42d7-b172-02f1db2c77ff",
   "metadata": {},
   "source": [
    "### Çıkartma (-)"
   ]
  },
  {
   "cell_type": "code",
   "execution_count": null,
   "id": "617d29b8-fdc7-4b8c-9615-e74464f87207",
   "metadata": {},
   "outputs": [],
   "source": [
    "15-2"
   ]
  },
  {
   "cell_type": "code",
   "execution_count": null,
   "id": "b5222bbb-6d1e-433a-833b-17898d048c1c",
   "metadata": {},
   "outputs": [],
   "source": [
    "16-32"
   ]
  },
  {
   "cell_type": "code",
   "execution_count": null,
   "id": "ce8d598f-0b97-4e21-99fc-4c0adcdd763b",
   "metadata": {},
   "outputs": [],
   "source": [
    "4.5-1.5"
   ]
  },
  {
   "cell_type": "markdown",
   "id": "26c7a850-c0ee-47a3-be6a-9824dce66fda",
   "metadata": {},
   "source": [
    "### Çarpma (*)"
   ]
  },
  {
   "cell_type": "code",
   "execution_count": null,
   "id": "bec03f75-9599-40d7-9015-519d46e467ad",
   "metadata": {},
   "outputs": [],
   "source": [
    "2*2"
   ]
  },
  {
   "cell_type": "code",
   "execution_count": null,
   "id": "8f541336-29af-4530-af61-db53a858b0b9",
   "metadata": {},
   "outputs": [],
   "source": [
    "3*3"
   ]
  },
  {
   "cell_type": "code",
   "execution_count": null,
   "id": "5d71c622-c130-40af-87f2-064ffea7c3a0",
   "metadata": {},
   "outputs": [],
   "source": [
    "15*3"
   ]
  },
  {
   "cell_type": "markdown",
   "id": "a8584e1a-412b-44b2-8260-6665194d0a8f",
   "metadata": {},
   "source": [
    "### Bölme (/)"
   ]
  },
  {
   "cell_type": "code",
   "execution_count": null,
   "id": "5a89b4ac-d019-4526-8661-a8b9f292fb98",
   "metadata": {},
   "outputs": [],
   "source": [
    "15/3"
   ]
  },
  {
   "cell_type": "code",
   "execution_count": null,
   "id": "f64ebbfb-eb3c-4de0-a5d0-1bbbde269875",
   "metadata": {},
   "outputs": [],
   "source": [
    "6/4"
   ]
  },
  {
   "cell_type": "code",
   "execution_count": null,
   "id": "1a95bcbd-3206-4fce-b134-8b783e32e342",
   "metadata": {},
   "outputs": [],
   "source": [
    "400/3"
   ]
  },
  {
   "cell_type": "markdown",
   "id": "cbf15dfe-c505-4317-9eca-a763d00c7979",
   "metadata": {},
   "source": [
    "### Üslü işlemler (**)"
   ]
  },
  {
   "cell_type": "code",
   "execution_count": null,
   "id": "eb15f640-ff4a-4709-9bbc-6fdf90d66458",
   "metadata": {},
   "outputs": [],
   "source": [
    "2**3"
   ]
  },
  {
   "cell_type": "code",
   "execution_count": null,
   "id": "9a1e7f15-008d-4413-9242-3d028cf13c14",
   "metadata": {},
   "outputs": [],
   "source": [
    "5**6"
   ]
  },
  {
   "cell_type": "code",
   "execution_count": null,
   "id": "33b8abd0-7b7b-4295-ab99-810c6b8d73d5",
   "metadata": {},
   "outputs": [],
   "source": [
    "4**2"
   ]
  },
  {
   "cell_type": "markdown",
   "id": "50ea1de2-02f8-4fae-aa1a-a2c7a648b231",
   "metadata": {},
   "source": [
    "## Tamsayı Böleni(//)"
   ]
  },
  {
   "cell_type": "code",
   "execution_count": null,
   "id": "b2a9493d-b4b1-482a-afa1-3b1e18c22d02",
   "metadata": {},
   "outputs": [],
   "source": [
    "15//2"
   ]
  },
  {
   "cell_type": "code",
   "execution_count": null,
   "id": "404b2b62-169c-47f2-8c5e-8e58d572e724",
   "metadata": {},
   "outputs": [],
   "source": [
    "14//2"
   ]
  },
  {
   "cell_type": "code",
   "execution_count": null,
   "id": "397d6b77-4233-45ab-abdf-740415a5df12",
   "metadata": {},
   "outputs": [],
   "source": [
    "18//4"
   ]
  },
  {
   "cell_type": "markdown",
   "id": "f0afaf18-7542-44dd-bb1d-d1fd524bc19b",
   "metadata": {},
   "source": [
    "### Mod alma (Bölümünden Kalanı Bulma) (%)"
   ]
  },
  {
   "cell_type": "code",
   "execution_count": null,
   "id": "bb29d86c-e65f-478d-9731-16acdfb70e03",
   "metadata": {},
   "outputs": [],
   "source": [
    "15%2"
   ]
  },
  {
   "cell_type": "code",
   "execution_count": null,
   "id": "e1f414d5-d5fe-40bc-ab83-f4317b4a4b74",
   "metadata": {},
   "outputs": [],
   "source": [
    "14%2"
   ]
  },
  {
   "cell_type": "code",
   "execution_count": null,
   "id": "f8c25f24-f9bf-4ca1-8d5f-564a27ae8c0e",
   "metadata": {},
   "outputs": [],
   "source": [
    "18%4"
   ]
  },
  {
   "cell_type": "markdown",
   "id": "571d76a7-c8ed-455b-a60e-b7fcc35600a0",
   "metadata": {},
   "source": [
    "### İşlem önceliği\n",
    "Matematiksel işlemlerde işlem önceliği tıpkı matematikte olduğu gibidir.\n",
    "Öncelikli olmasını istediğimiz işlemleri parantez içinde belirtebiliriz."
   ]
  },
  {
   "cell_type": "code",
   "execution_count": null,
   "id": "d96a40b5-9812-42d3-9341-66ecb47d489e",
   "metadata": {},
   "outputs": [],
   "source": [
    "2+3*2"
   ]
  },
  {
   "cell_type": "code",
   "execution_count": null,
   "id": "614f4d18-2d22-4fe9-8590-bd0c5d8ac360",
   "metadata": {},
   "outputs": [],
   "source": [
    "2*3**2"
   ]
  },
  {
   "cell_type": "code",
   "execution_count": null,
   "id": "50cd1a4e-25b0-4c6d-b8b9-8a414ff7ab87",
   "metadata": {},
   "outputs": [],
   "source": [
    "(2+2)*5"
   ]
  }
 ],
 "metadata": {
  "kernelspec": {
   "display_name": "Python 3 (ipykernel)",
   "language": "python",
   "name": "python3"
  },
  "language_info": {
   "codemirror_mode": {
    "name": "ipython",
    "version": 3
   },
   "file_extension": ".py",
   "mimetype": "text/x-python",
   "name": "python",
   "nbconvert_exporter": "python",
   "pygments_lexer": "ipython3",
   "version": "3.9.7"
  }
 },
 "nbformat": 4,
 "nbformat_minor": 5
}
